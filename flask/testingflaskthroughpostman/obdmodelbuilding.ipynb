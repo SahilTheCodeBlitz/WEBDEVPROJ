{
  "cells": [
    {
      "cell_type": "code",
      "execution_count": 3,
      "metadata": {
        "id": "9xriBZ9FFg4w"
      },
      "outputs": [],
      "source": [
        "import numpy as np\n",
        "import pandas as pd\n",
        "import matplotlib.pyplot as plt"
      ]
    },
    {
      "cell_type": "code",
      "execution_count": null,
      "metadata": {
        "id": "UAvamVRmv_Af"
      },
      "outputs": [],
      "source": []
    },
    {
      "cell_type": "code",
      "execution_count": 4,
      "metadata": {
        "id": "2ro573xkH0LP"
      },
      "outputs": [],
      "source": [
        "# importing the dataset\n",
        "\n",
        "# dataset link = https://www.kaggle.com/code/dommatap/obd-exploratory-data-analysis/input\n",
        "\n",
        "df =  pd.read_excel('C:/Users/Vedanshu/Downloads/archive/TestData.xlsx')"
      ]
    },
    {
      "cell_type": "code",
      "execution_count": 5,
      "metadata": {
        "colab": {
          "base_uri": "https://localhost:8080/",
          "height": 342
        },
        "id": "4PRclASRJNbJ",
        "outputId": "1c3e6e1a-9a1b-45ae-9b62-bd3376c0640b"
      },
      "outputs": [
        {
          "data": {
            "text/html": [
              "<div>\n",
              "<style scoped>\n",
              "    .dataframe tbody tr th:only-of-type {\n",
              "        vertical-align: middle;\n",
              "    }\n",
              "\n",
              "    .dataframe tbody tr th {\n",
              "        vertical-align: top;\n",
              "    }\n",
              "\n",
              "    .dataframe thead th {\n",
              "        text-align: right;\n",
              "    }\n",
              "</style>\n",
              "<table border=\"1\" class=\"dataframe\">\n",
              "  <thead>\n",
              "    <tr style=\"text-align: right;\">\n",
              "      <th></th>\n",
              "      <th>TIMESTAMP</th>\n",
              "      <th>MAKE</th>\n",
              "      <th>MODEL</th>\n",
              "      <th>CAR_YEAR</th>\n",
              "      <th>ENGINE_POWER</th>\n",
              "      <th>AUTOMATIC</th>\n",
              "      <th>VEHICLE_ID</th>\n",
              "      <th>BAROMETRIC_PRESSURE(KPA)</th>\n",
              "      <th>ENGINE_COOLANT_TEMP</th>\n",
              "      <th>FUEL_LEVEL</th>\n",
              "      <th>...</th>\n",
              "      <th>THROTTLE_POS</th>\n",
              "      <th>DTC_NUMBER</th>\n",
              "      <th>TROUBLE_CODES</th>\n",
              "      <th>TIMING_ADVANCE</th>\n",
              "      <th>EQUIV_RATIO</th>\n",
              "      <th>MIN</th>\n",
              "      <th>HOURS</th>\n",
              "      <th>DAYS_OF_WEEK</th>\n",
              "      <th>MONTHS</th>\n",
              "      <th>YEAR</th>\n",
              "    </tr>\n",
              "  </thead>\n",
              "  <tbody>\n",
              "    <tr>\n",
              "      <th>0</th>\n",
              "      <td>1502902504267</td>\n",
              "      <td>chevrolet</td>\n",
              "      <td>agile</td>\n",
              "      <td>2011.0</td>\n",
              "      <td>1.4</td>\n",
              "      <td>n</td>\n",
              "      <td>car1</td>\n",
              "      <td>100.0</td>\n",
              "      <td>80.0</td>\n",
              "      <td>0.486</td>\n",
              "      <td>...</td>\n",
              "      <td>0.251</td>\n",
              "      <td>MIL is OFF0 codes</td>\n",
              "      <td>NaN</td>\n",
              "      <td>0.569</td>\n",
              "      <td>0.01</td>\n",
              "      <td>13.0</td>\n",
              "      <td>16.0</td>\n",
              "      <td>2.0</td>\n",
              "      <td>8.0</td>\n",
              "      <td>2017.0</td>\n",
              "    </tr>\n",
              "    <tr>\n",
              "      <th>1</th>\n",
              "      <td>1502902512283</td>\n",
              "      <td>chevrolet</td>\n",
              "      <td>agile</td>\n",
              "      <td>2011.0</td>\n",
              "      <td>1.4</td>\n",
              "      <td>n</td>\n",
              "      <td>car1</td>\n",
              "      <td>100.0</td>\n",
              "      <td>80.0</td>\n",
              "      <td>0.486</td>\n",
              "      <td>...</td>\n",
              "      <td>0.251</td>\n",
              "      <td>MIL is OFF0 codes</td>\n",
              "      <td>NaN</td>\n",
              "      <td>0.565</td>\n",
              "      <td>0.01</td>\n",
              "      <td>13.0</td>\n",
              "      <td>16.0</td>\n",
              "      <td>2.0</td>\n",
              "      <td>8.0</td>\n",
              "      <td>2017.0</td>\n",
              "    </tr>\n",
              "    <tr>\n",
              "      <th>2</th>\n",
              "      <td>1502902520291</td>\n",
              "      <td>chevrolet</td>\n",
              "      <td>agile</td>\n",
              "      <td>2011.0</td>\n",
              "      <td>1.4</td>\n",
              "      <td>n</td>\n",
              "      <td>car1</td>\n",
              "      <td>100.0</td>\n",
              "      <td>80.0</td>\n",
              "      <td>0.486</td>\n",
              "      <td>...</td>\n",
              "      <td>0.251</td>\n",
              "      <td>MIL is OFF0 codes</td>\n",
              "      <td>NaN</td>\n",
              "      <td>0.573</td>\n",
              "      <td>0.01</td>\n",
              "      <td>13.0</td>\n",
              "      <td>16.0</td>\n",
              "      <td>2.0</td>\n",
              "      <td>8.0</td>\n",
              "      <td>2017.0</td>\n",
              "    </tr>\n",
              "    <tr>\n",
              "      <th>3</th>\n",
              "      <td>1502902528300</td>\n",
              "      <td>chevrolet</td>\n",
              "      <td>agile</td>\n",
              "      <td>2011.0</td>\n",
              "      <td>1.4</td>\n",
              "      <td>n</td>\n",
              "      <td>car1</td>\n",
              "      <td>100.0</td>\n",
              "      <td>80.0</td>\n",
              "      <td>0.486</td>\n",
              "      <td>...</td>\n",
              "      <td>0.251</td>\n",
              "      <td>MIL is OFF0 codes</td>\n",
              "      <td>NaN</td>\n",
              "      <td>0.565</td>\n",
              "      <td>0.01</td>\n",
              "      <td>13.0</td>\n",
              "      <td>16.0</td>\n",
              "      <td>2.0</td>\n",
              "      <td>8.0</td>\n",
              "      <td>2017.0</td>\n",
              "    </tr>\n",
              "    <tr>\n",
              "      <th>4</th>\n",
              "      <td>1502902536320</td>\n",
              "      <td>chevrolet</td>\n",
              "      <td>agile</td>\n",
              "      <td>2011.0</td>\n",
              "      <td>1.4</td>\n",
              "      <td>n</td>\n",
              "      <td>car1</td>\n",
              "      <td>100.0</td>\n",
              "      <td>80.0</td>\n",
              "      <td>0.486</td>\n",
              "      <td>...</td>\n",
              "      <td>0.251</td>\n",
              "      <td>MIL is OFF0 codes</td>\n",
              "      <td>NaN</td>\n",
              "      <td>0.569</td>\n",
              "      <td>0.01</td>\n",
              "      <td>13.0</td>\n",
              "      <td>16.0</td>\n",
              "      <td>2.0</td>\n",
              "      <td>8.0</td>\n",
              "      <td>2017.0</td>\n",
              "    </tr>\n",
              "  </tbody>\n",
              "</table>\n",
              "<p>5 rows × 33 columns</p>\n",
              "</div>"
            ],
            "text/plain": [
              "       TIMESTAMP       MAKE  MODEL  CAR_YEAR  ENGINE_POWER AUTOMATIC  \\\n",
              "0  1502902504267  chevrolet  agile    2011.0           1.4         n   \n",
              "1  1502902512283  chevrolet  agile    2011.0           1.4         n   \n",
              "2  1502902520291  chevrolet  agile    2011.0           1.4         n   \n",
              "3  1502902528300  chevrolet  agile    2011.0           1.4         n   \n",
              "4  1502902536320  chevrolet  agile    2011.0           1.4         n   \n",
              "\n",
              "  VEHICLE_ID  BAROMETRIC_PRESSURE(KPA)  ENGINE_COOLANT_TEMP  FUEL_LEVEL  ...  \\\n",
              "0       car1                     100.0                 80.0       0.486  ...   \n",
              "1       car1                     100.0                 80.0       0.486  ...   \n",
              "2       car1                     100.0                 80.0       0.486  ...   \n",
              "3       car1                     100.0                 80.0       0.486  ...   \n",
              "4       car1                     100.0                 80.0       0.486  ...   \n",
              "\n",
              "   THROTTLE_POS         DTC_NUMBER  TROUBLE_CODES  TIMING_ADVANCE  \\\n",
              "0         0.251  MIL is OFF0 codes            NaN           0.569   \n",
              "1         0.251  MIL is OFF0 codes            NaN           0.565   \n",
              "2         0.251  MIL is OFF0 codes            NaN           0.573   \n",
              "3         0.251  MIL is OFF0 codes            NaN           0.565   \n",
              "4         0.251  MIL is OFF0 codes            NaN           0.569   \n",
              "\n",
              "   EQUIV_RATIO   MIN HOURS  DAYS_OF_WEEK  MONTHS    YEAR  \n",
              "0         0.01  13.0  16.0           2.0     8.0  2017.0  \n",
              "1         0.01  13.0  16.0           2.0     8.0  2017.0  \n",
              "2         0.01  13.0  16.0           2.0     8.0  2017.0  \n",
              "3         0.01  13.0  16.0           2.0     8.0  2017.0  \n",
              "4         0.01  13.0  16.0           2.0     8.0  2017.0  \n",
              "\n",
              "[5 rows x 33 columns]"
            ]
          },
          "execution_count": 5,
          "metadata": {},
          "output_type": "execute_result"
        }
      ],
      "source": [
        "df.head()"
      ]
    },
    {
      "cell_type": "code",
      "execution_count": 6,
      "metadata": {
        "colab": {
          "base_uri": "https://localhost:8080/"
        },
        "id": "95gGtqc3JVFx",
        "outputId": "0045d95b-f8e8-42e2-9aa8-697bff94cd27"
      },
      "outputs": [
        {
          "data": {
            "text/plain": [
              "Index(['TIMESTAMP', 'MAKE', 'MODEL', 'CAR_YEAR', 'ENGINE_POWER', 'AUTOMATIC',\n",
              "       'VEHICLE_ID', 'BAROMETRIC_PRESSURE(KPA)', 'ENGINE_COOLANT_TEMP',\n",
              "       'FUEL_LEVEL', 'ENGINE_LOAD', 'AMBIENT_AIR_TEMP', 'ENGINE_RPM',\n",
              "       'INTAKE_MANIFOLD_PRESSURE', 'MAF', 'LONG TERM FUEL TRIM BANK 2',\n",
              "       'FUEL_TYPE', 'AIR_INTAKE_TEMP', 'FUEL_PRESSURE', 'SPEED',\n",
              "       'SHORT TERM FUEL TRIM BANK 2', 'SHORT TERM FUEL TRIM BANK 1',\n",
              "       'ENGINE_RUNTIME', 'THROTTLE_POS', 'DTC_NUMBER', 'TROUBLE_CODES',\n",
              "       'TIMING_ADVANCE', 'EQUIV_RATIO', 'MIN', 'HOURS', 'DAYS_OF_WEEK',\n",
              "       'MONTHS', 'YEAR'],\n",
              "      dtype='object')"
            ]
          },
          "execution_count": 6,
          "metadata": {},
          "output_type": "execute_result"
        }
      ],
      "source": [
        "df.columns"
      ]
    },
    {
      "cell_type": "code",
      "execution_count": 7,
      "metadata": {
        "colab": {
          "base_uri": "https://localhost:8080/"
        },
        "id": "N0fxIgYQJcDR",
        "outputId": "60c081e6-d924-48d7-ed0b-0643bc45e92a"
      },
      "outputs": [
        {
          "data": {
            "text/plain": [
              "TIMESTAMP                          0\n",
              "MAKE                              55\n",
              "MODEL                             55\n",
              "CAR_YEAR                          55\n",
              "ENGINE_POWER                      55\n",
              "AUTOMATIC                         55\n",
              "VEHICLE_ID                         0\n",
              "BAROMETRIC_PRESSURE(KPA)       37302\n",
              "ENGINE_COOLANT_TEMP            13550\n",
              "FUEL_LEVEL                     44520\n",
              "ENGINE_LOAD                    16542\n",
              "AMBIENT_AIR_TEMP               43895\n",
              "ENGINE_RPM                     13655\n",
              "INTAKE_MANIFOLD_PRESSURE       22425\n",
              "MAF                            35686\n",
              "LONG TERM FUEL TRIM BANK 2     34444\n",
              "FUEL_TYPE                      27509\n",
              "AIR_INTAKE_TEMP                13162\n",
              "FUEL_PRESSURE                  47376\n",
              "SPEED                            985\n",
              "SHORT TERM FUEL TRIM BANK 2    34444\n",
              "SHORT TERM FUEL TRIM BANK 1     9919\n",
              "ENGINE_RUNTIME                 35612\n",
              "THROTTLE_POS                   13655\n",
              "DTC_NUMBER                       372\n",
              "TROUBLE_CODES                  35589\n",
              "TIMING_ADVANCE                 13352\n",
              "EQUIV_RATIO                    35618\n",
              "MIN                                2\n",
              "HOURS                              2\n",
              "DAYS_OF_WEEK                       2\n",
              "MONTHS                             2\n",
              "YEAR                               2\n",
              "dtype: int64"
            ]
          },
          "execution_count": 7,
          "metadata": {},
          "output_type": "execute_result"
        }
      ],
      "source": [
        "df.isna().sum()"
      ]
    },
    {
      "cell_type": "code",
      "execution_count": 8,
      "metadata": {
        "colab": {
          "base_uri": "https://localhost:8080/"
        },
        "id": "4b92JUDCJlgK",
        "outputId": "a776fe05-64d7-4461-9480-ee3c9eea7e28"
      },
      "outputs": [
        {
          "name": "stdout",
          "output_type": "stream",
          "text": [
            "percent of the trouble code not null data =  25.0978658921581 \n"
          ]
        }
      ],
      "source": [
        "# trouble_codes will be the target variable\n",
        "\n",
        "percent = (df['TROUBLE_CODES'].count()/len(df))*100\n",
        "\n",
        "print(f'percent of the trouble code not null data =  {percent} ') # good to go"
      ]
    },
    {
      "cell_type": "code",
      "execution_count": 9,
      "metadata": {
        "colab": {
          "base_uri": "https://localhost:8080/"
        },
        "id": "VxJG4gTmLpz_",
        "outputId": "62590407-4813-40fc-cf10-6ef0e23ec1ce"
      },
      "outputs": [
        {
          "data": {
            "text/plain": [
              "array([nan, 'P0133', 'C0300', 'P0079P2004P3000', 'P0078U1004P3000',\n",
              "       'P0079C1004P3000', 'P007EP2036P18F0', 'P007EP2036P18D0',\n",
              "       'P007FP2036P18D0', 'P0079P1004P3000', 'P007EP2036P18E0',\n",
              "       'P007FP2036P18E0', 'P0078B0004P3000', 'P007FP2036P18F0'],\n",
              "      dtype=object)"
            ]
          },
          "execution_count": 9,
          "metadata": {},
          "output_type": "execute_result"
        }
      ],
      "source": [
        "# categories in the trouble code\n",
        "\n",
        "df['TROUBLE_CODES'].unique()"
      ]
    },
    {
      "cell_type": "code",
      "execution_count": null,
      "metadata": {
        "id": "e5igTMP71RnO"
      },
      "outputs": [],
      "source": []
    },
    {
      "cell_type": "code",
      "execution_count": 10,
      "metadata": {
        "colab": {
          "base_uri": "https://localhost:8080/"
        },
        "id": "rg1ld25NMMe1",
        "outputId": "344a1c11-0881-4a59-9f51-47d5447dad7e"
      },
      "outputs": [
        {
          "data": {
            "text/plain": [
              "17633              P0133\n",
              "17634              P0133\n",
              "17635              P0133\n",
              "17636              P0133\n",
              "17637              P0133\n",
              "              ...       \n",
              "47266    P0079P2004P3000\n",
              "47270    P0078U1004P3000\n",
              "47272    P007EP2036P18D0\n",
              "47273    P0078U1004P3000\n",
              "47275    P007EP2036P18D0\n",
              "Name: TROUBLE_CODES, Length: 11925, dtype: object"
            ]
          },
          "execution_count": 10,
          "metadata": {},
          "output_type": "execute_result"
        }
      ],
      "source": [
        "df[df['TROUBLE_CODES'].notnull()]['TROUBLE_CODES']"
      ]
    },
    {
      "cell_type": "code",
      "execution_count": 11,
      "metadata": {
        "id": "kKNI_J_F5uTp"
      },
      "outputs": [],
      "source": [
        "df[['Column1', 'Column2', 'Column3']]=np.nan"
      ]
    },
    {
      "cell_type": "code",
      "execution_count": 12,
      "metadata": {
        "colab": {
          "base_uri": "https://localhost:8080/",
          "height": 256
        },
        "id": "Y-ZxgIPC6qx_",
        "outputId": "0b534f63-6ff3-4a96-fda6-af7a42525c2d"
      },
      "outputs": [
        {
          "data": {
            "text/html": [
              "<div>\n",
              "<style scoped>\n",
              "    .dataframe tbody tr th:only-of-type {\n",
              "        vertical-align: middle;\n",
              "    }\n",
              "\n",
              "    .dataframe tbody tr th {\n",
              "        vertical-align: top;\n",
              "    }\n",
              "\n",
              "    .dataframe thead th {\n",
              "        text-align: right;\n",
              "    }\n",
              "</style>\n",
              "<table border=\"1\" class=\"dataframe\">\n",
              "  <thead>\n",
              "    <tr style=\"text-align: right;\">\n",
              "      <th></th>\n",
              "      <th>TIMESTAMP</th>\n",
              "      <th>MAKE</th>\n",
              "      <th>MODEL</th>\n",
              "      <th>CAR_YEAR</th>\n",
              "      <th>ENGINE_POWER</th>\n",
              "      <th>AUTOMATIC</th>\n",
              "      <th>VEHICLE_ID</th>\n",
              "      <th>BAROMETRIC_PRESSURE(KPA)</th>\n",
              "      <th>ENGINE_COOLANT_TEMP</th>\n",
              "      <th>FUEL_LEVEL</th>\n",
              "      <th>...</th>\n",
              "      <th>TIMING_ADVANCE</th>\n",
              "      <th>EQUIV_RATIO</th>\n",
              "      <th>MIN</th>\n",
              "      <th>HOURS</th>\n",
              "      <th>DAYS_OF_WEEK</th>\n",
              "      <th>MONTHS</th>\n",
              "      <th>YEAR</th>\n",
              "      <th>Column1</th>\n",
              "      <th>Column2</th>\n",
              "      <th>Column3</th>\n",
              "    </tr>\n",
              "  </thead>\n",
              "  <tbody>\n",
              "    <tr>\n",
              "      <th>0</th>\n",
              "      <td>1502902504267</td>\n",
              "      <td>chevrolet</td>\n",
              "      <td>agile</td>\n",
              "      <td>2011.0</td>\n",
              "      <td>1.4</td>\n",
              "      <td>n</td>\n",
              "      <td>car1</td>\n",
              "      <td>100.0</td>\n",
              "      <td>80.0</td>\n",
              "      <td>0.486</td>\n",
              "      <td>...</td>\n",
              "      <td>0.569</td>\n",
              "      <td>0.01</td>\n",
              "      <td>13.0</td>\n",
              "      <td>16.0</td>\n",
              "      <td>2.0</td>\n",
              "      <td>8.0</td>\n",
              "      <td>2017.0</td>\n",
              "      <td>NaN</td>\n",
              "      <td>NaN</td>\n",
              "      <td>NaN</td>\n",
              "    </tr>\n",
              "    <tr>\n",
              "      <th>1</th>\n",
              "      <td>1502902512283</td>\n",
              "      <td>chevrolet</td>\n",
              "      <td>agile</td>\n",
              "      <td>2011.0</td>\n",
              "      <td>1.4</td>\n",
              "      <td>n</td>\n",
              "      <td>car1</td>\n",
              "      <td>100.0</td>\n",
              "      <td>80.0</td>\n",
              "      <td>0.486</td>\n",
              "      <td>...</td>\n",
              "      <td>0.565</td>\n",
              "      <td>0.01</td>\n",
              "      <td>13.0</td>\n",
              "      <td>16.0</td>\n",
              "      <td>2.0</td>\n",
              "      <td>8.0</td>\n",
              "      <td>2017.0</td>\n",
              "      <td>NaN</td>\n",
              "      <td>NaN</td>\n",
              "      <td>NaN</td>\n",
              "    </tr>\n",
              "    <tr>\n",
              "      <th>2</th>\n",
              "      <td>1502902520291</td>\n",
              "      <td>chevrolet</td>\n",
              "      <td>agile</td>\n",
              "      <td>2011.0</td>\n",
              "      <td>1.4</td>\n",
              "      <td>n</td>\n",
              "      <td>car1</td>\n",
              "      <td>100.0</td>\n",
              "      <td>80.0</td>\n",
              "      <td>0.486</td>\n",
              "      <td>...</td>\n",
              "      <td>0.573</td>\n",
              "      <td>0.01</td>\n",
              "      <td>13.0</td>\n",
              "      <td>16.0</td>\n",
              "      <td>2.0</td>\n",
              "      <td>8.0</td>\n",
              "      <td>2017.0</td>\n",
              "      <td>NaN</td>\n",
              "      <td>NaN</td>\n",
              "      <td>NaN</td>\n",
              "    </tr>\n",
              "    <tr>\n",
              "      <th>3</th>\n",
              "      <td>1502902528300</td>\n",
              "      <td>chevrolet</td>\n",
              "      <td>agile</td>\n",
              "      <td>2011.0</td>\n",
              "      <td>1.4</td>\n",
              "      <td>n</td>\n",
              "      <td>car1</td>\n",
              "      <td>100.0</td>\n",
              "      <td>80.0</td>\n",
              "      <td>0.486</td>\n",
              "      <td>...</td>\n",
              "      <td>0.565</td>\n",
              "      <td>0.01</td>\n",
              "      <td>13.0</td>\n",
              "      <td>16.0</td>\n",
              "      <td>2.0</td>\n",
              "      <td>8.0</td>\n",
              "      <td>2017.0</td>\n",
              "      <td>NaN</td>\n",
              "      <td>NaN</td>\n",
              "      <td>NaN</td>\n",
              "    </tr>\n",
              "    <tr>\n",
              "      <th>4</th>\n",
              "      <td>1502902536320</td>\n",
              "      <td>chevrolet</td>\n",
              "      <td>agile</td>\n",
              "      <td>2011.0</td>\n",
              "      <td>1.4</td>\n",
              "      <td>n</td>\n",
              "      <td>car1</td>\n",
              "      <td>100.0</td>\n",
              "      <td>80.0</td>\n",
              "      <td>0.486</td>\n",
              "      <td>...</td>\n",
              "      <td>0.569</td>\n",
              "      <td>0.01</td>\n",
              "      <td>13.0</td>\n",
              "      <td>16.0</td>\n",
              "      <td>2.0</td>\n",
              "      <td>8.0</td>\n",
              "      <td>2017.0</td>\n",
              "      <td>NaN</td>\n",
              "      <td>NaN</td>\n",
              "      <td>NaN</td>\n",
              "    </tr>\n",
              "  </tbody>\n",
              "</table>\n",
              "<p>5 rows × 36 columns</p>\n",
              "</div>"
            ],
            "text/plain": [
              "       TIMESTAMP       MAKE  MODEL  CAR_YEAR  ENGINE_POWER AUTOMATIC  \\\n",
              "0  1502902504267  chevrolet  agile    2011.0           1.4         n   \n",
              "1  1502902512283  chevrolet  agile    2011.0           1.4         n   \n",
              "2  1502902520291  chevrolet  agile    2011.0           1.4         n   \n",
              "3  1502902528300  chevrolet  agile    2011.0           1.4         n   \n",
              "4  1502902536320  chevrolet  agile    2011.0           1.4         n   \n",
              "\n",
              "  VEHICLE_ID  BAROMETRIC_PRESSURE(KPA)  ENGINE_COOLANT_TEMP  FUEL_LEVEL  ...  \\\n",
              "0       car1                     100.0                 80.0       0.486  ...   \n",
              "1       car1                     100.0                 80.0       0.486  ...   \n",
              "2       car1                     100.0                 80.0       0.486  ...   \n",
              "3       car1                     100.0                 80.0       0.486  ...   \n",
              "4       car1                     100.0                 80.0       0.486  ...   \n",
              "\n",
              "   TIMING_ADVANCE  EQUIV_RATIO   MIN  HOURS  DAYS_OF_WEEK  MONTHS    YEAR  \\\n",
              "0           0.569         0.01  13.0   16.0           2.0     8.0  2017.0   \n",
              "1           0.565         0.01  13.0   16.0           2.0     8.0  2017.0   \n",
              "2           0.573         0.01  13.0   16.0           2.0     8.0  2017.0   \n",
              "3           0.565         0.01  13.0   16.0           2.0     8.0  2017.0   \n",
              "4           0.569         0.01  13.0   16.0           2.0     8.0  2017.0   \n",
              "\n",
              "   Column1  Column2  Column3  \n",
              "0      NaN      NaN      NaN  \n",
              "1      NaN      NaN      NaN  \n",
              "2      NaN      NaN      NaN  \n",
              "3      NaN      NaN      NaN  \n",
              "4      NaN      NaN      NaN  \n",
              "\n",
              "[5 rows x 36 columns]"
            ]
          },
          "execution_count": 12,
          "metadata": {},
          "output_type": "execute_result"
        }
      ],
      "source": [
        "df.head()"
      ]
    },
    {
      "cell_type": "code",
      "execution_count": 13,
      "metadata": {
        "colab": {
          "base_uri": "https://localhost:8080/"
        },
        "id": "vtlfM6XllzCf",
        "outputId": "12807bbf-9da0-4a5e-b8ea-c3271d39185f"
      },
      "outputs": [
        {
          "name": "stdout",
          "output_type": "stream",
          "text": [
            "           TIMESTAMP        MAKE   MODEL  CAR_YEAR  ENGINE_POWER AUTOMATIC  \\\n",
            "0      1502902504267   chevrolet   agile    2011.0           1.4         n   \n",
            "1      1502902512283   chevrolet   agile    2011.0           1.4         n   \n",
            "2      1502902520291   chevrolet   agile    2011.0           1.4         n   \n",
            "3      1502902528300   chevrolet   agile    2011.0           1.4         n   \n",
            "4      1502902536320   chevrolet   agile    2011.0           1.4         n   \n",
            "...              ...         ...     ...       ...           ...       ...   \n",
            "47509  1503276272759  volkswagen  voyage    2013.0           1.6         n   \n",
            "47510  1503276284789  volkswagen  voyage    2013.0           1.6         n   \n",
            "47511  1503276296819  volkswagen  voyage    2013.0           1.6         n   \n",
            "47512  1503276308838  volkswagen  voyage    2013.0           1.6         n   \n",
            "47513  1503276320864  volkswagen  voyage    2013.0           1.6         n   \n",
            "\n",
            "      VEHICLE_ID  BAROMETRIC_PRESSURE(KPA)  ENGINE_COOLANT_TEMP  FUEL_LEVEL  \\\n",
            "0           car1                     100.0                 80.0       0.486   \n",
            "1           car1                     100.0                 80.0       0.486   \n",
            "2           car1                     100.0                 80.0       0.486   \n",
            "3           car1                     100.0                 80.0       0.486   \n",
            "4           car1                     100.0                 80.0       0.486   \n",
            "...          ...                       ...                  ...         ...   \n",
            "47509      car14                       NaN                 96.0         NaN   \n",
            "47510      car14                       NaN                 96.0         NaN   \n",
            "47511      car14                       NaN                 98.0         NaN   \n",
            "47512      car14                       NaN                 99.0         NaN   \n",
            "47513      car14                       NaN                100.0         NaN   \n",
            "\n",
            "       ...  TIMING_ADVANCE  EQUIV_RATIO   MIN  HOURS  DAYS_OF_WEEK  MONTHS  \\\n",
            "0      ...           0.569         0.01  13.0   16.0           2.0     8.0   \n",
            "1      ...           0.565         0.01  13.0   16.0           2.0     8.0   \n",
            "2      ...           0.573         0.01  13.0   16.0           2.0     8.0   \n",
            "3      ...           0.565         0.01  13.0   16.0           2.0     8.0   \n",
            "4      ...           0.569         0.01  13.0   16.0           2.0     8.0   \n",
            "...    ...             ...          ...   ...    ...           ...     ...   \n",
            "47509  ...           0.514          NaN  46.0    1.0           0.0     8.0   \n",
            "47510  ...           0.529          NaN  46.0    1.0           0.0     8.0   \n",
            "47511  ...           0.537          NaN  46.0    1.0           0.0     8.0   \n",
            "47512  ...           0.514          NaN  46.0    1.0           0.0     8.0   \n",
            "47513  ...           0.671          NaN  46.0    1.0           0.0     8.0   \n",
            "\n",
            "         YEAR  Column1  Column2  Column3  \n",
            "0      2017.0     None     None     None  \n",
            "1      2017.0     None     None     None  \n",
            "2      2017.0     None     None     None  \n",
            "3      2017.0     None     None     None  \n",
            "4      2017.0     None     None     None  \n",
            "...       ...      ...      ...      ...  \n",
            "47509  2017.0     None     None     None  \n",
            "47510  2017.0     None     None     None  \n",
            "47511  2017.0     None     None     None  \n",
            "47512  2017.0     None     None     None  \n",
            "47513  2017.0     None     None     None  \n",
            "\n",
            "[47514 rows x 36 columns]\n"
          ]
        }
      ],
      "source": [
        "# spliting and filling the dataset\n",
        "def split_into_chunks(x):\n",
        "    if isinstance(x, str):\n",
        "        return [x[i:i+5] for i in range(0, len(x), 5)]\n",
        "    else:\n",
        "        return [None, None, None]\n",
        "\n",
        "# Apply the split function to the 'TROUBLE_CODES' column\n",
        "df['Chunks'] = df['TROUBLE_CODES'].apply(split_into_chunks)\n",
        "\n",
        "# Create separate columns for each chunk\n",
        "df[['Column1', 'Column2', 'Column3']] = pd.DataFrame(df['Chunks'].tolist(), columns=['Column1', 'Column2', 'Column3'])\n",
        "\n",
        "# Drop the 'Chunks' column if you don't need it\n",
        "df = df.drop(columns=['Chunks'])\n",
        "\n",
        "# Display the DataFrame\n",
        "print(df)"
      ]
    },
    {
      "cell_type": "code",
      "execution_count": 14,
      "metadata": {
        "colab": {
          "base_uri": "https://localhost:8080/"
        },
        "id": "P0dpV80mmFE-",
        "outputId": "e6c993a8-0233-4258-baaa-195269baa7c2"
      },
      "outputs": [
        {
          "data": {
            "text/plain": [
              "35589"
            ]
          },
          "execution_count": 14,
          "metadata": {},
          "output_type": "execute_result"
        }
      ],
      "source": [
        "df['Column1'].isna().sum() # number of null values in column1 = 35589"
      ]
    },
    {
      "cell_type": "code",
      "execution_count": 15,
      "metadata": {
        "id": "P9NRKTSyoPkV"
      },
      "outputs": [],
      "source": [
        "# filling all null values of the columns by ok\n",
        "\n",
        "df['Column1'].fillna('ok', inplace=True)"
      ]
    },
    {
      "cell_type": "code",
      "execution_count": 16,
      "metadata": {
        "colab": {
          "base_uri": "https://localhost:8080/"
        },
        "id": "p8QZK7yVoiBL",
        "outputId": "3ec7a4e2-0673-41bf-ede9-5cf3f776ba6f"
      },
      "outputs": [
        {
          "data": {
            "text/plain": [
              "0"
            ]
          },
          "execution_count": 16,
          "metadata": {},
          "output_type": "execute_result"
        }
      ],
      "source": [
        "df['Column1'].isna().sum() # number of null values in column1 = 35589 # no null values null value replaced by ok"
      ]
    },
    {
      "cell_type": "code",
      "execution_count": 17,
      "metadata": {
        "id": "EOESSmvCoqC1"
      },
      "outputs": [],
      "source": [
        "# do similiar procedure for column 2 and column 3\n",
        "df['Column2'].fillna('ok', inplace=True)\n",
        "df['Column3'].fillna('ok', inplace=True)"
      ]
    },
    {
      "cell_type": "code",
      "execution_count": 18,
      "metadata": {
        "colab": {
          "base_uri": "https://localhost:8080/"
        },
        "id": "kaLW2K62o4Bd",
        "outputId": "eabe0466-c464-4fef-9d89-271c6cfe5ad8"
      },
      "outputs": [
        {
          "data": {
            "text/plain": [
              "0"
            ]
          },
          "execution_count": 18,
          "metadata": {},
          "output_type": "execute_result"
        }
      ],
      "source": [
        "df['Column2'].isna().sum()\n"
      ]
    },
    {
      "cell_type": "code",
      "execution_count": 19,
      "metadata": {
        "colab": {
          "base_uri": "https://localhost:8080/"
        },
        "id": "HA3RfQNEo-95",
        "outputId": "db7d91d2-034e-4c51-cff0-ee3ccf3ca615"
      },
      "outputs": [
        {
          "data": {
            "text/plain": [
              "0"
            ]
          },
          "execution_count": 19,
          "metadata": {},
          "output_type": "execute_result"
        }
      ],
      "source": [
        "df['Column3'].isna().sum()"
      ]
    },
    {
      "cell_type": "code",
      "execution_count": 20,
      "metadata": {
        "colab": {
          "base_uri": "https://localhost:8080/"
        },
        "id": "0siIAJNqpClI",
        "outputId": "0bd568a8-a532-4285-9863-7547d4b106ab"
      },
      "outputs": [
        {
          "data": {
            "text/plain": [
              "(47514,)"
            ]
          },
          "execution_count": 20,
          "metadata": {},
          "output_type": "execute_result"
        }
      ],
      "source": [
        "df['Column1'].shape"
      ]
    },
    {
      "cell_type": "code",
      "execution_count": 21,
      "metadata": {
        "colab": {
          "base_uri": "https://localhost:8080/"
        },
        "id": "7hXiVDhKUmHO",
        "outputId": "7a62f69b-6d11-4b8c-edd9-42ec304c7448"
      },
      "outputs": [
        {
          "data": {
            "text/plain": [
              "array(['ok', 'P0133', 'C0300', 'P0079', 'P0078', 'P007E', 'P007F'],\n",
              "      dtype=object)"
            ]
          },
          "execution_count": 21,
          "metadata": {},
          "output_type": "execute_result"
        }
      ],
      "source": [
        "df['Column1'].unique()"
      ]
    },
    {
      "cell_type": "code",
      "execution_count": 22,
      "metadata": {
        "colab": {
          "base_uri": "https://localhost:8080/"
        },
        "id": "P0DxrIqnuvKu",
        "outputId": "03da9e75-1380-4be2-9593-35f8fba1908a"
      },
      "outputs": [
        {
          "data": {
            "text/plain": [
              "array(['ok', 'P2004', 'U1004', 'C1004', 'P2036', 'P1004', 'B0004'],\n",
              "      dtype=object)"
            ]
          },
          "execution_count": 22,
          "metadata": {},
          "output_type": "execute_result"
        }
      ],
      "source": [
        "df['Column2'].unique()"
      ]
    },
    {
      "cell_type": "code",
      "execution_count": 23,
      "metadata": {
        "colab": {
          "base_uri": "https://localhost:8080/"
        },
        "id": "aWSSt6vLu8I_",
        "outputId": "130c07e0-af0d-4d52-cee1-32124da1c54e"
      },
      "outputs": [
        {
          "data": {
            "text/plain": [
              "(47514,)"
            ]
          },
          "execution_count": 23,
          "metadata": {},
          "output_type": "execute_result"
        }
      ],
      "source": [
        "df['Column2'].shape"
      ]
    },
    {
      "cell_type": "code",
      "execution_count": 24,
      "metadata": {
        "colab": {
          "base_uri": "https://localhost:8080/"
        },
        "id": "CdyzvdubvM2h",
        "outputId": "50232f7a-bfe9-4f35-e916-9fb47103187a"
      },
      "outputs": [
        {
          "data": {
            "text/plain": [
              "array(['ok', 'P3000', 'P18F0', 'P18D0', 'P18E0'], dtype=object)"
            ]
          },
          "execution_count": 24,
          "metadata": {},
          "output_type": "execute_result"
        }
      ],
      "source": [
        "df['Column3'].unique()"
      ]
    },
    {
      "cell_type": "code",
      "execution_count": 25,
      "metadata": {
        "colab": {
          "base_uri": "https://localhost:8080/"
        },
        "id": "pd9qzRJ6UxtD",
        "outputId": "882f43fc-5148-4b30-8c7a-d738678e4ddd"
      },
      "outputs": [
        {
          "data": {
            "text/plain": [
              "Index(['TIMESTAMP', 'MAKE', 'MODEL', 'CAR_YEAR', 'ENGINE_POWER', 'AUTOMATIC',\n",
              "       'VEHICLE_ID', 'BAROMETRIC_PRESSURE(KPA)', 'ENGINE_COOLANT_TEMP',\n",
              "       'FUEL_LEVEL', 'ENGINE_LOAD', 'AMBIENT_AIR_TEMP', 'ENGINE_RPM',\n",
              "       'INTAKE_MANIFOLD_PRESSURE', 'MAF', 'LONG TERM FUEL TRIM BANK 2',\n",
              "       'FUEL_TYPE', 'AIR_INTAKE_TEMP', 'FUEL_PRESSURE', 'SPEED',\n",
              "       'SHORT TERM FUEL TRIM BANK 2', 'SHORT TERM FUEL TRIM BANK 1',\n",
              "       'ENGINE_RUNTIME', 'THROTTLE_POS', 'DTC_NUMBER', 'TROUBLE_CODES',\n",
              "       'TIMING_ADVANCE', 'EQUIV_RATIO', 'MIN', 'HOURS', 'DAYS_OF_WEEK',\n",
              "       'MONTHS', 'YEAR', 'Column1', 'Column2', 'Column3'],\n",
              "      dtype='object')"
            ]
          },
          "execution_count": 25,
          "metadata": {},
          "output_type": "execute_result"
        }
      ],
      "source": [
        "df.columns"
      ]
    },
    {
      "cell_type": "code",
      "execution_count": 26,
      "metadata": {
        "colab": {
          "base_uri": "https://localhost:8080/"
        },
        "id": "2XLv5UEfx96K",
        "outputId": "3684282f-2bc3-44d5-ebdd-4fc7f7ae9324"
      },
      "outputs": [
        {
          "data": {
            "text/plain": [
              "TIMESTAMP                          0\n",
              "MAKE                              55\n",
              "MODEL                             55\n",
              "CAR_YEAR                          55\n",
              "ENGINE_POWER                      55\n",
              "AUTOMATIC                         55\n",
              "VEHICLE_ID                         0\n",
              "BAROMETRIC_PRESSURE(KPA)       37302\n",
              "ENGINE_COOLANT_TEMP            13550\n",
              "FUEL_LEVEL                     44520\n",
              "ENGINE_LOAD                    16542\n",
              "AMBIENT_AIR_TEMP               43895\n",
              "ENGINE_RPM                     13655\n",
              "INTAKE_MANIFOLD_PRESSURE       22425\n",
              "MAF                            35686\n",
              "LONG TERM FUEL TRIM BANK 2     34444\n",
              "FUEL_TYPE                      27509\n",
              "AIR_INTAKE_TEMP                13162\n",
              "FUEL_PRESSURE                  47376\n",
              "SPEED                            985\n",
              "SHORT TERM FUEL TRIM BANK 2    34444\n",
              "SHORT TERM FUEL TRIM BANK 1     9919\n",
              "ENGINE_RUNTIME                 35612\n",
              "THROTTLE_POS                   13655\n",
              "DTC_NUMBER                       372\n",
              "TROUBLE_CODES                  35589\n",
              "TIMING_ADVANCE                 13352\n",
              "EQUIV_RATIO                    35618\n",
              "MIN                                2\n",
              "HOURS                              2\n",
              "DAYS_OF_WEEK                       2\n",
              "MONTHS                             2\n",
              "YEAR                               2\n",
              "Column1                            0\n",
              "Column2                            0\n",
              "Column3                            0\n",
              "dtype: int64"
            ]
          },
          "execution_count": 26,
          "metadata": {},
          "output_type": "execute_result"
        }
      ],
      "source": [
        "\n",
        "df.isna().sum()"
      ]
    },
    {
      "cell_type": "code",
      "execution_count": 27,
      "metadata": {
        "colab": {
          "base_uri": "https://localhost:8080/"
        },
        "id": "EgKqvwfJtDJw",
        "outputId": "40789da6-b12d-47ba-ba67-4c83e437b61e"
      },
      "outputs": [
        {
          "data": {
            "text/plain": [
              "0"
            ]
          },
          "execution_count": 27,
          "metadata": {},
          "output_type": "execute_result"
        }
      ],
      "source": [
        "df['Column1'].isna().sum()"
      ]
    },
    {
      "cell_type": "code",
      "execution_count": 28,
      "metadata": {
        "colab": {
          "base_uri": "https://localhost:8080/"
        },
        "id": "jzNwZL-etMLw",
        "outputId": "c070524d-07c8-4b05-cb6f-8f49dcc6c563"
      },
      "outputs": [
        {
          "data": {
            "text/plain": [
              "0        ok\n",
              "1        ok\n",
              "2        ok\n",
              "3        ok\n",
              "4        ok\n",
              "         ..\n",
              "47509    ok\n",
              "47510    ok\n",
              "47511    ok\n",
              "47512    ok\n",
              "47513    ok\n",
              "Name: Column1, Length: 47514, dtype: object"
            ]
          },
          "execution_count": 28,
          "metadata": {},
          "output_type": "execute_result"
        }
      ],
      "source": [
        "df['Column1']"
      ]
    },
    {
      "cell_type": "code",
      "execution_count": 29,
      "metadata": {
        "colab": {
          "base_uri": "https://localhost:8080/"
        },
        "id": "05b2cAAzu5py",
        "outputId": "3609b88e-52d1-4ccf-9458-9f60fd0ed29c"
      },
      "outputs": [
        {
          "data": {
            "text/plain": [
              "Index(['TIMESTAMP', 'MAKE', 'MODEL', 'CAR_YEAR', 'ENGINE_POWER', 'AUTOMATIC',\n",
              "       'VEHICLE_ID', 'BAROMETRIC_PRESSURE(KPA)', 'ENGINE_COOLANT_TEMP',\n",
              "       'FUEL_LEVEL', 'ENGINE_LOAD', 'AMBIENT_AIR_TEMP', 'ENGINE_RPM',\n",
              "       'INTAKE_MANIFOLD_PRESSURE', 'MAF', 'LONG TERM FUEL TRIM BANK 2',\n",
              "       'FUEL_TYPE', 'AIR_INTAKE_TEMP', 'FUEL_PRESSURE', 'SPEED',\n",
              "       'SHORT TERM FUEL TRIM BANK 2', 'SHORT TERM FUEL TRIM BANK 1',\n",
              "       'ENGINE_RUNTIME', 'THROTTLE_POS', 'DTC_NUMBER', 'TROUBLE_CODES',\n",
              "       'TIMING_ADVANCE', 'EQUIV_RATIO', 'MIN', 'HOURS', 'DAYS_OF_WEEK',\n",
              "       'MONTHS', 'YEAR', 'Column1', 'Column2', 'Column3'],\n",
              "      dtype='object')"
            ]
          },
          "execution_count": 29,
          "metadata": {},
          "output_type": "execute_result"
        }
      ],
      "source": [
        "df.columns"
      ]
    },
    {
      "cell_type": "code",
      "execution_count": 30,
      "metadata": {
        "colab": {
          "base_uri": "https://localhost:8080/"
        },
        "id": "GBgJ7bRGvq93",
        "outputId": "2729158f-fabe-4118-bd54-d88837adc1ff"
      },
      "outputs": [
        {
          "data": {
            "text/plain": [
              "array(['ok', 'P0133', 'C0300', 'P0079', 'P0078', 'P007E', 'P007F'],\n",
              "      dtype=object)"
            ]
          },
          "execution_count": 30,
          "metadata": {},
          "output_type": "execute_result"
        }
      ],
      "source": [
        "df['Column1'].unique()"
      ]
    },
    {
      "cell_type": "code",
      "execution_count": 31,
      "metadata": {
        "colab": {
          "base_uri": "https://localhost:8080/"
        },
        "id": "uuOvK1mgw97k",
        "outputId": "9212aa96-ce7c-4ebd-fee2-77e7f9c12935"
      },
      "outputs": [
        {
          "data": {
            "text/plain": [
              "array(['ok', 'P2004', 'U1004', 'C1004', 'P2036', 'P1004', 'B0004'],\n",
              "      dtype=object)"
            ]
          },
          "execution_count": 31,
          "metadata": {},
          "output_type": "execute_result"
        }
      ],
      "source": [
        "df['Column2'].unique()"
      ]
    },
    {
      "cell_type": "code",
      "execution_count": 32,
      "metadata": {
        "colab": {
          "base_uri": "https://localhost:8080/"
        },
        "id": "3JqFhbylxcwv",
        "outputId": "1b6c8ddb-12fc-4253-bc64-3ddc685f8ee3"
      },
      "outputs": [
        {
          "data": {
            "text/plain": [
              "array(['ok', 'P3000', 'P18F0', 'P18D0', 'P18E0'], dtype=object)"
            ]
          },
          "execution_count": 32,
          "metadata": {},
          "output_type": "execute_result"
        }
      ],
      "source": [
        "df['Column3'].unique()"
      ]
    },
    {
      "cell_type": "code",
      "execution_count": 33,
      "metadata": {
        "id": "RHujaCfBu1po"
      },
      "outputs": [],
      "source": [
        "# lets manually assign the labels\n",
        "\n",
        "mapping = {'ok':0,'P0133':1,'C0300':2,'P0079':3,'P0078':4,'P007E':5,'P007F':6,'P2004':7,'U1004':8,'C1004':9,'B0004':10\n",
        "           ,'P3000':11, 'P18F0':12, 'P18D0':13, 'P18E0':14,'P2036':15, 'P1004':16}\n",
        "\n",
        "df['columns1'] = df['Column1'].map(mapping)\n",
        "\n",
        "df['columns2'] = df['Column2'].map(mapping)\n",
        "\n",
        "df['columns3'] = df['Column3'].map(mapping)\n"
      ]
    },
    {
      "cell_type": "code",
      "execution_count": 34,
      "metadata": {
        "colab": {
          "base_uri": "https://localhost:8080/"
        },
        "id": "QhxNKvgcx7_3",
        "outputId": "b8f0a334-b16f-4ff3-fcc2-3cba9d075ab5"
      },
      "outputs": [
        {
          "name": "stdout",
          "output_type": "stream",
          "text": [
            "       columns1  columns2  columns3\n",
            "45310         3         7        11\n",
            "45354         3         7        11\n",
            "45374         3         9        11\n",
            "45375         3         9        11\n",
            "45377         3         9        11\n",
            "...         ...       ...       ...\n",
            "47191         3         7        11\n",
            "47195         3         7        11\n",
            "47197         3         7        11\n",
            "47198         3         7        11\n",
            "47266         3         7        11\n",
            "\n",
            "[83 rows x 3 columns]\n"
          ]
        }
      ],
      "source": [
        "result = df[df['columns1'] == 3][['columns1', 'columns2', 'columns3']]\n",
        "print(result)"
      ]
    },
    {
      "cell_type": "code",
      "execution_count": 35,
      "metadata": {
        "colab": {
          "base_uri": "https://localhost:8080/",
          "height": 424
        },
        "id": "tkXaCNTuyAQz",
        "outputId": "bb5c2634-8d30-4451-896c-4006a0992b63"
      },
      "outputs": [
        {
          "data": {
            "text/html": [
              "<div>\n",
              "<style scoped>\n",
              "    .dataframe tbody tr th:only-of-type {\n",
              "        vertical-align: middle;\n",
              "    }\n",
              "\n",
              "    .dataframe tbody tr th {\n",
              "        vertical-align: top;\n",
              "    }\n",
              "\n",
              "    .dataframe thead th {\n",
              "        text-align: right;\n",
              "    }\n",
              "</style>\n",
              "<table border=\"1\" class=\"dataframe\">\n",
              "  <thead>\n",
              "    <tr style=\"text-align: right;\">\n",
              "      <th></th>\n",
              "      <th>TIMESTAMP</th>\n",
              "      <th>MAKE</th>\n",
              "      <th>MODEL</th>\n",
              "      <th>CAR_YEAR</th>\n",
              "      <th>ENGINE_POWER</th>\n",
              "      <th>AUTOMATIC</th>\n",
              "      <th>VEHICLE_ID</th>\n",
              "      <th>BAROMETRIC_PRESSURE(KPA)</th>\n",
              "      <th>ENGINE_COOLANT_TEMP</th>\n",
              "      <th>FUEL_LEVEL</th>\n",
              "      <th>...</th>\n",
              "      <th>HOURS</th>\n",
              "      <th>DAYS_OF_WEEK</th>\n",
              "      <th>MONTHS</th>\n",
              "      <th>YEAR</th>\n",
              "      <th>Column1</th>\n",
              "      <th>Column2</th>\n",
              "      <th>Column3</th>\n",
              "      <th>columns1</th>\n",
              "      <th>columns2</th>\n",
              "      <th>columns3</th>\n",
              "    </tr>\n",
              "  </thead>\n",
              "  <tbody>\n",
              "    <tr>\n",
              "      <th>0</th>\n",
              "      <td>1502902504267</td>\n",
              "      <td>chevrolet</td>\n",
              "      <td>agile</td>\n",
              "      <td>2011.0</td>\n",
              "      <td>1.4</td>\n",
              "      <td>n</td>\n",
              "      <td>car1</td>\n",
              "      <td>100.0</td>\n",
              "      <td>80.0</td>\n",
              "      <td>0.486</td>\n",
              "      <td>...</td>\n",
              "      <td>16.0</td>\n",
              "      <td>2.0</td>\n",
              "      <td>8.0</td>\n",
              "      <td>2017.0</td>\n",
              "      <td>ok</td>\n",
              "      <td>ok</td>\n",
              "      <td>ok</td>\n",
              "      <td>0</td>\n",
              "      <td>0</td>\n",
              "      <td>0</td>\n",
              "    </tr>\n",
              "    <tr>\n",
              "      <th>1</th>\n",
              "      <td>1502902512283</td>\n",
              "      <td>chevrolet</td>\n",
              "      <td>agile</td>\n",
              "      <td>2011.0</td>\n",
              "      <td>1.4</td>\n",
              "      <td>n</td>\n",
              "      <td>car1</td>\n",
              "      <td>100.0</td>\n",
              "      <td>80.0</td>\n",
              "      <td>0.486</td>\n",
              "      <td>...</td>\n",
              "      <td>16.0</td>\n",
              "      <td>2.0</td>\n",
              "      <td>8.0</td>\n",
              "      <td>2017.0</td>\n",
              "      <td>ok</td>\n",
              "      <td>ok</td>\n",
              "      <td>ok</td>\n",
              "      <td>0</td>\n",
              "      <td>0</td>\n",
              "      <td>0</td>\n",
              "    </tr>\n",
              "    <tr>\n",
              "      <th>2</th>\n",
              "      <td>1502902520291</td>\n",
              "      <td>chevrolet</td>\n",
              "      <td>agile</td>\n",
              "      <td>2011.0</td>\n",
              "      <td>1.4</td>\n",
              "      <td>n</td>\n",
              "      <td>car1</td>\n",
              "      <td>100.0</td>\n",
              "      <td>80.0</td>\n",
              "      <td>0.486</td>\n",
              "      <td>...</td>\n",
              "      <td>16.0</td>\n",
              "      <td>2.0</td>\n",
              "      <td>8.0</td>\n",
              "      <td>2017.0</td>\n",
              "      <td>ok</td>\n",
              "      <td>ok</td>\n",
              "      <td>ok</td>\n",
              "      <td>0</td>\n",
              "      <td>0</td>\n",
              "      <td>0</td>\n",
              "    </tr>\n",
              "    <tr>\n",
              "      <th>3</th>\n",
              "      <td>1502902528300</td>\n",
              "      <td>chevrolet</td>\n",
              "      <td>agile</td>\n",
              "      <td>2011.0</td>\n",
              "      <td>1.4</td>\n",
              "      <td>n</td>\n",
              "      <td>car1</td>\n",
              "      <td>100.0</td>\n",
              "      <td>80.0</td>\n",
              "      <td>0.486</td>\n",
              "      <td>...</td>\n",
              "      <td>16.0</td>\n",
              "      <td>2.0</td>\n",
              "      <td>8.0</td>\n",
              "      <td>2017.0</td>\n",
              "      <td>ok</td>\n",
              "      <td>ok</td>\n",
              "      <td>ok</td>\n",
              "      <td>0</td>\n",
              "      <td>0</td>\n",
              "      <td>0</td>\n",
              "    </tr>\n",
              "    <tr>\n",
              "      <th>4</th>\n",
              "      <td>1502902536320</td>\n",
              "      <td>chevrolet</td>\n",
              "      <td>agile</td>\n",
              "      <td>2011.0</td>\n",
              "      <td>1.4</td>\n",
              "      <td>n</td>\n",
              "      <td>car1</td>\n",
              "      <td>100.0</td>\n",
              "      <td>80.0</td>\n",
              "      <td>0.486</td>\n",
              "      <td>...</td>\n",
              "      <td>16.0</td>\n",
              "      <td>2.0</td>\n",
              "      <td>8.0</td>\n",
              "      <td>2017.0</td>\n",
              "      <td>ok</td>\n",
              "      <td>ok</td>\n",
              "      <td>ok</td>\n",
              "      <td>0</td>\n",
              "      <td>0</td>\n",
              "      <td>0</td>\n",
              "    </tr>\n",
              "    <tr>\n",
              "      <th>...</th>\n",
              "      <td>...</td>\n",
              "      <td>...</td>\n",
              "      <td>...</td>\n",
              "      <td>...</td>\n",
              "      <td>...</td>\n",
              "      <td>...</td>\n",
              "      <td>...</td>\n",
              "      <td>...</td>\n",
              "      <td>...</td>\n",
              "      <td>...</td>\n",
              "      <td>...</td>\n",
              "      <td>...</td>\n",
              "      <td>...</td>\n",
              "      <td>...</td>\n",
              "      <td>...</td>\n",
              "      <td>...</td>\n",
              "      <td>...</td>\n",
              "      <td>...</td>\n",
              "      <td>...</td>\n",
              "      <td>...</td>\n",
              "      <td>...</td>\n",
              "    </tr>\n",
              "    <tr>\n",
              "      <th>47509</th>\n",
              "      <td>1503276272759</td>\n",
              "      <td>volkswagen</td>\n",
              "      <td>voyage</td>\n",
              "      <td>2013.0</td>\n",
              "      <td>1.6</td>\n",
              "      <td>n</td>\n",
              "      <td>car14</td>\n",
              "      <td>NaN</td>\n",
              "      <td>96.0</td>\n",
              "      <td>NaN</td>\n",
              "      <td>...</td>\n",
              "      <td>1.0</td>\n",
              "      <td>0.0</td>\n",
              "      <td>8.0</td>\n",
              "      <td>2017.0</td>\n",
              "      <td>ok</td>\n",
              "      <td>ok</td>\n",
              "      <td>ok</td>\n",
              "      <td>0</td>\n",
              "      <td>0</td>\n",
              "      <td>0</td>\n",
              "    </tr>\n",
              "    <tr>\n",
              "      <th>47510</th>\n",
              "      <td>1503276284789</td>\n",
              "      <td>volkswagen</td>\n",
              "      <td>voyage</td>\n",
              "      <td>2013.0</td>\n",
              "      <td>1.6</td>\n",
              "      <td>n</td>\n",
              "      <td>car14</td>\n",
              "      <td>NaN</td>\n",
              "      <td>96.0</td>\n",
              "      <td>NaN</td>\n",
              "      <td>...</td>\n",
              "      <td>1.0</td>\n",
              "      <td>0.0</td>\n",
              "      <td>8.0</td>\n",
              "      <td>2017.0</td>\n",
              "      <td>ok</td>\n",
              "      <td>ok</td>\n",
              "      <td>ok</td>\n",
              "      <td>0</td>\n",
              "      <td>0</td>\n",
              "      <td>0</td>\n",
              "    </tr>\n",
              "    <tr>\n",
              "      <th>47511</th>\n",
              "      <td>1503276296819</td>\n",
              "      <td>volkswagen</td>\n",
              "      <td>voyage</td>\n",
              "      <td>2013.0</td>\n",
              "      <td>1.6</td>\n",
              "      <td>n</td>\n",
              "      <td>car14</td>\n",
              "      <td>NaN</td>\n",
              "      <td>98.0</td>\n",
              "      <td>NaN</td>\n",
              "      <td>...</td>\n",
              "      <td>1.0</td>\n",
              "      <td>0.0</td>\n",
              "      <td>8.0</td>\n",
              "      <td>2017.0</td>\n",
              "      <td>ok</td>\n",
              "      <td>ok</td>\n",
              "      <td>ok</td>\n",
              "      <td>0</td>\n",
              "      <td>0</td>\n",
              "      <td>0</td>\n",
              "    </tr>\n",
              "    <tr>\n",
              "      <th>47512</th>\n",
              "      <td>1503276308838</td>\n",
              "      <td>volkswagen</td>\n",
              "      <td>voyage</td>\n",
              "      <td>2013.0</td>\n",
              "      <td>1.6</td>\n",
              "      <td>n</td>\n",
              "      <td>car14</td>\n",
              "      <td>NaN</td>\n",
              "      <td>99.0</td>\n",
              "      <td>NaN</td>\n",
              "      <td>...</td>\n",
              "      <td>1.0</td>\n",
              "      <td>0.0</td>\n",
              "      <td>8.0</td>\n",
              "      <td>2017.0</td>\n",
              "      <td>ok</td>\n",
              "      <td>ok</td>\n",
              "      <td>ok</td>\n",
              "      <td>0</td>\n",
              "      <td>0</td>\n",
              "      <td>0</td>\n",
              "    </tr>\n",
              "    <tr>\n",
              "      <th>47513</th>\n",
              "      <td>1503276320864</td>\n",
              "      <td>volkswagen</td>\n",
              "      <td>voyage</td>\n",
              "      <td>2013.0</td>\n",
              "      <td>1.6</td>\n",
              "      <td>n</td>\n",
              "      <td>car14</td>\n",
              "      <td>NaN</td>\n",
              "      <td>100.0</td>\n",
              "      <td>NaN</td>\n",
              "      <td>...</td>\n",
              "      <td>1.0</td>\n",
              "      <td>0.0</td>\n",
              "      <td>8.0</td>\n",
              "      <td>2017.0</td>\n",
              "      <td>ok</td>\n",
              "      <td>ok</td>\n",
              "      <td>ok</td>\n",
              "      <td>0</td>\n",
              "      <td>0</td>\n",
              "      <td>0</td>\n",
              "    </tr>\n",
              "  </tbody>\n",
              "</table>\n",
              "<p>47514 rows × 39 columns</p>\n",
              "</div>"
            ],
            "text/plain": [
              "           TIMESTAMP        MAKE   MODEL  CAR_YEAR  ENGINE_POWER AUTOMATIC  \\\n",
              "0      1502902504267   chevrolet   agile    2011.0           1.4         n   \n",
              "1      1502902512283   chevrolet   agile    2011.0           1.4         n   \n",
              "2      1502902520291   chevrolet   agile    2011.0           1.4         n   \n",
              "3      1502902528300   chevrolet   agile    2011.0           1.4         n   \n",
              "4      1502902536320   chevrolet   agile    2011.0           1.4         n   \n",
              "...              ...         ...     ...       ...           ...       ...   \n",
              "47509  1503276272759  volkswagen  voyage    2013.0           1.6         n   \n",
              "47510  1503276284789  volkswagen  voyage    2013.0           1.6         n   \n",
              "47511  1503276296819  volkswagen  voyage    2013.0           1.6         n   \n",
              "47512  1503276308838  volkswagen  voyage    2013.0           1.6         n   \n",
              "47513  1503276320864  volkswagen  voyage    2013.0           1.6         n   \n",
              "\n",
              "      VEHICLE_ID  BAROMETRIC_PRESSURE(KPA)  ENGINE_COOLANT_TEMP  FUEL_LEVEL  \\\n",
              "0           car1                     100.0                 80.0       0.486   \n",
              "1           car1                     100.0                 80.0       0.486   \n",
              "2           car1                     100.0                 80.0       0.486   \n",
              "3           car1                     100.0                 80.0       0.486   \n",
              "4           car1                     100.0                 80.0       0.486   \n",
              "...          ...                       ...                  ...         ...   \n",
              "47509      car14                       NaN                 96.0         NaN   \n",
              "47510      car14                       NaN                 96.0         NaN   \n",
              "47511      car14                       NaN                 98.0         NaN   \n",
              "47512      car14                       NaN                 99.0         NaN   \n",
              "47513      car14                       NaN                100.0         NaN   \n",
              "\n",
              "       ...  HOURS  DAYS_OF_WEEK  MONTHS    YEAR  Column1  Column2 Column3  \\\n",
              "0      ...   16.0           2.0     8.0  2017.0       ok       ok      ok   \n",
              "1      ...   16.0           2.0     8.0  2017.0       ok       ok      ok   \n",
              "2      ...   16.0           2.0     8.0  2017.0       ok       ok      ok   \n",
              "3      ...   16.0           2.0     8.0  2017.0       ok       ok      ok   \n",
              "4      ...   16.0           2.0     8.0  2017.0       ok       ok      ok   \n",
              "...    ...    ...           ...     ...     ...      ...      ...     ...   \n",
              "47509  ...    1.0           0.0     8.0  2017.0       ok       ok      ok   \n",
              "47510  ...    1.0           0.0     8.0  2017.0       ok       ok      ok   \n",
              "47511  ...    1.0           0.0     8.0  2017.0       ok       ok      ok   \n",
              "47512  ...    1.0           0.0     8.0  2017.0       ok       ok      ok   \n",
              "47513  ...    1.0           0.0     8.0  2017.0       ok       ok      ok   \n",
              "\n",
              "       columns1  columns2  columns3  \n",
              "0             0         0         0  \n",
              "1             0         0         0  \n",
              "2             0         0         0  \n",
              "3             0         0         0  \n",
              "4             0         0         0  \n",
              "...         ...       ...       ...  \n",
              "47509         0         0         0  \n",
              "47510         0         0         0  \n",
              "47511         0         0         0  \n",
              "47512         0         0         0  \n",
              "47513         0         0         0  \n",
              "\n",
              "[47514 rows x 39 columns]"
            ]
          },
          "execution_count": 35,
          "metadata": {},
          "output_type": "execute_result"
        }
      ],
      "source": [
        "df"
      ]
    },
    {
      "cell_type": "markdown",
      "metadata": {
        "id": "DcPFH0UVy4hv"
      },
      "source": [
        "Starting with feature engineering"
      ]
    },
    {
      "cell_type": "code",
      "execution_count": 36,
      "metadata": {
        "id": "WemaXaNjzBQh"
      },
      "outputs": [],
      "source": [
        "dataframe = df"
      ]
    },
    {
      "cell_type": "code",
      "execution_count": 37,
      "metadata": {
        "colab": {
          "base_uri": "https://localhost:8080/"
        },
        "id": "PZaves-Ly0OM",
        "outputId": "3815a0a2-b3db-4e5d-c0f5-d26338878101"
      },
      "outputs": [
        {
          "data": {
            "text/plain": [
              "(47514, 39)"
            ]
          },
          "execution_count": 37,
          "metadata": {},
          "output_type": "execute_result"
        }
      ],
      "source": [
        "dataframe.shape"
      ]
    },
    {
      "cell_type": "code",
      "execution_count": 38,
      "metadata": {
        "colab": {
          "base_uri": "https://localhost:8080/"
        },
        "id": "iSz2BAKBy3fy",
        "outputId": "2cd84c2f-b062-4f3e-ea0b-bb514e457ed5"
      },
      "outputs": [
        {
          "data": {
            "text/plain": [
              "Index(['TIMESTAMP', 'MAKE', 'MODEL', 'CAR_YEAR', 'ENGINE_POWER', 'AUTOMATIC',\n",
              "       'VEHICLE_ID', 'BAROMETRIC_PRESSURE(KPA)', 'ENGINE_COOLANT_TEMP',\n",
              "       'FUEL_LEVEL', 'ENGINE_LOAD', 'AMBIENT_AIR_TEMP', 'ENGINE_RPM',\n",
              "       'INTAKE_MANIFOLD_PRESSURE', 'MAF', 'LONG TERM FUEL TRIM BANK 2',\n",
              "       'FUEL_TYPE', 'AIR_INTAKE_TEMP', 'FUEL_PRESSURE', 'SPEED',\n",
              "       'SHORT TERM FUEL TRIM BANK 2', 'SHORT TERM FUEL TRIM BANK 1',\n",
              "       'ENGINE_RUNTIME', 'THROTTLE_POS', 'DTC_NUMBER', 'TROUBLE_CODES',\n",
              "       'TIMING_ADVANCE', 'EQUIV_RATIO', 'MIN', 'HOURS', 'DAYS_OF_WEEK',\n",
              "       'MONTHS', 'YEAR', 'Column1', 'Column2', 'Column3', 'columns1',\n",
              "       'columns2', 'columns3'],\n",
              "      dtype='object')"
            ]
          },
          "execution_count": 38,
          "metadata": {},
          "output_type": "execute_result"
        }
      ],
      "source": [
        "dataframe.columns"
      ]
    },
    {
      "cell_type": "code",
      "execution_count": 39,
      "metadata": {
        "colab": {
          "base_uri": "https://localhost:8080/"
        },
        "id": "lmnxjyjx2JbG",
        "outputId": "ed9511c3-572b-4a81-b6b3-a301406a2684"
      },
      "outputs": [
        {
          "name": "stdout",
          "output_type": "stream",
          "text": [
            "<class 'pandas.core.frame.DataFrame'>\n",
            "RangeIndex: 47514 entries, 0 to 47513\n",
            "Data columns (total 39 columns):\n",
            " #   Column                       Non-Null Count  Dtype  \n",
            "---  ------                       --------------  -----  \n",
            " 0   TIMESTAMP                    47514 non-null  int64  \n",
            " 1   MAKE                         47459 non-null  object \n",
            " 2   MODEL                        47459 non-null  object \n",
            " 3   CAR_YEAR                     47459 non-null  float64\n",
            " 4   ENGINE_POWER                 47459 non-null  float64\n",
            " 5   AUTOMATIC                    47459 non-null  object \n",
            " 6   VEHICLE_ID                   47514 non-null  object \n",
            " 7   BAROMETRIC_PRESSURE(KPA)     10212 non-null  float64\n",
            " 8   ENGINE_COOLANT_TEMP          33964 non-null  float64\n",
            " 9   FUEL_LEVEL                   2994 non-null   float64\n",
            " 10  ENGINE_LOAD                  30972 non-null  float64\n",
            " 11  AMBIENT_AIR_TEMP             3619 non-null   float64\n",
            " 12  ENGINE_RPM                   33859 non-null  float64\n",
            " 13  INTAKE_MANIFOLD_PRESSURE     25089 non-null  float64\n",
            " 14  MAF                          11828 non-null  float64\n",
            " 15  LONG TERM FUEL TRIM BANK 2   13070 non-null  float64\n",
            " 16  FUEL_TYPE                    20005 non-null  object \n",
            " 17  AIR_INTAKE_TEMP              34352 non-null  float64\n",
            " 18  FUEL_PRESSURE                138 non-null    float64\n",
            " 19  SPEED                        46529 non-null  float64\n",
            " 20  SHORT TERM FUEL TRIM BANK 2  13070 non-null  float64\n",
            " 21  SHORT TERM FUEL TRIM BANK 1  37595 non-null  float64\n",
            " 22  ENGINE_RUNTIME               11902 non-null  object \n",
            " 23  THROTTLE_POS                 33859 non-null  float64\n",
            " 24  DTC_NUMBER                   47142 non-null  object \n",
            " 25  TROUBLE_CODES                11925 non-null  object \n",
            " 26  TIMING_ADVANCE               34162 non-null  float64\n",
            " 27  EQUIV_RATIO                  11896 non-null  float64\n",
            " 28  MIN                          47512 non-null  float64\n",
            " 29  HOURS                        47512 non-null  float64\n",
            " 30  DAYS_OF_WEEK                 47512 non-null  float64\n",
            " 31  MONTHS                       47512 non-null  float64\n",
            " 32  YEAR                         47512 non-null  float64\n",
            " 33  Column1                      47514 non-null  object \n",
            " 34  Column2                      47514 non-null  object \n",
            " 35  Column3                      47514 non-null  object \n",
            " 36  columns1                     47514 non-null  int64  \n",
            " 37  columns2                     47514 non-null  int64  \n",
            " 38  columns3                     47514 non-null  int64  \n",
            "dtypes: float64(24), int64(4), object(11)\n",
            "memory usage: 14.1+ MB\n"
          ]
        }
      ],
      "source": [
        "dataframe.info()"
      ]
    },
    {
      "cell_type": "code",
      "execution_count": 40,
      "metadata": {
        "colab": {
          "base_uri": "https://localhost:8080/"
        },
        "id": "XymkN3Am3Rl4",
        "outputId": "271dcd7b-0369-4f3d-f04e-2895a332f005"
      },
      "outputs": [
        {
          "data": {
            "text/plain": [
              "(47514, 39)"
            ]
          },
          "execution_count": 40,
          "metadata": {},
          "output_type": "execute_result"
        }
      ],
      "source": [
        "dataframe.shape # having total 47514 rows"
      ]
    },
    {
      "cell_type": "code",
      "execution_count": 41,
      "metadata": {
        "colab": {
          "base_uri": "https://localhost:8080/"
        },
        "id": "8WE2Di8Y3aQh",
        "outputId": "0a6f66ce-69f4-4402-d954-b3f25d17f221"
      },
      "outputs": [
        {
          "data": {
            "text/plain": [
              "TIMESTAMP                          0\n",
              "MAKE                              55\n",
              "MODEL                             55\n",
              "CAR_YEAR                          55\n",
              "ENGINE_POWER                      55\n",
              "AUTOMATIC                         55\n",
              "VEHICLE_ID                         0\n",
              "BAROMETRIC_PRESSURE(KPA)       37302\n",
              "ENGINE_COOLANT_TEMP            13550\n",
              "FUEL_LEVEL                     44520\n",
              "ENGINE_LOAD                    16542\n",
              "AMBIENT_AIR_TEMP               43895\n",
              "ENGINE_RPM                     13655\n",
              "INTAKE_MANIFOLD_PRESSURE       22425\n",
              "MAF                            35686\n",
              "LONG TERM FUEL TRIM BANK 2     34444\n",
              "FUEL_TYPE                      27509\n",
              "AIR_INTAKE_TEMP                13162\n",
              "FUEL_PRESSURE                  47376\n",
              "SPEED                            985\n",
              "SHORT TERM FUEL TRIM BANK 2    34444\n",
              "SHORT TERM FUEL TRIM BANK 1     9919\n",
              "ENGINE_RUNTIME                 35612\n",
              "THROTTLE_POS                   13655\n",
              "DTC_NUMBER                       372\n",
              "TROUBLE_CODES                  35589\n",
              "TIMING_ADVANCE                 13352\n",
              "EQUIV_RATIO                    35618\n",
              "MIN                                2\n",
              "HOURS                              2\n",
              "DAYS_OF_WEEK                       2\n",
              "MONTHS                             2\n",
              "YEAR                               2\n",
              "Column1                            0\n",
              "Column2                            0\n",
              "Column3                            0\n",
              "columns1                           0\n",
              "columns2                           0\n",
              "columns3                           0\n",
              "dtype: int64"
            ]
          },
          "execution_count": 41,
          "metadata": {},
          "output_type": "execute_result"
        }
      ],
      "source": [
        "dataframe.isna().sum() # dropping column = fuellevel , ambientairtemp,fuelpressure, becuase of high null values\n"
      ]
    },
    {
      "cell_type": "code",
      "execution_count": 42,
      "metadata": {
        "id": "wu6GsklM4LqG"
      },
      "outputs": [],
      "source": [
        "dataframe = dataframe.drop(columns=['FUEL_LEVEL', 'AMBIENT_AIR_TEMP', 'FUEL_PRESSURE'])"
      ]
    },
    {
      "cell_type": "code",
      "execution_count": 43,
      "metadata": {
        "id": "o1IUWkTc5XfO"
      },
      "outputs": [],
      "source": [
        "dataframe = dataframe.drop(columns=['Column1', 'Column2', 'Column3','TROUBLE_CODES'])# not required"
      ]
    },
    {
      "cell_type": "code",
      "execution_count": 44,
      "metadata": {
        "colab": {
          "base_uri": "https://localhost:8080/"
        },
        "id": "AvoWoOlW5EYY",
        "outputId": "5cf6f55c-981e-48a9-82d7-c49c35ae219d"
      },
      "outputs": [
        {
          "data": {
            "text/plain": [
              "(47514, 32)"
            ]
          },
          "execution_count": 44,
          "metadata": {},
          "output_type": "execute_result"
        }
      ],
      "source": [
        "dataframe.shape"
      ]
    },
    {
      "cell_type": "code",
      "execution_count": 45,
      "metadata": {
        "colab": {
          "base_uri": "https://localhost:8080/"
        },
        "id": "QWbckMgH6q-j",
        "outputId": "800c0334-b792-403b-f64c-4f7e214b3e77"
      },
      "outputs": [
        {
          "data": {
            "text/plain": [
              "array(['chevrolet', 'ford', 'honda', 'renault', nan, 'volkswagen', 'fiat',\n",
              "       'toyota', 'peugeot', 'nissan', 'citroen'], dtype=object)"
            ]
          },
          "execution_count": 45,
          "metadata": {},
          "output_type": "execute_result"
        }
      ],
      "source": [
        "# lets treat categorical columns\n",
        "\n",
        "dataframe['MAKE'].unique()"
      ]
    },
    {
      "cell_type": "code",
      "execution_count": 46,
      "metadata": {
        "colab": {
          "base_uri": "https://localhost:8080/"
        },
        "id": "eqcDa5-37nlV",
        "outputId": "b75ffeba-b854-47f9-acad-33096f094fd3"
      },
      "outputs": [
        {
          "data": {
            "text/plain": [
              "55"
            ]
          },
          "execution_count": 46,
          "metadata": {},
          "output_type": "execute_result"
        }
      ],
      "source": [
        "dataframe['MAKE'].isna().sum()"
      ]
    },
    {
      "cell_type": "code",
      "execution_count": 47,
      "metadata": {
        "id": "3WM1swXr7u6f"
      },
      "outputs": [],
      "source": [
        "# lets do label encodding for it\n",
        "\n",
        "cate = {'chevrolet':24, 'ford':25, 'honda':26, 'renault':27, 'nan':0, 'volkswagen':28, 'fiat':29,\n",
        "       'toyota':30, 'peugeot':31, 'nissan':31, 'citroen':32}\n",
        "\n",
        "dataframe['make'] = dataframe['MAKE'].map(cate)"
      ]
    },
    {
      "cell_type": "code",
      "execution_count": 48,
      "metadata": {
        "colab": {
          "base_uri": "https://localhost:8080/"
        },
        "id": "3mukRerx9ON-",
        "outputId": "cc2e7ffd-1d0f-44d5-c689-e1160294afcc"
      },
      "outputs": [
        {
          "data": {
            "text/plain": [
              "array([24., 25., 26., 27., nan, 28., 29., 30., 31., 32.])"
            ]
          },
          "execution_count": 48,
          "metadata": {},
          "output_type": "execute_result"
        }
      ],
      "source": [
        "dataframe['make'].unique()\n"
      ]
    },
    {
      "cell_type": "code",
      "execution_count": 49,
      "metadata": {
        "id": "0gj7eLu19rds"
      },
      "outputs": [],
      "source": [
        "dataframe[dataframe['make'].isna()] = 45"
      ]
    },
    {
      "cell_type": "code",
      "execution_count": 50,
      "metadata": {
        "colab": {
          "base_uri": "https://localhost:8080/"
        },
        "id": "z6Ib3vBI-H5-",
        "outputId": "7fb4c0db-a453-4612-8f18-7293e406b7c0"
      },
      "outputs": [
        {
          "data": {
            "text/plain": [
              "array([24., 25., 26., 27., 45., 28., 29., 30., 31., 32.])"
            ]
          },
          "execution_count": 50,
          "metadata": {},
          "output_type": "execute_result"
        }
      ],
      "source": [
        "dataframe['make'].unique()"
      ]
    },
    {
      "cell_type": "code",
      "execution_count": 51,
      "metadata": {
        "id": "2OQHbRls-R2_"
      },
      "outputs": [],
      "source": [
        "dataframe=dataframe.drop(columns='MAKE')"
      ]
    },
    {
      "cell_type": "code",
      "execution_count": 52,
      "metadata": {
        "colab": {
          "base_uri": "https://localhost:8080/"
        },
        "id": "JdUtApDO-aMI",
        "outputId": "0962ff20-c507-49b9-82e0-36210df66188"
      },
      "outputs": [
        {
          "name": "stdout",
          "output_type": "stream",
          "text": [
            "<class 'pandas.core.frame.DataFrame'>\n",
            "RangeIndex: 47514 entries, 0 to 47513\n",
            "Data columns (total 32 columns):\n",
            " #   Column                       Non-Null Count  Dtype  \n",
            "---  ------                       --------------  -----  \n",
            " 0   TIMESTAMP                    47514 non-null  int64  \n",
            " 1   MODEL                        47514 non-null  object \n",
            " 2   CAR_YEAR                     47514 non-null  float64\n",
            " 3   ENGINE_POWER                 47514 non-null  float64\n",
            " 4   AUTOMATIC                    47514 non-null  object \n",
            " 5   VEHICLE_ID                   47514 non-null  object \n",
            " 6   BAROMETRIC_PRESSURE(KPA)     10267 non-null  float64\n",
            " 7   ENGINE_COOLANT_TEMP          33964 non-null  float64\n",
            " 8   ENGINE_LOAD                  30972 non-null  float64\n",
            " 9   ENGINE_RPM                   33859 non-null  float64\n",
            " 10  INTAKE_MANIFOLD_PRESSURE     25089 non-null  float64\n",
            " 11  MAF                          11883 non-null  float64\n",
            " 12  LONG TERM FUEL TRIM BANK 2   13125 non-null  float64\n",
            " 13  FUEL_TYPE                    20060 non-null  object \n",
            " 14  AIR_INTAKE_TEMP              34352 non-null  float64\n",
            " 15  SPEED                        46532 non-null  float64\n",
            " 16  SHORT TERM FUEL TRIM BANK 2  13125 non-null  float64\n",
            " 17  SHORT TERM FUEL TRIM BANK 1  37595 non-null  float64\n",
            " 18  ENGINE_RUNTIME               11957 non-null  object \n",
            " 19  THROTTLE_POS                 33859 non-null  float64\n",
            " 20  DTC_NUMBER                   47142 non-null  object \n",
            " 21  TIMING_ADVANCE               34162 non-null  float64\n",
            " 22  EQUIV_RATIO                  11951 non-null  float64\n",
            " 23  MIN                          47512 non-null  float64\n",
            " 24  HOURS                        47512 non-null  float64\n",
            " 25  DAYS_OF_WEEK                 47512 non-null  float64\n",
            " 26  MONTHS                       47512 non-null  float64\n",
            " 27  YEAR                         47512 non-null  float64\n",
            " 28  columns1                     47514 non-null  int64  \n",
            " 29  columns2                     47514 non-null  int64  \n",
            " 30  columns3                     47514 non-null  int64  \n",
            " 31  make                         47514 non-null  float64\n",
            "dtypes: float64(22), int64(4), object(6)\n",
            "memory usage: 11.6+ MB\n"
          ]
        }
      ],
      "source": [
        "dataframe.info()"
      ]
    },
    {
      "cell_type": "code",
      "execution_count": 53,
      "metadata": {
        "colab": {
          "base_uri": "https://localhost:8080/"
        },
        "id": "AnJOMsCeAQSi",
        "outputId": "d7bcf181-5a3c-4e29-ac72-8fe4e1b94b3b"
      },
      "outputs": [
        {
          "data": {
            "text/plain": [
              "array(['n', 45, 's'], dtype=object)"
            ]
          },
          "execution_count": 53,
          "metadata": {},
          "output_type": "execute_result"
        }
      ],
      "source": [
        "dataframe['AUTOMATIC'].unique()"
      ]
    },
    {
      "cell_type": "code",
      "execution_count": 54,
      "metadata": {
        "colab": {
          "base_uri": "https://localhost:8080/",
          "height": 444
        },
        "id": "WMSi3bgZ-pzb",
        "outputId": "9a9a6d91-1a34-4140-ca55-2b8b4ee1b60f"
      },
      "outputs": [
        {
          "data": {
            "text/html": [
              "<div>\n",
              "<style scoped>\n",
              "    .dataframe tbody tr th:only-of-type {\n",
              "        vertical-align: middle;\n",
              "    }\n",
              "\n",
              "    .dataframe tbody tr th {\n",
              "        vertical-align: top;\n",
              "    }\n",
              "\n",
              "    .dataframe thead th {\n",
              "        text-align: right;\n",
              "    }\n",
              "</style>\n",
              "<table border=\"1\" class=\"dataframe\">\n",
              "  <thead>\n",
              "    <tr style=\"text-align: right;\">\n",
              "      <th></th>\n",
              "      <th>TIMESTAMP</th>\n",
              "      <th>MODEL</th>\n",
              "      <th>CAR_YEAR</th>\n",
              "      <th>ENGINE_POWER</th>\n",
              "      <th>AUTOMATIC</th>\n",
              "      <th>VEHICLE_ID</th>\n",
              "      <th>BAROMETRIC_PRESSURE(KPA)</th>\n",
              "      <th>ENGINE_COOLANT_TEMP</th>\n",
              "      <th>ENGINE_LOAD</th>\n",
              "      <th>ENGINE_RPM</th>\n",
              "      <th>...</th>\n",
              "      <th>EQUIV_RATIO</th>\n",
              "      <th>MIN</th>\n",
              "      <th>HOURS</th>\n",
              "      <th>DAYS_OF_WEEK</th>\n",
              "      <th>MONTHS</th>\n",
              "      <th>YEAR</th>\n",
              "      <th>columns1</th>\n",
              "      <th>columns2</th>\n",
              "      <th>columns3</th>\n",
              "      <th>make</th>\n",
              "    </tr>\n",
              "  </thead>\n",
              "  <tbody>\n",
              "    <tr>\n",
              "      <th>0</th>\n",
              "      <td>1502902504267</td>\n",
              "      <td>agile</td>\n",
              "      <td>2011.0</td>\n",
              "      <td>1.4</td>\n",
              "      <td>n</td>\n",
              "      <td>car1</td>\n",
              "      <td>100.0</td>\n",
              "      <td>80.0</td>\n",
              "      <td>0.333</td>\n",
              "      <td>1009.0</td>\n",
              "      <td>...</td>\n",
              "      <td>0.01</td>\n",
              "      <td>13.0</td>\n",
              "      <td>16.0</td>\n",
              "      <td>2.0</td>\n",
              "      <td>8.0</td>\n",
              "      <td>2017.0</td>\n",
              "      <td>0</td>\n",
              "      <td>0</td>\n",
              "      <td>0</td>\n",
              "      <td>24.0</td>\n",
              "    </tr>\n",
              "    <tr>\n",
              "      <th>1</th>\n",
              "      <td>1502902512283</td>\n",
              "      <td>agile</td>\n",
              "      <td>2011.0</td>\n",
              "      <td>1.4</td>\n",
              "      <td>n</td>\n",
              "      <td>car1</td>\n",
              "      <td>100.0</td>\n",
              "      <td>80.0</td>\n",
              "      <td>0.325</td>\n",
              "      <td>1003.0</td>\n",
              "      <td>...</td>\n",
              "      <td>0.01</td>\n",
              "      <td>13.0</td>\n",
              "      <td>16.0</td>\n",
              "      <td>2.0</td>\n",
              "      <td>8.0</td>\n",
              "      <td>2017.0</td>\n",
              "      <td>0</td>\n",
              "      <td>0</td>\n",
              "      <td>0</td>\n",
              "      <td>24.0</td>\n",
              "    </tr>\n",
              "    <tr>\n",
              "      <th>2</th>\n",
              "      <td>1502902520291</td>\n",
              "      <td>agile</td>\n",
              "      <td>2011.0</td>\n",
              "      <td>1.4</td>\n",
              "      <td>n</td>\n",
              "      <td>car1</td>\n",
              "      <td>100.0</td>\n",
              "      <td>80.0</td>\n",
              "      <td>0.329</td>\n",
              "      <td>995.0</td>\n",
              "      <td>...</td>\n",
              "      <td>0.01</td>\n",
              "      <td>13.0</td>\n",
              "      <td>16.0</td>\n",
              "      <td>2.0</td>\n",
              "      <td>8.0</td>\n",
              "      <td>2017.0</td>\n",
              "      <td>0</td>\n",
              "      <td>0</td>\n",
              "      <td>0</td>\n",
              "      <td>24.0</td>\n",
              "    </tr>\n",
              "    <tr>\n",
              "      <th>3</th>\n",
              "      <td>1502902528300</td>\n",
              "      <td>agile</td>\n",
              "      <td>2011.0</td>\n",
              "      <td>1.4</td>\n",
              "      <td>n</td>\n",
              "      <td>car1</td>\n",
              "      <td>100.0</td>\n",
              "      <td>80.0</td>\n",
              "      <td>0.325</td>\n",
              "      <td>1004.0</td>\n",
              "      <td>...</td>\n",
              "      <td>0.01</td>\n",
              "      <td>13.0</td>\n",
              "      <td>16.0</td>\n",
              "      <td>2.0</td>\n",
              "      <td>8.0</td>\n",
              "      <td>2017.0</td>\n",
              "      <td>0</td>\n",
              "      <td>0</td>\n",
              "      <td>0</td>\n",
              "      <td>24.0</td>\n",
              "    </tr>\n",
              "    <tr>\n",
              "      <th>4</th>\n",
              "      <td>1502902536320</td>\n",
              "      <td>agile</td>\n",
              "      <td>2011.0</td>\n",
              "      <td>1.4</td>\n",
              "      <td>n</td>\n",
              "      <td>car1</td>\n",
              "      <td>100.0</td>\n",
              "      <td>80.0</td>\n",
              "      <td>0.329</td>\n",
              "      <td>1005.0</td>\n",
              "      <td>...</td>\n",
              "      <td>0.01</td>\n",
              "      <td>13.0</td>\n",
              "      <td>16.0</td>\n",
              "      <td>2.0</td>\n",
              "      <td>8.0</td>\n",
              "      <td>2017.0</td>\n",
              "      <td>0</td>\n",
              "      <td>0</td>\n",
              "      <td>0</td>\n",
              "      <td>24.0</td>\n",
              "    </tr>\n",
              "    <tr>\n",
              "      <th>...</th>\n",
              "      <td>...</td>\n",
              "      <td>...</td>\n",
              "      <td>...</td>\n",
              "      <td>...</td>\n",
              "      <td>...</td>\n",
              "      <td>...</td>\n",
              "      <td>...</td>\n",
              "      <td>...</td>\n",
              "      <td>...</td>\n",
              "      <td>...</td>\n",
              "      <td>...</td>\n",
              "      <td>...</td>\n",
              "      <td>...</td>\n",
              "      <td>...</td>\n",
              "      <td>...</td>\n",
              "      <td>...</td>\n",
              "      <td>...</td>\n",
              "      <td>...</td>\n",
              "      <td>...</td>\n",
              "      <td>...</td>\n",
              "      <td>...</td>\n",
              "    </tr>\n",
              "    <tr>\n",
              "      <th>47509</th>\n",
              "      <td>1503276272759</td>\n",
              "      <td>voyage</td>\n",
              "      <td>2013.0</td>\n",
              "      <td>1.6</td>\n",
              "      <td>n</td>\n",
              "      <td>car14</td>\n",
              "      <td>NaN</td>\n",
              "      <td>96.0</td>\n",
              "      <td>NaN</td>\n",
              "      <td>762.0</td>\n",
              "      <td>...</td>\n",
              "      <td>NaN</td>\n",
              "      <td>46.0</td>\n",
              "      <td>1.0</td>\n",
              "      <td>0.0</td>\n",
              "      <td>8.0</td>\n",
              "      <td>2017.0</td>\n",
              "      <td>0</td>\n",
              "      <td>0</td>\n",
              "      <td>0</td>\n",
              "      <td>28.0</td>\n",
              "    </tr>\n",
              "    <tr>\n",
              "      <th>47510</th>\n",
              "      <td>1503276284789</td>\n",
              "      <td>voyage</td>\n",
              "      <td>2013.0</td>\n",
              "      <td>1.6</td>\n",
              "      <td>n</td>\n",
              "      <td>car14</td>\n",
              "      <td>NaN</td>\n",
              "      <td>96.0</td>\n",
              "      <td>NaN</td>\n",
              "      <td>780.0</td>\n",
              "      <td>...</td>\n",
              "      <td>NaN</td>\n",
              "      <td>46.0</td>\n",
              "      <td>1.0</td>\n",
              "      <td>0.0</td>\n",
              "      <td>8.0</td>\n",
              "      <td>2017.0</td>\n",
              "      <td>0</td>\n",
              "      <td>0</td>\n",
              "      <td>0</td>\n",
              "      <td>28.0</td>\n",
              "    </tr>\n",
              "    <tr>\n",
              "      <th>47511</th>\n",
              "      <td>1503276296819</td>\n",
              "      <td>voyage</td>\n",
              "      <td>2013.0</td>\n",
              "      <td>1.6</td>\n",
              "      <td>n</td>\n",
              "      <td>car14</td>\n",
              "      <td>NaN</td>\n",
              "      <td>98.0</td>\n",
              "      <td>NaN</td>\n",
              "      <td>788.0</td>\n",
              "      <td>...</td>\n",
              "      <td>NaN</td>\n",
              "      <td>46.0</td>\n",
              "      <td>1.0</td>\n",
              "      <td>0.0</td>\n",
              "      <td>8.0</td>\n",
              "      <td>2017.0</td>\n",
              "      <td>0</td>\n",
              "      <td>0</td>\n",
              "      <td>0</td>\n",
              "      <td>28.0</td>\n",
              "    </tr>\n",
              "    <tr>\n",
              "      <th>47512</th>\n",
              "      <td>1503276308838</td>\n",
              "      <td>voyage</td>\n",
              "      <td>2013.0</td>\n",
              "      <td>1.6</td>\n",
              "      <td>n</td>\n",
              "      <td>car14</td>\n",
              "      <td>NaN</td>\n",
              "      <td>99.0</td>\n",
              "      <td>0.055</td>\n",
              "      <td>769.0</td>\n",
              "      <td>...</td>\n",
              "      <td>NaN</td>\n",
              "      <td>46.0</td>\n",
              "      <td>1.0</td>\n",
              "      <td>0.0</td>\n",
              "      <td>8.0</td>\n",
              "      <td>2017.0</td>\n",
              "      <td>0</td>\n",
              "      <td>0</td>\n",
              "      <td>0</td>\n",
              "      <td>28.0</td>\n",
              "    </tr>\n",
              "    <tr>\n",
              "      <th>47513</th>\n",
              "      <td>1503276320864</td>\n",
              "      <td>voyage</td>\n",
              "      <td>2013.0</td>\n",
              "      <td>1.6</td>\n",
              "      <td>n</td>\n",
              "      <td>car14</td>\n",
              "      <td>NaN</td>\n",
              "      <td>100.0</td>\n",
              "      <td>0.133</td>\n",
              "      <td>1391.0</td>\n",
              "      <td>...</td>\n",
              "      <td>NaN</td>\n",
              "      <td>46.0</td>\n",
              "      <td>1.0</td>\n",
              "      <td>0.0</td>\n",
              "      <td>8.0</td>\n",
              "      <td>2017.0</td>\n",
              "      <td>0</td>\n",
              "      <td>0</td>\n",
              "      <td>0</td>\n",
              "      <td>28.0</td>\n",
              "    </tr>\n",
              "  </tbody>\n",
              "</table>\n",
              "<p>33956 rows × 32 columns</p>\n",
              "</div>"
            ],
            "text/plain": [
              "           TIMESTAMP   MODEL  CAR_YEAR  ENGINE_POWER AUTOMATIC VEHICLE_ID  \\\n",
              "0      1502902504267   agile    2011.0           1.4         n       car1   \n",
              "1      1502902512283   agile    2011.0           1.4         n       car1   \n",
              "2      1502902520291   agile    2011.0           1.4         n       car1   \n",
              "3      1502902528300   agile    2011.0           1.4         n       car1   \n",
              "4      1502902536320   agile    2011.0           1.4         n       car1   \n",
              "...              ...     ...       ...           ...       ...        ...   \n",
              "47509  1503276272759  voyage    2013.0           1.6         n      car14   \n",
              "47510  1503276284789  voyage    2013.0           1.6         n      car14   \n",
              "47511  1503276296819  voyage    2013.0           1.6         n      car14   \n",
              "47512  1503276308838  voyage    2013.0           1.6         n      car14   \n",
              "47513  1503276320864  voyage    2013.0           1.6         n      car14   \n",
              "\n",
              "       BAROMETRIC_PRESSURE(KPA)  ENGINE_COOLANT_TEMP  ENGINE_LOAD  ENGINE_RPM  \\\n",
              "0                         100.0                 80.0        0.333      1009.0   \n",
              "1                         100.0                 80.0        0.325      1003.0   \n",
              "2                         100.0                 80.0        0.329       995.0   \n",
              "3                         100.0                 80.0        0.325      1004.0   \n",
              "4                         100.0                 80.0        0.329      1005.0   \n",
              "...                         ...                  ...          ...         ...   \n",
              "47509                       NaN                 96.0          NaN       762.0   \n",
              "47510                       NaN                 96.0          NaN       780.0   \n",
              "47511                       NaN                 98.0          NaN       788.0   \n",
              "47512                       NaN                 99.0        0.055       769.0   \n",
              "47513                       NaN                100.0        0.133      1391.0   \n",
              "\n",
              "       ...  EQUIV_RATIO   MIN  HOURS DAYS_OF_WEEK  MONTHS    YEAR  columns1  \\\n",
              "0      ...         0.01  13.0   16.0          2.0     8.0  2017.0         0   \n",
              "1      ...         0.01  13.0   16.0          2.0     8.0  2017.0         0   \n",
              "2      ...         0.01  13.0   16.0          2.0     8.0  2017.0         0   \n",
              "3      ...         0.01  13.0   16.0          2.0     8.0  2017.0         0   \n",
              "4      ...         0.01  13.0   16.0          2.0     8.0  2017.0         0   \n",
              "...    ...          ...   ...    ...          ...     ...     ...       ...   \n",
              "47509  ...          NaN  46.0    1.0          0.0     8.0  2017.0         0   \n",
              "47510  ...          NaN  46.0    1.0          0.0     8.0  2017.0         0   \n",
              "47511  ...          NaN  46.0    1.0          0.0     8.0  2017.0         0   \n",
              "47512  ...          NaN  46.0    1.0          0.0     8.0  2017.0         0   \n",
              "47513  ...          NaN  46.0    1.0          0.0     8.0  2017.0         0   \n",
              "\n",
              "       columns2 columns3  make  \n",
              "0             0        0  24.0  \n",
              "1             0        0  24.0  \n",
              "2             0        0  24.0  \n",
              "3             0        0  24.0  \n",
              "4             0        0  24.0  \n",
              "...         ...      ...   ...  \n",
              "47509         0        0  28.0  \n",
              "47510         0        0  28.0  \n",
              "47511         0        0  28.0  \n",
              "47512         0        0  28.0  \n",
              "47513         0        0  28.0  \n",
              "\n",
              "[33956 rows x 32 columns]"
            ]
          },
          "execution_count": 54,
          "metadata": {},
          "output_type": "execute_result"
        }
      ],
      "source": [
        "# lets see next target variable that is automatic\n",
        "\n",
        "dataframe[dataframe['AUTOMATIC'] .eq('n')]"
      ]
    },
    {
      "cell_type": "code",
      "execution_count": 55,
      "metadata": {
        "id": "o86B5mZzAnvP"
      },
      "outputs": [],
      "source": [
        "# doing label encodding for automatic\n",
        "maps = {'n':56,'s':57}\n",
        "\n",
        "dataframe['automatic'] = dataframe['AUTOMATIC'].map(maps)"
      ]
    },
    {
      "cell_type": "code",
      "execution_count": 56,
      "metadata": {
        "colab": {
          "base_uri": "https://localhost:8080/"
        },
        "id": "mp2GmqqbBFD2",
        "outputId": "eb4f3521-e1ef-4a66-96c8-c69be3821be6"
      },
      "outputs": [
        {
          "data": {
            "text/plain": [
              "55"
            ]
          },
          "execution_count": 56,
          "metadata": {},
          "output_type": "execute_result"
        }
      ],
      "source": [
        "dataframe['automatic'].isna().sum()"
      ]
    },
    {
      "cell_type": "code",
      "execution_count": 57,
      "metadata": {
        "id": "BVDpJTtqBM0C"
      },
      "outputs": [],
      "source": [
        "dataframe['automatic'].fillna(58, inplace=True) # treating null values"
      ]
    },
    {
      "cell_type": "code",
      "execution_count": 58,
      "metadata": {
        "colab": {
          "base_uri": "https://localhost:8080/"
        },
        "id": "XY9CgEIRBjvx",
        "outputId": "7dad7574-2b53-4ef2-f5f7-7834f994ca82"
      },
      "outputs": [
        {
          "data": {
            "text/plain": [
              "0"
            ]
          },
          "execution_count": 58,
          "metadata": {},
          "output_type": "execute_result"
        }
      ],
      "source": [
        "dataframe['automatic'].isna().sum()"
      ]
    },
    {
      "cell_type": "code",
      "execution_count": 59,
      "metadata": {
        "colab": {
          "base_uri": "https://localhost:8080/"
        },
        "id": "F5L4Cek2BlyZ",
        "outputId": "8a7ee44d-b455-4bf1-9909-8783bcd581f8"
      },
      "outputs": [
        {
          "data": {
            "text/plain": [
              "array([56., 58., 57.])"
            ]
          },
          "execution_count": 59,
          "metadata": {},
          "output_type": "execute_result"
        }
      ],
      "source": [
        "dataframe['automatic'].unique()"
      ]
    },
    {
      "cell_type": "code",
      "execution_count": 60,
      "metadata": {
        "id": "dxjWMByRB0BR"
      },
      "outputs": [],
      "source": [
        "dataframe=dataframe.drop(columns='AUTOMATIC')"
      ]
    },
    {
      "cell_type": "code",
      "execution_count": 61,
      "metadata": {
        "colab": {
          "base_uri": "https://localhost:8080/"
        },
        "id": "AESD7Rs5Co4Q",
        "outputId": "bdf4dd15-5ff5-4b23-a231-96c7af0705b1"
      },
      "outputs": [
        {
          "data": {
            "text/plain": [
              "Index(['TIMESTAMP', 'MODEL', 'CAR_YEAR', 'ENGINE_POWER', 'VEHICLE_ID',\n",
              "       'BAROMETRIC_PRESSURE(KPA)', 'ENGINE_COOLANT_TEMP', 'ENGINE_LOAD',\n",
              "       'ENGINE_RPM', 'INTAKE_MANIFOLD_PRESSURE', 'MAF',\n",
              "       'LONG TERM FUEL TRIM BANK 2', 'FUEL_TYPE', 'AIR_INTAKE_TEMP', 'SPEED',\n",
              "       'SHORT TERM FUEL TRIM BANK 2', 'SHORT TERM FUEL TRIM BANK 1',\n",
              "       'ENGINE_RUNTIME', 'THROTTLE_POS', 'DTC_NUMBER', 'TIMING_ADVANCE',\n",
              "       'EQUIV_RATIO', 'MIN', 'HOURS', 'DAYS_OF_WEEK', 'MONTHS', 'YEAR',\n",
              "       'columns1', 'columns2', 'columns3', 'make', 'automatic'],\n",
              "      dtype='object')"
            ]
          },
          "execution_count": 61,
          "metadata": {},
          "output_type": "execute_result"
        }
      ],
      "source": [
        "dataframe.columns"
      ]
    },
    {
      "cell_type": "code",
      "execution_count": 62,
      "metadata": {
        "colab": {
          "base_uri": "https://localhost:8080/"
        },
        "id": "ZVpqpsgoDma7",
        "outputId": "770d84a5-770e-47ee-a6bc-ac0ec4ffa49d"
      },
      "outputs": [
        {
          "name": "stdout",
          "output_type": "stream",
          "text": [
            "<class 'pandas.core.frame.DataFrame'>\n",
            "RangeIndex: 47514 entries, 0 to 47513\n",
            "Data columns (total 32 columns):\n",
            " #   Column                       Non-Null Count  Dtype  \n",
            "---  ------                       --------------  -----  \n",
            " 0   TIMESTAMP                    47514 non-null  int64  \n",
            " 1   MODEL                        47514 non-null  object \n",
            " 2   CAR_YEAR                     47514 non-null  float64\n",
            " 3   ENGINE_POWER                 47514 non-null  float64\n",
            " 4   VEHICLE_ID                   47514 non-null  object \n",
            " 5   BAROMETRIC_PRESSURE(KPA)     10267 non-null  float64\n",
            " 6   ENGINE_COOLANT_TEMP          33964 non-null  float64\n",
            " 7   ENGINE_LOAD                  30972 non-null  float64\n",
            " 8   ENGINE_RPM                   33859 non-null  float64\n",
            " 9   INTAKE_MANIFOLD_PRESSURE     25089 non-null  float64\n",
            " 10  MAF                          11883 non-null  float64\n",
            " 11  LONG TERM FUEL TRIM BANK 2   13125 non-null  float64\n",
            " 12  FUEL_TYPE                    20060 non-null  object \n",
            " 13  AIR_INTAKE_TEMP              34352 non-null  float64\n",
            " 14  SPEED                        46532 non-null  float64\n",
            " 15  SHORT TERM FUEL TRIM BANK 2  13125 non-null  float64\n",
            " 16  SHORT TERM FUEL TRIM BANK 1  37595 non-null  float64\n",
            " 17  ENGINE_RUNTIME               11957 non-null  object \n",
            " 18  THROTTLE_POS                 33859 non-null  float64\n",
            " 19  DTC_NUMBER                   47142 non-null  object \n",
            " 20  TIMING_ADVANCE               34162 non-null  float64\n",
            " 21  EQUIV_RATIO                  11951 non-null  float64\n",
            " 22  MIN                          47512 non-null  float64\n",
            " 23  HOURS                        47512 non-null  float64\n",
            " 24  DAYS_OF_WEEK                 47512 non-null  float64\n",
            " 25  MONTHS                       47512 non-null  float64\n",
            " 26  YEAR                         47512 non-null  float64\n",
            " 27  columns1                     47514 non-null  int64  \n",
            " 28  columns2                     47514 non-null  int64  \n",
            " 29  columns3                     47514 non-null  int64  \n",
            " 30  make                         47514 non-null  float64\n",
            " 31  automatic                    47514 non-null  float64\n",
            "dtypes: float64(23), int64(4), object(5)\n",
            "memory usage: 11.6+ MB\n"
          ]
        }
      ],
      "source": [
        "dataframe.info()"
      ]
    },
    {
      "cell_type": "code",
      "execution_count": 63,
      "metadata": {
        "id": "PL06NadfCt9I"
      },
      "outputs": [],
      "source": [
        "# treating another categorical variable\n",
        "\n",
        "# for lets say now drop this lets see afterwards\n",
        "\n",
        "dataframe = dataframe.drop(columns=['FUEL_TYPE','VEHICLE_ID','ENGINE_RUNTIME','DTC_NUMBER'])"
      ]
    },
    {
      "cell_type": "code",
      "execution_count": 64,
      "metadata": {
        "colab": {
          "base_uri": "https://localhost:8080/"
        },
        "id": "jQQQ3yYvD8ZL",
        "outputId": "04a3ee4c-d2bb-401e-843a-6983c2eae42f"
      },
      "outputs": [
        {
          "data": {
            "text/plain": [
              "Index(['TIMESTAMP', 'MODEL', 'CAR_YEAR', 'ENGINE_POWER',\n",
              "       'BAROMETRIC_PRESSURE(KPA)', 'ENGINE_COOLANT_TEMP', 'ENGINE_LOAD',\n",
              "       'ENGINE_RPM', 'INTAKE_MANIFOLD_PRESSURE', 'MAF',\n",
              "       'LONG TERM FUEL TRIM BANK 2', 'AIR_INTAKE_TEMP', 'SPEED',\n",
              "       'SHORT TERM FUEL TRIM BANK 2', 'SHORT TERM FUEL TRIM BANK 1',\n",
              "       'THROTTLE_POS', 'TIMING_ADVANCE', 'EQUIV_RATIO', 'MIN', 'HOURS',\n",
              "       'DAYS_OF_WEEK', 'MONTHS', 'YEAR', 'columns1', 'columns2', 'columns3',\n",
              "       'make', 'automatic'],\n",
              "      dtype='object')"
            ]
          },
          "execution_count": 64,
          "metadata": {},
          "output_type": "execute_result"
        }
      ],
      "source": [
        "dataframe.columns"
      ]
    },
    {
      "cell_type": "code",
      "execution_count": 65,
      "metadata": {
        "colab": {
          "base_uri": "https://localhost:8080/"
        },
        "id": "50hOTCI9EBCM",
        "outputId": "8053d5c3-3789-4b92-ea6b-a79200f3f851"
      },
      "outputs": [
        {
          "name": "stdout",
          "output_type": "stream",
          "text": [
            "<class 'pandas.core.frame.DataFrame'>\n",
            "RangeIndex: 47514 entries, 0 to 47513\n",
            "Data columns (total 28 columns):\n",
            " #   Column                       Non-Null Count  Dtype  \n",
            "---  ------                       --------------  -----  \n",
            " 0   TIMESTAMP                    47514 non-null  int64  \n",
            " 1   MODEL                        47514 non-null  object \n",
            " 2   CAR_YEAR                     47514 non-null  float64\n",
            " 3   ENGINE_POWER                 47514 non-null  float64\n",
            " 4   BAROMETRIC_PRESSURE(KPA)     10267 non-null  float64\n",
            " 5   ENGINE_COOLANT_TEMP          33964 non-null  float64\n",
            " 6   ENGINE_LOAD                  30972 non-null  float64\n",
            " 7   ENGINE_RPM                   33859 non-null  float64\n",
            " 8   INTAKE_MANIFOLD_PRESSURE     25089 non-null  float64\n",
            " 9   MAF                          11883 non-null  float64\n",
            " 10  LONG TERM FUEL TRIM BANK 2   13125 non-null  float64\n",
            " 11  AIR_INTAKE_TEMP              34352 non-null  float64\n",
            " 12  SPEED                        46532 non-null  float64\n",
            " 13  SHORT TERM FUEL TRIM BANK 2  13125 non-null  float64\n",
            " 14  SHORT TERM FUEL TRIM BANK 1  37595 non-null  float64\n",
            " 15  THROTTLE_POS                 33859 non-null  float64\n",
            " 16  TIMING_ADVANCE               34162 non-null  float64\n",
            " 17  EQUIV_RATIO                  11951 non-null  float64\n",
            " 18  MIN                          47512 non-null  float64\n",
            " 19  HOURS                        47512 non-null  float64\n",
            " 20  DAYS_OF_WEEK                 47512 non-null  float64\n",
            " 21  MONTHS                       47512 non-null  float64\n",
            " 22  YEAR                         47512 non-null  float64\n",
            " 23  columns1                     47514 non-null  int64  \n",
            " 24  columns2                     47514 non-null  int64  \n",
            " 25  columns3                     47514 non-null  int64  \n",
            " 26  make                         47514 non-null  float64\n",
            " 27  automatic                    47514 non-null  float64\n",
            "dtypes: float64(23), int64(4), object(1)\n",
            "memory usage: 10.2+ MB\n"
          ]
        }
      ],
      "source": [
        "dataframe.info()"
      ]
    },
    {
      "cell_type": "code",
      "execution_count": 66,
      "metadata": {
        "colab": {
          "base_uri": "https://localhost:8080/"
        },
        "id": "P0TsYx4OEJfF",
        "outputId": "932d6cf2-c6ae-4e1a-c962-d3a25b49874e"
      },
      "outputs": [
        {
          "data": {
            "text/plain": [
              "array(['agile', 'focus', 'fit', 'duster', 45, 'polo', 'palio', 'corolla',\n",
              "       'eco_sport', '208_allure', 'siena', 'versa', 'c3', 'voyage'],\n",
              "      dtype=object)"
            ]
          },
          "execution_count": 66,
          "metadata": {},
          "output_type": "execute_result"
        }
      ],
      "source": [
        "dataframe['MODEL'].unique()"
      ]
    },
    {
      "cell_type": "code",
      "execution_count": 67,
      "metadata": {
        "colab": {
          "base_uri": "https://localhost:8080/"
        },
        "id": "n-8WGnSJEUf1",
        "outputId": "ee1f2cd4-a311-4f0f-8d4d-cb7e9f54cdf1"
      },
      "outputs": [
        {
          "data": {
            "text/plain": [
              "TIMESTAMP                          0\n",
              "MODEL                              0\n",
              "CAR_YEAR                           0\n",
              "ENGINE_POWER                       0\n",
              "BAROMETRIC_PRESSURE(KPA)       37247\n",
              "ENGINE_COOLANT_TEMP            13550\n",
              "ENGINE_LOAD                    16542\n",
              "ENGINE_RPM                     13655\n",
              "INTAKE_MANIFOLD_PRESSURE       22425\n",
              "MAF                            35631\n",
              "LONG TERM FUEL TRIM BANK 2     34389\n",
              "AIR_INTAKE_TEMP                13162\n",
              "SPEED                            982\n",
              "SHORT TERM FUEL TRIM BANK 2    34389\n",
              "SHORT TERM FUEL TRIM BANK 1     9919\n",
              "THROTTLE_POS                   13655\n",
              "TIMING_ADVANCE                 13352\n",
              "EQUIV_RATIO                    35563\n",
              "MIN                                2\n",
              "HOURS                              2\n",
              "DAYS_OF_WEEK                       2\n",
              "MONTHS                             2\n",
              "YEAR                               2\n",
              "columns1                           0\n",
              "columns2                           0\n",
              "columns3                           0\n",
              "make                               0\n",
              "automatic                          0\n",
              "dtype: int64"
            ]
          },
          "execution_count": 67,
          "metadata": {},
          "output_type": "execute_result"
        }
      ],
      "source": [
        "dataframe.isnull().sum()# model has zero null values so lets do labeling"
      ]
    },
    {
      "cell_type": "code",
      "execution_count": 68,
      "metadata": {
        "id": "s2lcz2FVHSIL"
      },
      "outputs": [],
      "source": [
        "mappps = {'agile':101, 'focus':102, 'fit':103, 'duster':104, 'polo':105, 'palio':106, 'corolla':107,\n",
        "       'eco_sport':108, '208_allure':109, 'siena':110, 'versa':111, 'c3':112, 'voyage':113}\n",
        "\n",
        "dataframe['model'] = dataframe['MODEL'].map(mappps)"
      ]
    },
    {
      "cell_type": "code",
      "execution_count": 69,
      "metadata": {
        "colab": {
          "base_uri": "https://localhost:8080/"
        },
        "id": "s-nYQSZeIJMj",
        "outputId": "cc43d18d-99ab-4ee4-f5b6-b2768badb3b3"
      },
      "outputs": [
        {
          "data": {
            "text/plain": [
              "array([101., 102., 103., 104.,  nan, 105., 106., 107., 108., 109., 110.,\n",
              "       111., 112., 113.])"
            ]
          },
          "execution_count": 69,
          "metadata": {},
          "output_type": "execute_result"
        }
      ],
      "source": [
        "dataframe['model'].unique()"
      ]
    },
    {
      "cell_type": "code",
      "execution_count": 70,
      "metadata": {
        "id": "zPfRHtLjIWeY"
      },
      "outputs": [],
      "source": [
        "dataframe['model'].fillna(114,inplace=True)"
      ]
    },
    {
      "cell_type": "code",
      "execution_count": 71,
      "metadata": {
        "colab": {
          "base_uri": "https://localhost:8080/"
        },
        "id": "jRHKAx1cJAh7",
        "outputId": "c45769bf-076d-43d2-8158-8cd157220445"
      },
      "outputs": [
        {
          "data": {
            "text/plain": [
              "array([101., 102., 103., 104., 114., 105., 106., 107., 108., 109., 110.,\n",
              "       111., 112., 113.])"
            ]
          },
          "execution_count": 71,
          "metadata": {},
          "output_type": "execute_result"
        }
      ],
      "source": [
        "dataframe['model'].unique()"
      ]
    },
    {
      "cell_type": "code",
      "execution_count": 72,
      "metadata": {
        "id": "8AtGeveyJYdJ"
      },
      "outputs": [],
      "source": [
        "dataframe=dataframe.drop(columns=['MODEL'])"
      ]
    },
    {
      "cell_type": "code",
      "execution_count": 73,
      "metadata": {
        "colab": {
          "base_uri": "https://localhost:8080/"
        },
        "id": "9FXgG9OeJf1H",
        "outputId": "53b94775-8b7a-40bf-a4d9-f0c3344dbaba"
      },
      "outputs": [
        {
          "data": {
            "text/plain": [
              "(47514, 28)"
            ]
          },
          "execution_count": 73,
          "metadata": {},
          "output_type": "execute_result"
        }
      ],
      "source": [
        "dataframe.shape"
      ]
    },
    {
      "cell_type": "code",
      "execution_count": 74,
      "metadata": {
        "colab": {
          "base_uri": "https://localhost:8080/"
        },
        "id": "iuoTk6j7JlF9",
        "outputId": "b3b8d6d2-9aa8-49ec-cc9c-8ccb188050b0"
      },
      "outputs": [
        {
          "name": "stdout",
          "output_type": "stream",
          "text": [
            "<class 'pandas.core.frame.DataFrame'>\n",
            "RangeIndex: 47514 entries, 0 to 47513\n",
            "Data columns (total 28 columns):\n",
            " #   Column                       Non-Null Count  Dtype  \n",
            "---  ------                       --------------  -----  \n",
            " 0   TIMESTAMP                    47514 non-null  int64  \n",
            " 1   CAR_YEAR                     47514 non-null  float64\n",
            " 2   ENGINE_POWER                 47514 non-null  float64\n",
            " 3   BAROMETRIC_PRESSURE(KPA)     10267 non-null  float64\n",
            " 4   ENGINE_COOLANT_TEMP          33964 non-null  float64\n",
            " 5   ENGINE_LOAD                  30972 non-null  float64\n",
            " 6   ENGINE_RPM                   33859 non-null  float64\n",
            " 7   INTAKE_MANIFOLD_PRESSURE     25089 non-null  float64\n",
            " 8   MAF                          11883 non-null  float64\n",
            " 9   LONG TERM FUEL TRIM BANK 2   13125 non-null  float64\n",
            " 10  AIR_INTAKE_TEMP              34352 non-null  float64\n",
            " 11  SPEED                        46532 non-null  float64\n",
            " 12  SHORT TERM FUEL TRIM BANK 2  13125 non-null  float64\n",
            " 13  SHORT TERM FUEL TRIM BANK 1  37595 non-null  float64\n",
            " 14  THROTTLE_POS                 33859 non-null  float64\n",
            " 15  TIMING_ADVANCE               34162 non-null  float64\n",
            " 16  EQUIV_RATIO                  11951 non-null  float64\n",
            " 17  MIN                          47512 non-null  float64\n",
            " 18  HOURS                        47512 non-null  float64\n",
            " 19  DAYS_OF_WEEK                 47512 non-null  float64\n",
            " 20  MONTHS                       47512 non-null  float64\n",
            " 21  YEAR                         47512 non-null  float64\n",
            " 22  columns1                     47514 non-null  int64  \n",
            " 23  columns2                     47514 non-null  int64  \n",
            " 24  columns3                     47514 non-null  int64  \n",
            " 25  make                         47514 non-null  float64\n",
            " 26  automatic                    47514 non-null  float64\n",
            " 27  model                        47514 non-null  float64\n",
            "dtypes: float64(24), int64(4)\n",
            "memory usage: 10.2 MB\n"
          ]
        }
      ],
      "source": [
        "dataframe.info()"
      ]
    },
    {
      "cell_type": "code",
      "execution_count": 75,
      "metadata": {
        "colab": {
          "base_uri": "https://localhost:8080/"
        },
        "id": "tWxKyhxQJx0l",
        "outputId": "42fdff45-d0d3-4383-81a7-f982d05f2db0"
      },
      "outputs": [
        {
          "data": {
            "text/plain": [
              "TIMESTAMP                          0\n",
              "CAR_YEAR                           0\n",
              "ENGINE_POWER                       0\n",
              "BAROMETRIC_PRESSURE(KPA)       37247\n",
              "ENGINE_COOLANT_TEMP            13550\n",
              "ENGINE_LOAD                    16542\n",
              "ENGINE_RPM                     13655\n",
              "INTAKE_MANIFOLD_PRESSURE       22425\n",
              "MAF                            35631\n",
              "LONG TERM FUEL TRIM BANK 2     34389\n",
              "AIR_INTAKE_TEMP                13162\n",
              "SPEED                            982\n",
              "SHORT TERM FUEL TRIM BANK 2    34389\n",
              "SHORT TERM FUEL TRIM BANK 1     9919\n",
              "THROTTLE_POS                   13655\n",
              "TIMING_ADVANCE                 13352\n",
              "EQUIV_RATIO                    35563\n",
              "MIN                                2\n",
              "HOURS                              2\n",
              "DAYS_OF_WEEK                       2\n",
              "MONTHS                             2\n",
              "YEAR                               2\n",
              "columns1                           0\n",
              "columns2                           0\n",
              "columns3                           0\n",
              "make                               0\n",
              "automatic                          0\n",
              "model                              0\n",
              "dtype: int64"
            ]
          },
          "execution_count": 75,
          "metadata": {},
          "output_type": "execute_result"
        }
      ],
      "source": [
        "# lets fill missing values\n",
        "dataframe.isna().sum()"
      ]
    },
    {
      "cell_type": "code",
      "execution_count": null,
      "metadata": {
        "id": "Qorej0pDKx05"
      },
      "outputs": [],
      "source": []
    },
    {
      "cell_type": "code",
      "execution_count": 76,
      "metadata": {
        "id": "-Wo3JZne5KjU"
      },
      "outputs": [],
      "source": [
        "# seeing corealtion between targetvariables and otherfeatures"
      ]
    },
    {
      "cell_type": "code",
      "execution_count": 77,
      "metadata": {
        "colab": {
          "base_uri": "https://localhost:8080/"
        },
        "id": "6tLHclRIMNUQ",
        "outputId": "900b5938-b6dc-40b8-eabc-729342addb9a"
      },
      "outputs": [
        {
          "data": {
            "text/plain": [
              "array([100., 101.,  nan,  99.,  45.,  96.,  93.,  90.,  89.,  91.,  94.,\n",
              "        97.,  95.])"
            ]
          },
          "execution_count": 77,
          "metadata": {},
          "output_type": "execute_result"
        }
      ],
      "source": [
        "dataframe['BAROMETRIC_PRESSURE(KPA)'].unique()"
      ]
    },
    {
      "cell_type": "code",
      "execution_count": 78,
      "metadata": {
        "colab": {
          "base_uri": "https://localhost:8080/"
        },
        "id": "uA3xl8_wxGFD",
        "outputId": "11337478-e302-4477-a958-31d271e2a9af"
      },
      "outputs": [
        {
          "data": {
            "text/plain": [
              "96.0"
            ]
          },
          "execution_count": 78,
          "metadata": {},
          "output_type": "execute_result"
        }
      ],
      "source": [
        "dataframe['BAROMETRIC_PRESSURE(KPA)'].median()\n",
        "\n"
      ]
    },
    {
      "cell_type": "code",
      "execution_count": 79,
      "metadata": {
        "id": "-uAcTAXHxYph"
      },
      "outputs": [],
      "source": [
        "dataframe['BAROMETRIC_PRESSURE(KPA)'].fillna(96,inplace=True)"
      ]
    },
    {
      "cell_type": "code",
      "execution_count": 80,
      "metadata": {
        "colab": {
          "base_uri": "https://localhost:8080/"
        },
        "id": "RFtugRqKx714",
        "outputId": "05a31451-bc90-4b7b-e04a-299363151183"
      },
      "outputs": [
        {
          "data": {
            "text/plain": [
              "0"
            ]
          },
          "execution_count": 80,
          "metadata": {},
          "output_type": "execute_result"
        }
      ],
      "source": [
        "dataframe['BAROMETRIC_PRESSURE(KPA)'].isnull().sum()"
      ]
    },
    {
      "cell_type": "code",
      "execution_count": 81,
      "metadata": {
        "colab": {
          "base_uri": "https://localhost:8080/"
        },
        "id": "tW5HHjWUyCmP",
        "outputId": "4f7f1d55-3177-4dbf-ded1-c07ad22589f7"
      },
      "outputs": [
        {
          "data": {
            "text/plain": [
              "13550"
            ]
          },
          "execution_count": 81,
          "metadata": {},
          "output_type": "execute_result"
        }
      ],
      "source": [
        "# fillinf null values of engine coolant temp\n",
        "\n",
        "dataframe['ENGINE_COOLANT_TEMP'].isnull().sum()"
      ]
    },
    {
      "cell_type": "code",
      "execution_count": 82,
      "metadata": {
        "colab": {
          "base_uri": "https://localhost:8080/"
        },
        "id": "JDUrycLeyx22",
        "outputId": "f9972f02-cf0d-4576-dda1-3a1a43690ce3"
      },
      "outputs": [
        {
          "data": {
            "text/plain": [
              "array([ 80.,  81.,  82.,  77.,  79.,  78.,  83.,  84.,  85.,  86.,  87.,\n",
              "        88.,  89.,  90.,  91.,  92.,  93.,  94.,  nan,  54.,  55.,  56.,\n",
              "        57.,  58.,  59.,  60.,  62.,  63.,  64.,  66.,  67.,  68.,  69.,\n",
              "        70.,  71.,  72.,  73.,  75.,  76.,  74.,  95.,  65.,  40.,  39.,\n",
              "        42.,  43.,  44.,  46.,  47.,  48.,  49.,  51.,  52.,  61.,  34.,\n",
              "        35.,  37.,  38.,  50.,  53.,  45.,  30.,  32.,  33.,  36.,  41.,\n",
              "        96.,  97.,  98.,  99., 100.,  27.,  29.,  31.,  26.,  28.,  22.,\n",
              "        23.,  24.,  25., 102., 103., 101., 104., 105.])"
            ]
          },
          "execution_count": 82,
          "metadata": {},
          "output_type": "execute_result"
        }
      ],
      "source": [
        "dataframe['ENGINE_COOLANT_TEMP'].unique()"
      ]
    },
    {
      "cell_type": "code",
      "execution_count": 83,
      "metadata": {
        "colab": {
          "base_uri": "https://localhost:8080/"
        },
        "id": "M1-PKYBczFyt",
        "outputId": "4894cf25-4333-4dc9-ab04-6a881ce57539"
      },
      "outputs": [
        {
          "data": {
            "text/plain": [
              "85.0"
            ]
          },
          "execution_count": 83,
          "metadata": {},
          "output_type": "execute_result"
        }
      ],
      "source": [
        "dataframe['ENGINE_COOLANT_TEMP'].median()"
      ]
    },
    {
      "cell_type": "code",
      "execution_count": 84,
      "metadata": {
        "id": "3iKK8VxSzLTZ"
      },
      "outputs": [],
      "source": [
        "dataframe['ENGINE_COOLANT_TEMP'].fillna(85,inplace=True)"
      ]
    },
    {
      "cell_type": "code",
      "execution_count": 85,
      "metadata": {
        "colab": {
          "base_uri": "https://localhost:8080/"
        },
        "id": "ybE8_8lqzYS5",
        "outputId": "34231e2e-4ce7-4be0-8bbe-b5731f3e44e6"
      },
      "outputs": [
        {
          "data": {
            "text/plain": [
              "0"
            ]
          },
          "execution_count": 85,
          "metadata": {},
          "output_type": "execute_result"
        }
      ],
      "source": [
        "dataframe['ENGINE_COOLANT_TEMP'].isna().sum()"
      ]
    },
    {
      "cell_type": "code",
      "execution_count": 86,
      "metadata": {
        "colab": {
          "base_uri": "https://localhost:8080/"
        },
        "id": "LYQHBvvKze_K",
        "outputId": "4397573d-67ff-4698-c37a-f91ec6742fdc"
      },
      "outputs": [
        {
          "data": {
            "text/plain": [
              "array([ 0.333,  0.325,  0.329,  0.345,  0.341,  0.349,  0.373,  0.267,\n",
              "        0.369,  0.294,  0.365,  0.31 ,  0.322,  0.302,  0.29 ,  0.298,\n",
              "        0.314,  0.306,  0.255,  0.271,  0.357,  0.576,  0.318,  0.525,\n",
              "        0.376,  0.263,  0.286,  0.247,  0.231,  0.275,  0.184,  0.216,\n",
              "        0.447,  0.475,  0.18 ,  0.4  ,  0.176,  0.2  ,  0.243,  0.192,\n",
              "        0.208,  0.161,  0.173,  0.196,  0.435,  0.165,  0.278,  0.392,\n",
              "        0.157,  0.573,  0.361,  0.561,  0.259,  0.522,  0.404,  0.424,\n",
              "        0.506,  0.455,  0.408,    nan,  0.588,  0.169,  0.565,  0.22 ,\n",
              "        0.235,  0.663,  0.416,  0.388,  0.337,  0.42 ,  0.451,  0.204,\n",
              "        0.251,  0.227,  0.541,  0.537,  0.188,  0.608,  0.71 ,  0.533,\n",
              "        0.49 ,  0.153,  0.212,  0.545,  0.459,  0.282,  0.686,  0.51 ,\n",
              "        0.498,  0.62 ,  0.463,  0.224,  0.549,  0.38 ,  0.239,  0.353,\n",
              "        0.553,  0.592,  0.494,  0.478,  0.58 ,  0.482,  0.471,  0.443,\n",
              "        0.678,  0.682,  0.384,  0.467,  0.671,  0.431,  0.412,  0.396,\n",
              "        0.584,  0.427,  0.149,  0.643,  0.714,  0.624,  0.486,  0.667,\n",
              "        0.557,  0.518,  0.675,  0.514,  0.659,  0.722,  0.616,  0.651,\n",
              "        0.439,  0.529,  0.647,  0.631,  0.502,  0.702,  0.596,  0.718,\n",
              "        0.6  ,  0.604,  0.816,  0.635,  0.655,  0.698,  0.612,  0.725,\n",
              "        0.706,  0.639,  0.145,  0.569,  0.69 ,  0.776,  0.627,  0.925,\n",
              "        0.11 ,  0.961,  0.765,  0.82 ,  0.106,  0.141,  0.133,  0.137,\n",
              "        0.839,  0.41 ,  0.949,  0.945,  0.996,  0.902,  0.733,  0.984,\n",
              "        0.988,  0.937,  1.   ,  0.953,  0.8  ,  0.98 ,  0.063,  0.992,\n",
              "        0.918,  0.749,  0.114,  0.835,  0.78 ,  0.078,  0.89 ,  0.933,\n",
              "        0.086,  0.753,  0.125,  0.102,  0.122,  0.941,  0.118,  0.784,\n",
              "        0.741,  0.965,  0.957,  0.812,  0.737,  0.875,  0.082,  0.969,\n",
              "        0.871,  0.827,  0.804,  0.886,  0.059,  0.976,  0.824,  0.843,\n",
              "        0.914,  0.09 ,  0.788,  0.973,  0.769,  0.729,  0.847,  0.831,\n",
              "        0.878,  0.075,  0.694,  0.761,  0.855,  0.773,  0.867,  0.929,\n",
              "        0.757,  0.071,  0.745,  0.906,  0.051,  0.863,  0.851,  0.094,\n",
              "        0.098,  0.894,  0.859,  0.796,  0.91 ,  0.129,  0.808,  0.922,\n",
              "        0.055,  0.898,  0.792,  0.882, 45.   ,  0.067])"
            ]
          },
          "execution_count": 86,
          "metadata": {},
          "output_type": "execute_result"
        }
      ],
      "source": [
        "dataframe['ENGINE_LOAD'].unique()"
      ]
    },
    {
      "cell_type": "code",
      "execution_count": 87,
      "metadata": {
        "colab": {
          "base_uri": "https://localhost:8080/"
        },
        "id": "mWuAUobT0A0k",
        "outputId": "307af4cd-0865-41d2-b16c-f57c429d2c49"
      },
      "outputs": [
        {
          "data": {
            "text/plain": [
              "0.388"
            ]
          },
          "execution_count": 87,
          "metadata": {},
          "output_type": "execute_result"
        }
      ],
      "source": [
        "dataframe['ENGINE_LOAD'].median()"
      ]
    },
    {
      "cell_type": "code",
      "execution_count": 88,
      "metadata": {
        "id": "44fRlADn0S2i"
      },
      "outputs": [],
      "source": [
        "dataframe['ENGINE_LOAD'].fillna(0.388,inplace=True)"
      ]
    },
    {
      "cell_type": "code",
      "execution_count": 89,
      "metadata": {
        "colab": {
          "base_uri": "https://localhost:8080/"
        },
        "id": "u23Abcv90bV6",
        "outputId": "d3701a96-9a09-4c5f-a202-d250a88c131e"
      },
      "outputs": [
        {
          "data": {
            "text/plain": [
              "0"
            ]
          },
          "execution_count": 89,
          "metadata": {},
          "output_type": "execute_result"
        }
      ],
      "source": [
        "dataframe['ENGINE_LOAD'].isna().sum()"
      ]
    },
    {
      "cell_type": "code",
      "execution_count": 90,
      "metadata": {
        "colab": {
          "base_uri": "https://localhost:8080/"
        },
        "id": "D4wtl96n0fmC",
        "outputId": "a08b8874-afde-430d-9b9f-22a13a85576e"
      },
      "outputs": [
        {
          "data": {
            "text/plain": [
              "1487.0"
            ]
          },
          "execution_count": 90,
          "metadata": {},
          "output_type": "execute_result"
        }
      ],
      "source": [
        "dataframe['ENGINE_RPM'].median()"
      ]
    },
    {
      "cell_type": "code",
      "execution_count": 91,
      "metadata": {
        "id": "q7rFR4_Y0sst"
      },
      "outputs": [],
      "source": [
        "dataframe['ENGINE_RPM'].fillna(1487,inplace=True)"
      ]
    },
    {
      "cell_type": "code",
      "execution_count": 92,
      "metadata": {
        "colab": {
          "base_uri": "https://localhost:8080/"
        },
        "id": "eBrFSX3G01t2",
        "outputId": "32f1db11-9edc-4bcb-a666-f6250379d8f8"
      },
      "outputs": [
        {
          "data": {
            "text/plain": [
              "0"
            ]
          },
          "execution_count": 92,
          "metadata": {},
          "output_type": "execute_result"
        }
      ],
      "source": [
        "dataframe['ENGINE_RPM'].isna().sum()"
      ]
    },
    {
      "cell_type": "code",
      "execution_count": 93,
      "metadata": {
        "colab": {
          "base_uri": "https://localhost:8080/"
        },
        "id": "oa5FfpPX1N1L",
        "outputId": "26d28a19-ffac-4c55-c1a9-062f1e154290"
      },
      "outputs": [
        {
          "data": {
            "text/plain": [
              "43.0"
            ]
          },
          "execution_count": 93,
          "metadata": {},
          "output_type": "execute_result"
        }
      ],
      "source": [
        "dataframe['INTAKE_MANIFOLD_PRESSURE'].median()"
      ]
    },
    {
      "cell_type": "code",
      "execution_count": 94,
      "metadata": {
        "id": "7CokNFeP1VsL"
      },
      "outputs": [],
      "source": [
        "dataframe['INTAKE_MANIFOLD_PRESSURE'].fillna(43,inplace=True)"
      ]
    },
    {
      "cell_type": "code",
      "execution_count": 95,
      "metadata": {
        "colab": {
          "base_uri": "https://localhost:8080/"
        },
        "id": "sehTUWUc2JA9",
        "outputId": "fb551c2b-bb5d-4f8b-a641-e41f512a083d"
      },
      "outputs": [
        {
          "data": {
            "text/plain": [
              "TIMESTAMP                          0\n",
              "CAR_YEAR                           0\n",
              "ENGINE_POWER                       0\n",
              "BAROMETRIC_PRESSURE(KPA)           0\n",
              "ENGINE_COOLANT_TEMP                0\n",
              "ENGINE_LOAD                        0\n",
              "ENGINE_RPM                         0\n",
              "INTAKE_MANIFOLD_PRESSURE           0\n",
              "MAF                            35631\n",
              "LONG TERM FUEL TRIM BANK 2     34389\n",
              "AIR_INTAKE_TEMP                13162\n",
              "SPEED                            982\n",
              "SHORT TERM FUEL TRIM BANK 2    34389\n",
              "SHORT TERM FUEL TRIM BANK 1     9919\n",
              "THROTTLE_POS                   13655\n",
              "TIMING_ADVANCE                 13352\n",
              "EQUIV_RATIO                    35563\n",
              "MIN                                2\n",
              "HOURS                              2\n",
              "DAYS_OF_WEEK                       2\n",
              "MONTHS                             2\n",
              "YEAR                               2\n",
              "columns1                           0\n",
              "columns2                           0\n",
              "columns3                           0\n",
              "make                               0\n",
              "automatic                          0\n",
              "model                              0\n",
              "dtype: int64"
            ]
          },
          "execution_count": 95,
          "metadata": {},
          "output_type": "execute_result"
        }
      ],
      "source": [
        "dataframe.isna().sum()"
      ]
    },
    {
      "cell_type": "code",
      "execution_count": 96,
      "metadata": {
        "id": "x9GhdxeX14GA"
      },
      "outputs": [],
      "source": [
        "dataframe = dataframe.drop(columns=['MAF', 'LONG TERM FUEL TRIM BANK 2', 'SHORT TERM FUEL TRIM BANK 2', 'EQUIV_RATIO'])\n"
      ]
    },
    {
      "cell_type": "code",
      "execution_count": 97,
      "metadata": {
        "colab": {
          "base_uri": "https://localhost:8080/"
        },
        "id": "au8Ph4b-2oD9",
        "outputId": "91cd91f7-b0bb-4720-a127-439395a25119"
      },
      "outputs": [
        {
          "data": {
            "text/plain": [
              "TIMESTAMP                          0\n",
              "CAR_YEAR                           0\n",
              "ENGINE_POWER                       0\n",
              "BAROMETRIC_PRESSURE(KPA)           0\n",
              "ENGINE_COOLANT_TEMP                0\n",
              "ENGINE_LOAD                        0\n",
              "ENGINE_RPM                         0\n",
              "INTAKE_MANIFOLD_PRESSURE           0\n",
              "AIR_INTAKE_TEMP                13162\n",
              "SPEED                            982\n",
              "SHORT TERM FUEL TRIM BANK 1     9919\n",
              "THROTTLE_POS                   13655\n",
              "TIMING_ADVANCE                 13352\n",
              "MIN                                2\n",
              "HOURS                              2\n",
              "DAYS_OF_WEEK                       2\n",
              "MONTHS                             2\n",
              "YEAR                               2\n",
              "columns1                           0\n",
              "columns2                           0\n",
              "columns3                           0\n",
              "make                               0\n",
              "automatic                          0\n",
              "model                              0\n",
              "dtype: int64"
            ]
          },
          "execution_count": 97,
          "metadata": {},
          "output_type": "execute_result"
        }
      ],
      "source": [
        "dataframe.isna().sum()"
      ]
    },
    {
      "cell_type": "code",
      "execution_count": 98,
      "metadata": {
        "colab": {
          "base_uri": "https://localhost:8080/"
        },
        "id": "SGc0nFq922iC",
        "outputId": "0cbe4c8b-c821-4bb5-c394-2c125d29c9b1"
      },
      "outputs": [
        {
          "data": {
            "text/plain": [
              "40.0"
            ]
          },
          "execution_count": 98,
          "metadata": {},
          "output_type": "execute_result"
        }
      ],
      "source": [
        "dataframe['AIR_INTAKE_TEMP'].median()"
      ]
    },
    {
      "cell_type": "code",
      "execution_count": 99,
      "metadata": {
        "id": "GWnMbx1N2vhY"
      },
      "outputs": [],
      "source": [
        "dataframe['AIR_INTAKE_TEMP'].fillna(40,inplace=True)"
      ]
    },
    {
      "cell_type": "code",
      "execution_count": 100,
      "metadata": {
        "colab": {
          "base_uri": "https://localhost:8080/"
        },
        "id": "FZS55goa27a4",
        "outputId": "fe0b3d31-0021-4c9b-ce84-872ba887f8ff"
      },
      "outputs": [
        {
          "data": {
            "text/plain": [
              "14.0"
            ]
          },
          "execution_count": 100,
          "metadata": {},
          "output_type": "execute_result"
        }
      ],
      "source": [
        "dataframe['SPEED'].median()"
      ]
    },
    {
      "cell_type": "code",
      "execution_count": 101,
      "metadata": {
        "id": "95JoHiMo3KfL"
      },
      "outputs": [],
      "source": [
        "dataframe['SPEED'].fillna(14,inplace=True)"
      ]
    },
    {
      "cell_type": "code",
      "execution_count": 102,
      "metadata": {
        "colab": {
          "base_uri": "https://localhost:8080/"
        },
        "id": "C7fSvWdi3QM3",
        "outputId": "d4a5a1d9-79d8-4412-ab9a-e5b6111439f7"
      },
      "outputs": [
        {
          "data": {
            "text/plain": [
              "-0.039"
            ]
          },
          "execution_count": 102,
          "metadata": {},
          "output_type": "execute_result"
        }
      ],
      "source": [
        "dataframe['SHORT TERM FUEL TRIM BANK 1'].median()"
      ]
    },
    {
      "cell_type": "code",
      "execution_count": 103,
      "metadata": {
        "id": "C1DjHEMG3Yuu"
      },
      "outputs": [],
      "source": [
        "dataframe['SHORT TERM FUEL TRIM BANK 1'].fillna(-0.039,inplace=True)"
      ]
    },
    {
      "cell_type": "code",
      "execution_count": 104,
      "metadata": {
        "colab": {
          "base_uri": "https://localhost:8080/"
        },
        "id": "QLpb8EP63jgG",
        "outputId": "d761aaef-c9da-4a94-fe67-e96bd4db66d7"
      },
      "outputs": [
        {
          "data": {
            "text/plain": [
              "0.176"
            ]
          },
          "execution_count": 104,
          "metadata": {},
          "output_type": "execute_result"
        }
      ],
      "source": [
        "dataframe['THROTTLE_POS'].median()"
      ]
    },
    {
      "cell_type": "code",
      "execution_count": 105,
      "metadata": {
        "id": "I_Ekgbvq3tPR"
      },
      "outputs": [],
      "source": [
        "dataframe['THROTTLE_POS'].fillna(0.176,inplace=True)"
      ]
    },
    {
      "cell_type": "code",
      "execution_count": 106,
      "metadata": {
        "colab": {
          "base_uri": "https://localhost:8080/"
        },
        "id": "tjXLf3rZ31EP",
        "outputId": "aca4ee66-42d6-45c9-aee1-af0d7eaad342"
      },
      "outputs": [
        {
          "data": {
            "text/plain": [
              "0.584"
            ]
          },
          "execution_count": 106,
          "metadata": {},
          "output_type": "execute_result"
        }
      ],
      "source": [
        "dataframe['TIMING_ADVANCE'].median()"
      ]
    },
    {
      "cell_type": "code",
      "execution_count": 107,
      "metadata": {
        "id": "UzXf_tjW4CPb"
      },
      "outputs": [],
      "source": [
        "dataframe['TIMING_ADVANCE'].fillna(0.584,inplace=True)"
      ]
    },
    {
      "cell_type": "code",
      "execution_count": 108,
      "metadata": {
        "colab": {
          "base_uri": "https://localhost:8080/"
        },
        "id": "ZEqH1rQS4Rzn",
        "outputId": "ed5cc118-545f-4b18-fa8d-ad8d8ea154b0"
      },
      "outputs": [
        {
          "data": {
            "text/plain": [
              "26.0"
            ]
          },
          "execution_count": 108,
          "metadata": {},
          "output_type": "execute_result"
        }
      ],
      "source": [
        "dataframe['MIN'].median()"
      ]
    },
    {
      "cell_type": "code",
      "execution_count": 109,
      "metadata": {
        "id": "rk5i_MKo5FZF"
      },
      "outputs": [],
      "source": [
        "dataframe['MIN'].fillna(26.0,inplace=True)"
      ]
    },
    {
      "cell_type": "code",
      "execution_count": 110,
      "metadata": {
        "id": "hHUuNQ1M5Mlw"
      },
      "outputs": [
        {
          "data": {
            "text/plain": [
              "13.0"
            ]
          },
          "execution_count": 110,
          "metadata": {},
          "output_type": "execute_result"
        }
      ],
      "source": [
        "dataframe['HOURS'].median()"
      ]
    },
    {
      "cell_type": "code",
      "execution_count": 111,
      "metadata": {
        "id": "8WR-i1Hz5U8x"
      },
      "outputs": [],
      "source": [
        "dataframe['HOURS'].fillna(13,inplace=True)"
      ]
    },
    {
      "cell_type": "code",
      "execution_count": 112,
      "metadata": {
        "colab": {
          "base_uri": "https://localhost:8080/"
        },
        "id": "J-nzx6kg5bS5",
        "outputId": "1d51c107-96c4-4f5b-d821-42fe62f46ed9"
      },
      "outputs": [
        {
          "data": {
            "text/plain": [
              "3.0"
            ]
          },
          "execution_count": 112,
          "metadata": {},
          "output_type": "execute_result"
        }
      ],
      "source": [
        "dataframe['DAYS_OF_WEEK'].median()"
      ]
    },
    {
      "cell_type": "code",
      "execution_count": 113,
      "metadata": {
        "id": "Hg2bGsO45kFw"
      },
      "outputs": [],
      "source": [
        "dataframe['DAYS_OF_WEEK'].fillna(3,inplace=True)"
      ]
    },
    {
      "cell_type": "code",
      "execution_count": 114,
      "metadata": {
        "id": "YPZP4Pz05377"
      },
      "outputs": [
        {
          "data": {
            "text/plain": [
              "8.0"
            ]
          },
          "execution_count": 114,
          "metadata": {},
          "output_type": "execute_result"
        }
      ],
      "source": [
        "dataframe['MONTHS'].median()"
      ]
    },
    {
      "cell_type": "code",
      "execution_count": 115,
      "metadata": {
        "id": "Kv9sXrVj5uBF"
      },
      "outputs": [],
      "source": [
        "dataframe['MONTHS'].fillna(8.0,inplace=True)"
      ]
    },
    {
      "cell_type": "code",
      "execution_count": 116,
      "metadata": {
        "colab": {
          "base_uri": "https://localhost:8080/"
        },
        "id": "wvmGu1FJ6A6H",
        "outputId": "1fd52c35-e4b1-4f30-ce63-5da5916297fe"
      },
      "outputs": [
        {
          "data": {
            "text/plain": [
              "2017.0"
            ]
          },
          "execution_count": 116,
          "metadata": {},
          "output_type": "execute_result"
        }
      ],
      "source": [
        "dataframe['YEAR'].median()"
      ]
    },
    {
      "cell_type": "code",
      "execution_count": 117,
      "metadata": {
        "id": "OjEgzrIJ6MzJ"
      },
      "outputs": [],
      "source": [
        "dataframe['YEAR'].fillna(2017,inplace=True)"
      ]
    },
    {
      "cell_type": "code",
      "execution_count": 118,
      "metadata": {
        "colab": {
          "base_uri": "https://localhost:8080/"
        },
        "id": "eh5nDgX96Vwu",
        "outputId": "653468f4-2516-4f7f-a644-4dd9cc6b1679"
      },
      "outputs": [
        {
          "data": {
            "text/plain": [
              "TIMESTAMP                      0\n",
              "CAR_YEAR                       0\n",
              "ENGINE_POWER                   0\n",
              "BAROMETRIC_PRESSURE(KPA)       0\n",
              "ENGINE_COOLANT_TEMP            0\n",
              "ENGINE_LOAD                    0\n",
              "ENGINE_RPM                     0\n",
              "INTAKE_MANIFOLD_PRESSURE       0\n",
              "AIR_INTAKE_TEMP                0\n",
              "SPEED                          0\n",
              "SHORT TERM FUEL TRIM BANK 1    0\n",
              "THROTTLE_POS                   0\n",
              "TIMING_ADVANCE                 0\n",
              "MIN                            0\n",
              "HOURS                          0\n",
              "DAYS_OF_WEEK                   0\n",
              "MONTHS                         0\n",
              "YEAR                           0\n",
              "columns1                       0\n",
              "columns2                       0\n",
              "columns3                       0\n",
              "make                           0\n",
              "automatic                      0\n",
              "model                          0\n",
              "dtype: int64"
            ]
          },
          "execution_count": 118,
          "metadata": {},
          "output_type": "execute_result"
        }
      ],
      "source": [
        "dataframe.isna().sum()"
      ]
    },
    {
      "cell_type": "code",
      "execution_count": 119,
      "metadata": {
        "colab": {
          "base_uri": "https://localhost:8080/",
          "height": 846
        },
        "id": "3sPccnvZ6ajm",
        "outputId": "7a3535c7-45d4-405a-8c9b-aa1f405e27b0"
      },
      "outputs": [
        {
          "data": {
            "image/png": "[encoded data removed]",
            "text/plain": [
              "<Figure size 1000x800 with 2 Axes>"
            ]
          },
          "metadata": {},
          "output_type": "display_data"
        }
      ],
      "source": [
        "# lets do coorelation by plting heat map\n",
        "import seaborn as sns\n",
        "import matplotlib.pyplot as plt\n",
        "\n",
        "# Assuming you have a DataFrame named 'dataframe' with your data\n",
        "# 'target_column_1', 'target_column_2', and 'target_column_3' are your target labels\n",
        "\n",
        "# Select the features (excluding the target columns)\n",
        "features = dataframe.drop(columns=['columns1', 'columns2', 'columns3'])\n",
        "\n",
        "# Calculate the correlation matrix\n",
        "corr_matrix = features.corr()\n",
        "\n",
        "# Create a heatmap\n",
        "plt.figure(figsize=(10, 8))\n",
        "sns.heatmap(corr_matrix, annot=True, cmap='coolwarm', linewidths=0.5)\n",
        "\n",
        "# Show the plot\n",
        "plt.show()\n",
        "\n",
        "features = []"
      ]
    },
    {
      "cell_type": "code",
      "execution_count": 120,
      "metadata": {
        "colab": {
          "base_uri": "https://localhost:8080/"
        },
        "id": "FTotuv6nBZkN",
        "outputId": "0b1f18c3-e504-48aa-bc4d-e96282d35ebe"
      },
      "outputs": [
        {
          "data": {
            "text/plain": [
              "(47514, 24)"
            ]
          },
          "execution_count": 120,
          "metadata": {},
          "output_type": "execute_result"
        }
      ],
      "source": [
        "dataframe.shape"
      ]
    },
    {
      "cell_type": "code",
      "execution_count": 121,
      "metadata": {
        "id": "UfgdhoS5BIrf"
      },
      "outputs": [],
      "source": [
        "# lets do normalization of the data\n",
        "\n"
      ]
    },
    {
      "cell_type": "code",
      "execution_count": null,
      "metadata": {
        "id": "doKjz9xnCeKY"
      },
      "outputs": [],
      "source": []
    },
    {
      "cell_type": "code",
      "execution_count": null,
      "metadata": {
        "id": "2DoDMaltCeNd"
      },
      "outputs": [],
      "source": []
    },
    {
      "cell_type": "code",
      "execution_count": null,
      "metadata": {
        "id": "nBvSnbH5BS5K"
      },
      "outputs": [],
      "source": []
    },
    {
      "cell_type": "code",
      "execution_count": null,
      "metadata": {
        "id": "ViwrcqBPCfY5"
      },
      "outputs": [],
      "source": []
    },
    {
      "cell_type": "code",
      "execution_count": 122,
      "metadata": {
        "id": "tQ0sYw1KCfbl"
      },
      "outputs": [],
      "source": [
        "X = dataframe.drop(['columns1','columns2','columns3'],axis=1)"
      ]
    },
    {
      "cell_type": "code",
      "execution_count": 123,
      "metadata": {
        "colab": {
          "base_uri": "https://localhost:8080/"
        },
        "id": "CGsVj1VFDLNi",
        "outputId": "216a0696-817a-48ba-c697-55e126020555"
      },
      "outputs": [
        {
          "data": {
            "text/plain": [
              "Index(['TIMESTAMP', 'CAR_YEAR', 'ENGINE_POWER', 'BAROMETRIC_PRESSURE(KPA)',\n",
              "       'ENGINE_COOLANT_TEMP', 'ENGINE_LOAD', 'ENGINE_RPM',\n",
              "       'INTAKE_MANIFOLD_PRESSURE', 'AIR_INTAKE_TEMP', 'SPEED',\n",
              "       'SHORT TERM FUEL TRIM BANK 1', 'THROTTLE_POS', 'TIMING_ADVANCE', 'MIN',\n",
              "       'HOURS', 'DAYS_OF_WEEK', 'MONTHS', 'YEAR', 'make', 'automatic',\n",
              "       'model'],\n",
              "      dtype='object')"
            ]
          },
          "execution_count": 123,
          "metadata": {},
          "output_type": "execute_result"
        }
      ],
      "source": [
        "X.columns"
      ]
    },
    {
      "cell_type": "code",
      "execution_count": 124,
      "metadata": {
        "colab": {
          "base_uri": "https://localhost:8080/"
        },
        "id": "sSThzJFQDM6I",
        "outputId": "6c68eeaf-acfd-4b45-a4f1-35c51a8ee7d8"
      },
      "outputs": [
        {
          "data": {
            "text/plain": [
              "(47514, 21)"
            ]
          },
          "execution_count": 124,
          "metadata": {},
          "output_type": "execute_result"
        }
      ],
      "source": [
        "X.shape\n"
      ]
    },
    {
      "cell_type": "code",
      "execution_count": 125,
      "metadata": {
        "id": "HBScvb9bJhAz"
      },
      "outputs": [],
      "source": [
        "from sklearn.preprocessing import MinMaxScaler\n",
        "\n",
        "scaler = MinMaxScaler()\n",
        "X_normalized = scaler.fit_transform(X)"
      ]
    },
    {
      "cell_type": "code",
      "execution_count": 126,
      "metadata": {
        "id": "DI1wa8s1C9bD"
      },
      "outputs": [],
      "source": [
        "Y = dataframe[['columns1','columns2','columns3']]"
      ]
    },
    {
      "cell_type": "code",
      "execution_count": 127,
      "metadata": {
        "colab": {
          "base_uri": "https://localhost:8080/"
        },
        "id": "NzX-_oLGDQgu",
        "outputId": "88e79984-69ac-4975-f85c-30987172219a"
      },
      "outputs": [
        {
          "data": {
            "text/plain": [
              "Index(['columns1', 'columns2', 'columns3'], dtype='object')"
            ]
          },
          "execution_count": 127,
          "metadata": {},
          "output_type": "execute_result"
        }
      ],
      "source": [
        "Y.columns"
      ]
    },
    {
      "cell_type": "code",
      "execution_count": 128,
      "metadata": {
        "colab": {
          "base_uri": "https://localhost:8080/"
        },
        "id": "T6ds97vwDTDV",
        "outputId": "a2214ccb-d028-4178-885c-2575a93bf65d"
      },
      "outputs": [
        {
          "data": {
            "text/plain": [
              "(47514, 3)"
            ]
          },
          "execution_count": 128,
          "metadata": {},
          "output_type": "execute_result"
        }
      ],
      "source": [
        "Y.shape"
      ]
    },
    {
      "cell_type": "code",
      "execution_count": null,
      "metadata": {
        "id": "vn3Q7Kw5Jkx5"
      },
      "outputs": [],
      "source": []
    },
    {
      "cell_type": "code",
      "execution_count": 129,
      "metadata": {
        "colab": {
          "base_uri": "https://localhost:8080/"
        },
        "id": "2lvEjUNMJuNB",
        "outputId": "083719f9-cce0-42a8-e500-a85028185c03"
      },
      "outputs": [
        {
          "data": {
            "text/plain": [
              "array([[0.9982883 , 0.99746322, 0.00909091, ..., 0.        , 0.        ,\n",
              "        0.        ],\n",
              "       [0.9982883 , 0.99746322, 0.00909091, ..., 0.        , 0.        ,\n",
              "        0.        ],\n",
              "       [0.99828831, 0.99746322, 0.00909091, ..., 0.        , 0.        ,\n",
              "        0.        ],\n",
              "       ...,\n",
              "       [0.99853659, 0.99847793, 0.01363636, ..., 0.19047619, 0.        ,\n",
              "        0.92307692],\n",
              "       [0.99853659, 0.99847793, 0.01363636, ..., 0.19047619, 0.        ,\n",
              "        0.92307692],\n",
              "       [0.9985366 , 0.99847793, 0.01363636, ..., 0.19047619, 0.        ,\n",
              "        0.92307692]])"
            ]
          },
          "execution_count": 129,
          "metadata": {},
          "output_type": "execute_result"
        }
      ],
      "source": [
        "X_normalized"
      ]
    },
    {
      "cell_type": "code",
      "execution_count": 130,
      "metadata": {
        "colab": {
          "base_uri": "https://localhost:8080/"
        },
        "id": "hA43nau5nGzL",
        "outputId": "36fb68f5-8d26-419e-e259-541c0e173721"
      },
      "outputs": [
        {
          "data": {
            "text/plain": [
              "['160685-car-template-16x9.pptx',\n",
              " '20220114094625610.pdf',\n",
              " '2023_09_07 10_49 AM Office Lens (1).pdf',\n",
              " '2023_09_07 10_49 AM Office Lens (1)_page-0001.jpg',\n",
              " '20240104_165522.jpg',\n",
              " '20240104_165522.pdf',\n",
              " '360notes.txt',\n",
              " '382488.jpg',\n",
              " '3b7356e4807665656618d11c643ad6df9ab0d475f79a0354c9e24468c8b08f2a.mp4',\n",
              " '40165936113_20220128095033657513.pdf',\n",
              " '5VID_20230402_174337 (online-video-cutter.com).mp4',\n",
              " '6VID_20230402_181445 (online-video-cutter.com).mp4',\n",
              " '7VID_20230402_182224 720p Edited (online-video-cutter.com).mp4',\n",
              " 'a-lively-parisian-street-scene-at-dusk-with-people-and-cafes-impressionism-vis-qaym1lyd.jpeg',\n",
              " 'AARTI FINAL.docx',\n",
              " 'Academic LOR sample.pdf',\n",
              " 'additional costs computing.pdf',\n",
              " 'Ai Mini project Pandas (1).zip',\n",
              " 'AI_1.pdf',\n",
              " 'AI_Index_Sem5_2023-24.docx',\n",
              " 'andoridproject',\n",
              " 'Android-Attendance-App-2023',\n",
              " 'Angular Charts (1).docx',\n",
              " 'app-debug.zip',\n",
              " 'app-my-health-main',\n",
              " 'applform.pdf',\n",
              " 'APznzaYxH9j2uw_oUDQjxYwxjxlYjUdUpQ8q-W-4mSkRncVigKXtgectHywpQDM4cCz5IeDgtRzyomUV_9mSlQxN8GiocpgqfFtg-qKs31udjIJj8NZBGsWEVr7BOv2S-CMGauAcAgPoaolNBAEEj5nwWnWh9f5DGvPJP8i22lrRBpV_thEKfyXNE2RAg285EfG46nt3WFIPJRIQCAU.pdf',\n",
              " 'APznzaZQYOh_emCBpINIk0wvSQCNrrfCtLqHRtLY_zdvsni-PAU7Q9F93bo_kvsClT7TSsCe4_X5INQLbG14UYjvXGg63hPThk60RTixgxRlcnJc_cqkEofnamoLkjdQUZXTibcvkmRdRdwVScdS1Wo3w5TtkUw6LLty3woCbEYrPhH46C6UdYTY0j1mYg9HKzvbTbWtREamWwC9gdu.pdf',\n",
              " 'archive',\n",
              " 'arduino-ide_2.2.1_Windows_64bit.exe',\n",
              " 'autogaze-app',\n",
              " 'autogaze-app-216f1c6a96c611fc0c226b675795be7b67e6b147',\n",
              " 'autogaze-app-216f1c6a96c611fc0c226b675795be7b67e6b147 (4).zip',\n",
              " 'autogaze-app-4c8e80ae2803ea4cb31565c33295f4eabe27a863',\n",
              " 'autogaze-app-main',\n",
              " 'autogaze-app-main.zip',\n",
              " 'autogaze-app-sp2-vedanshu',\n",
              " 'autogaze-app-tillprofile',\n",
              " 'Automotive Mechanics Project Proposal by Slidesgo.pptx',\n",
              " 'AWS.docx',\n",
              " 'Bachelors Marksheets.pdf',\n",
              " 'Bank Of Mirzapur doc.docx',\n",
              " 'Bank Of Mirzapur.pdf',\n",
              " 'Bike Insurance.pdf',\n",
              " 'Bike video - Made with Clipchamp.mp4',\n",
              " 'BingWallpaper.exe',\n",
              " 'Biodata.docx',\n",
              " 'Bldg. No. 169.pdf',\n",
              " 'BLESampleExpo-main',\n",
              " 'boardingpass_KFZ83Q_JSABOM.pdf',\n",
              " 'Book1.json',\n",
              " 'Book1.xlsx',\n",
              " 'CapCut_2_1_0_419_capcutpc_0.exe',\n",
              " 'Car1twoweeks.json',\n",
              " 'Car1twoweeks.xlsx',\n",
              " 'CarsTable.json',\n",
              " 'CarsTable.xlsx',\n",
              " 'Caste Validity Certificate Vedanshu.pdf',\n",
              " 'CC PRACTICAL 2.docx',\n",
              " 'clideo_editor_332c321335fb45a0adc93186272dce4a.mp4',\n",
              " 'code stqa (1).txt',\n",
              " 'code stqa.txt',\n",
              " 'contacts.csv',\n",
              " 'contacts.py',\n",
              " 'CP210x_Universal_Windows_Driver',\n",
              " 'Cryptography and Network Security - Prins and Pract. 5th ed - W. Stallings (Pearson, 2011) BBSbb.pdf',\n",
              " 'curriculum1012202394622.pdf',\n",
              " 'curriculum1012202394642.pdf',\n",
              " 'curriculum1012202394653.pdf',\n",
              " 'curriculum1012202395800.pdf',\n",
              " 'curriculum1012202395816.pdf',\n",
              " 'curriculum1013202380021.pdf',\n",
              " 'cv87425855_vedanshu-kocharekar_odjrws.pdf',\n",
              " 'cy-shopify-demo_v2.zip',\n",
              " 'CyPress',\n",
              " 'desktop.ini',\n",
              " 'DOC Pandas in python (1).docx',\n",
              " 'DOC-20230619-WA0016_',\n",
              " 'DOC-20230619-WA0016_ (1)',\n",
              " 'Document from Ulka Kudtarkar.docx',\n",
              " 'Document from Ulka Kudtarkar.pdf',\n",
              " 'Documents - Shortcut.lnk',\n",
              " 'drive-download-20230430T163513Z-001',\n",
              " 'DS Practical 3.docx',\n",
              " 'DSC_0267.JPG',\n",
              " 'DSC_0268.JPG',\n",
              " 'DSC_0269.JPG',\n",
              " 'DSC_0398.JPG',\n",
              " 'DT20235056019_Application.pdf',\n",
              " 'e69bcd7763bcd01a4722b175158e507c.jpg',\n",
              " 'eclipse-inst-jre-win64.exe',\n",
              " 'Ethical Hacking Practical 1a.docx',\n",
              " 'Ethical Hacking Practical 3(A).docx',\n",
              " 'excel-to-json.json',\n",
              " 'ezgif.com-video-to-mp4.mp4',\n",
              " 'Fee Recipt Ruia FY.jpg',\n",
              " 'FinalProject',\n",
              " 'flaskserver.py',\n",
              " 'Form6_S13179O6N1109231200003.pdf.pdf',\n",
              " 'Form8_S13179O8O1209231200000.pdf.pdf',\n",
              " 'Form8_S13179O8O1209231200001.pdf.pdf',\n",
              " 'Gazzette Recipt.pdf',\n",
              " 'Grading Sheet.pdf',\n",
              " 'header.liquid',\n",
              " 'hp laptop serial no..jpg',\n",
              " 'IMG20230614122453.jpg',\n",
              " 'IMG20230614122509.jpg',\n",
              " 'IMG20230614122516.jpg',\n",
              " 'IMG20230614122517.jpg',\n",
              " 'IMG20230614122639.jpg',\n",
              " 'IMG20230614122648.jpg',\n",
              " 'IMG20230614122654.jpg',\n",
              " 'IMG20230614122709.jpg',\n",
              " 'IMG_0012.JPG',\n",
              " 'IMG_0016.JPG',\n",
              " 'IMG_1430.MOV',\n",
              " 'IMG_20230407_095037.jpg',\n",
              " 'IMG_6812.HEIC',\n",
              " 'IMG_7105.mp4',\n",
              " 'IMG_7109.MOV',\n",
              " 'IMG_7148.mp4',\n",
              " 'IMG_7148_MOV_AdobeExpress.mp4',\n",
              " 'IMG_7195.HEIC',\n",
              " 'IMG_7214.HEIC',\n",
              " 'IMG_7225.HEIC',\n",
              " 'IMG_7230.HEIC',\n",
              " 'IMG_7236.HEIC',\n",
              " 'Income Certificate 2022 (1).docx',\n",
              " 'Income Certificate 2022 (2).docx',\n",
              " 'Income Certificate 2022.docx',\n",
              " 'INDEMNITY BOND CUM UNDERTAKING CUM AFFIDAVIT BY LEGAL HEIRS MR. JAYWANT BABURAO KOCHAREKAR & OTHERS (Flat No. 4733 - 169, PANT NAGAR PHULRANI CHSL) (1).docx',\n",
              " 'INDEMNITY BOND CUM UNDERTAKING CUM AFFIDAVIT BY LEGAL HEIRS MR. JAYWANT BABURAO KOCHAREKAR & OTHERS (Flat No. 4733 - 169, PANT NAGAR PHULRANI CHSL) (2).docx',\n",
              " 'INDEMNITY BOND CUM UNDERTAKING CUM AFFIDAVIT BY LEGAL HEIRS MR. JAYWANT BABURAO KOCHAREKAR & OTHERS (Flat No. 4733 - 169, PANT NAGAR PHULRANI CHSL).docx',\n",
              " 'Indemnity Bond F.docx',\n",
              " 'index (1).tsx',\n",
              " 'index.tsx',\n",
              " 'IntelAndroidDrvSetup1.10.0.zip',\n",
              " 'INTENT-AWARE RECOMMENDATION SYSTEM.pdf',\n",
              " 'International Guide 2023-24.pdf',\n",
              " 'Internshala Resume.docx',\n",
              " 'Introduction to Cryptography and Network Security.pdf',\n",
              " 'Iobit',\n",
              " 'Iobit (3).zip',\n",
              " 'Jaywant Kranti Marriage Certificate.pdf',\n",
              " 'Jaywant vaccine certificate.pdf',\n",
              " 'jdk-18.0.1.1_windows-x64_bin.exe',\n",
              " 'jdk-7u80-windows-x64.exe',\n",
              " 'jdk-8u101-windows-x64.exe',\n",
              " 'jdk-8u202-windows-x64.exe',\n",
              " 'jre-8u333-windows-x64.exe',\n",
              " 'json_to_firestore',\n",
              " 'kali-linux-2023.2-virtualbox-amd64',\n",
              " 'KOCHREKAR SOCIETY LETTER PDF.doc',\n",
              " 'KOCHREKAR SOCIETY LETTER PDF.pages',\n",
              " 'leaving.pdf',\n",
              " 'LOR Employer.docx',\n",
              " 'LOR Employer.pdf',\n",
              " 'LOR Professional (1).docx',\n",
              " 'LOR Professional.docx',\n",
              " 'LOR Teacher.docx',\n",
              " 'LOR Vedanshu.pdf',\n",
              " 'LOR2 Vedanshu.pdf',\n",
              " 'marriagecertificate.pdf',\n",
              " 'mclaren-720s-gt3-1549636513.jpg',\n",
              " 'mercedes-benz-amg.jpg',\n",
              " 'model.joblib',\n",
              " 'model.onnx',\n",
              " 'mrkocharF.xls',\n",
              " 'Mrudula Passport Appointment Reciept2.pdf',\n",
              " 'Mrudula vaccine certificate.pdf',\n",
              " 'MRUDULA_KOCHAREKAR (1).docx',\n",
              " 'Mrunalini death certificate.jpeg',\n",
              " 'Music - Shortcut.lnk',\n",
              " 'my_data.xlsx',\n",
              " 'NameChangeAppFormEng (1).pdf',\n",
              " 'NameChangeAppFormEng.pdf',\n",
              " 'NF91128343857298.ETicket.pdf',\n",
              " 'NF98197345756130_BoardingPass.pdf',\n",
              " 'node-v18.18.0-x64.msi',\n",
              " 'node_modules',\n",
              " 'NumberOperations.html',\n",
              " 'numbers',\n",
              " 'obd-exploratory-data-analysis.ipynb',\n",
              " 'obdmodelbuilding.ipynb',\n",
              " 'openjdk-8u41-b04-windows-i586-14_jan_2020',\n",
              " 'openjfx-18.0.2_windows-x86_bin-sdk',\n",
              " 'OracleXE213_Win64',\n",
              " 'package-lock.json',\n",
              " 'package.json',\n",
              " 'pancard.jpeg',\n",
              " 'Pandurang Hari.pdf',\n",
              " 'Passport Vedanshu.pdf',\n",
              " 'PaymentReceipt.pdf',\n",
              " 'phulraniletter.docx',\n",
              " 'platform-tools_r33.0.3-windows',\n",
              " 'play-svgrepo-com.svg',\n",
              " 'Postman.txt',\n",
              " 'PRACTICAL NO 08.docx',\n",
              " 'Pranita_Kadge_Resume.pdf',\n",
              " 'Previuos year.pdf',\n",
              " 'product-detail-snippet.txt',\n",
              " 'Profile.pdf',\n",
              " 'Python practical_4 Strings question.py',\n",
              " 'python-3.9.7-amd64.exe',\n",
              " 'R123.doc',\n",
              " 'ReactNativeArduinoBLE-main',\n",
              " 'Receipt_118759 (1).pdf',\n",
              " 'Receipt_118759.pdf',\n",
              " 'receipt_63227 Mhada.pdf',\n",
              " 'Release Deed F.docx',\n",
              " 'RELEASE DEED MRS. VISHAKHA VIVEK KOCHREKAR TO MR. JAYWANT BABURAO KOCHAREKAR & OTHERS (FLAT NO. 4733 – 169 - PANT NAGAR PHULRANI CHSL) 5% SHARES OF 20% SHARES FROM 100% SHARES (1).docx',\n",
              " 'RELEASE DEED MRS. VISHAKHA VIVEK KOCHREKAR TO MR. JAYWANT BABURAO KOCHAREKAR & OTHERS (FLAT NO. 4733 – 169 - PANT NAGAR PHULRANI CHSL) 5% SHARES OF 20% SHARES FROM 100% SHARES (2).docx',\n",
              " 'RELEASE DEED MRS. VISHAKHA VIVEK KOCHREKAR TO MR. JAYWANT BABURAO KOCHAREKAR & OTHERS (FLAT NO. 4733 – 169 - PANT NAGAR PHULRANI CHSL) 5% SHARES OF 20% SHARES FROM 100% SHARES.docx',\n",
              " 'Resume.xml',\n",
              " 'resumevedanshu.doc',\n",
              " 'ResumeVedanshu.pdf',\n",
              " 'rightarrowblack.png',\n",
              " 'robofriends',\n",
              " 'royal-enfield-engine-interceptor-650cc-start-on-off-idle-close-perspective-51770.mp3',\n",
              " 'RUIA BSCCS APPLICATION (MU)_compressed.pdf',\n",
              " 'RUIA Fee Payment Recipt.pdf',\n",
              " 'Saibaba wallpaper.jpg',\n",
              " 'Saurabh Finance01.txt',\n",
              " 'Screenshare folder',\n",
              " 'Screenshot 2023-04-14 192057.jpg',\n",
              " 'Screenshot 2023-06-16 171125.jpg',\n",
              " 'Screenshot 2023-06-16 171804.jpg',\n",
              " 'Screenshot 2023-06-16 171950.jpg',\n",
              " 'Screenshot_2024-01-22-12-10-48-43.jpg',\n",
              " 'Screenshot_2024-01-22-12-11-59-64.jpg',\n",
              " 'Screenshot_2024-01-22-12-12-23-25.jpg',\n",
              " 'Screenshot_2024-01-22-12-13-00-70.jpg',\n",
              " 'SEM6_PreviousYearQuestionPaper.pdf',\n",
              " 'SimpleAndroid',\n",
              " 'Snapchat-297162656.jpg',\n",
              " 'Snapchat-428808473.jpg',\n",
              " 'SoftwareDeveloperLetter.TXT',\n",
              " 'SOP Edit.docx',\n",
              " 'Statement of Purpose Coventry.docx',\n",
              " 'Statement of Purpose Ireland Cyber.docx',\n",
              " 'Statement of Purpose Ireland UCD.docx',\n",
              " 'Statement of Purpose Ireland.docx',\n",
              " 'Statement of Purpose MMU Cyber.docx',\n",
              " 'Statement of Purpose UK Cyber MMU - Copy.docx',\n",
              " 'Statement of Purpose UK.docx',\n",
              " 'Step-Sense-main',\n",
              " 'Step-Sense-main.zip',\n",
              " 'STQA Mini Project Group3 Cypress (1).docx',\n",
              " 'STQA Practical 2.docx',\n",
              " 'SURAJ NIKAM_RESUME (1).pdf',\n",
              " 'SVGRepo_iconCarrier (1).jpg',\n",
              " 'SVGRepo_iconCarrier.jpg',\n",
              " \"Techstorm all certificates winners (with Principal's sign) 16-2-2022.pdf\",\n",
              " 'TEST.xlsx',\n",
              " 'TestData.xlsx',\n",
              " 'To principal.docx',\n",
              " 'tp',\n",
              " 'TRAIN.xlsx',\n",
              " 'TransferNow-TechStorm CL Meet',\n",
              " 'Trips_Flight_DownloadETicket (1).pdf',\n",
              " 'Trips_Flight_DownloadETicket (2) (1).pdf',\n",
              " 'Trips_Flight_DownloadETicket (2).pdf',\n",
              " 'Trips_Flight_DownloadETicket (3).pdf',\n",
              " 'Trips_Flight_DownloadETicket (4).pdf',\n",
              " 'Trips_Flight_DownloadETicket.pdf',\n",
              " 'Trips_Hotel_DownloadETicket (1).pdf',\n",
              " 'Trips_Hotel_DownloadETicket (3).pdf',\n",
              " 'Trips_Hotel_DownloadETicket (5).pdf',\n",
              " 'Trips_Hotel_DownloadETicket.pdf',\n",
              " 'TV purchase Invoice Croma.eml',\n",
              " 'twilio recovery code.txt',\n",
              " 'Ty Admission Application.pdf',\n",
              " 'TY Project Index 2023-24.docx',\n",
              " 'TY Sem VI Internal Test TT and Syllabus 2024.docx',\n",
              " 'TY_Practical Time Table_2023.pdf',\n",
              " 'ubuntu-20.04.3-desktop-amd64.iso',\n",
              " 'ubuntu-20.04.4-live-server-amd64.iso',\n",
              " 'UFF2839058.pdf',\n",
              " 'University of Bristol PG Guide_2023.pdf',\n",
              " 'Vedanshu Draft letter to PM.docx',\n",
              " 'Vedanshu Photo 1.jpeg',\n",
              " 'Vedanshu Photo 2.jpeg',\n",
              " 'Vedanshu Photo 3.jpeg',\n",
              " 'Vedanshu Photo 4.jpeg',\n",
              " 'Vedanshu Photo.jpeg',\n",
              " 'Vedanshu vaccine certificate.pdf',\n",
              " 'Vedanshu.jpg',\n",
              " 'vedantshu',\n",
              " 'vertopal.com_0016317_anchor-penta-angle-holder_600.art',\n",
              " 'VID20230107163225.mp4',\n",
              " 'VID20230411170455.mp4',\n",
              " 'VID20230717123030.mp4',\n",
              " 'VID20230717124252.mp4',\n",
              " 'VID20230717124356.mp4',\n",
              " 'VID20230717132204.mp4',\n",
              " 'VID20230721161130.mp4',\n",
              " 'VID20230721174201 (mp3cut.net).m4a',\n",
              " 'VID20230721174201.mp4',\n",
              " 'VID20230726142807.mp4',\n",
              " 'VID_20230402_182224 720p Edited.mp4',\n",
              " 'VID_20230402_191416 (online-video-cutter.com).mp4',\n",
              " 'VSCodeUserSetup-x64-1.58.2.exe',\n",
              " 'VSCodeUserSetup-x64-1.84.0.exe',\n",
              " 'WhatsApp Image 2021-08-27 at 2.28.34 PM.jpeg',\n",
              " 'WhatsApp Image 2023-07-26 at 2.34.18 PM.jpeg',\n",
              " 'WhatsApp Image 2023-07-26 at 2.34.18 PM.jpg',\n",
              " 'WhatsApp Image 2023-08-14 at 3.49.34 PM.jpeg',\n",
              " 'WhatsApp Image 2023-08-14 at 3.49.34 PMM-min.jpg',\n",
              " 'WhatsApp Image 2023-09-05 at 8.48.16 AM.jpeg',\n",
              " 'WhatsApp Image 2023-09-05 at 8.48.17 AM.jpeg',\n",
              " 'WhatsApp Image 2023-09-05 at 8.48.18 AM.jpeg',\n",
              " 'WhatsApp Image 2023-09-08 at 3.47.33 PM.jpeg',\n",
              " 'WhatsApp Image 2024-01-05 at 15.18.52.jpeg',\n",
              " 'WhatsApp Image 2024-01-05 at 15.18.52.pdf',\n",
              " 'WhatsApp Video 2023-04-21 at 1.58.28 PM (online-video-cutter.com).mp4',\n",
              " 'WhatsApp Video 2023-04-21 at 1.58.28 PM.mp4',\n",
              " 'WhatsApp Video 2023-04-21 at 1.58.37 PM.mp4',\n",
              " 'winrar-x64-591.exe',\n",
              " 'wp2422279.jpg',\n",
              " 'X XII Marksheets.pdf',\n",
              " 'X2Download.app - Tera ban jaunga karaoke (320 kbps).mp3',\n",
              " 'y2mate.com - Stay.mp3',\n",
              " 'y2mate.com - Tokyo Drift  Teriyaki Boyz PedroDJDaddy Remix Bass Boosted.mp3',\n",
              " 'Your boarding pass to MUMBAI -AIR INDIA (1).pdf',\n",
              " 'Your boarding pass to MUMBAI -AIR INDIA (2).pdf',\n",
              " 'Your boarding pass to MUMBAI -AIR INDIA (3).pdf',\n",
              " 'Your boarding pass to MUMBAI -AIR INDIA (4).pdf',\n",
              " 'Your boarding pass to MUMBAI -AIR INDIA (5).pdf',\n",
              " 'Your boarding pass to MUMBAI -AIR INDIA (6).pdf',\n",
              " 'Your boarding pass to MUMBAI -AIR INDIA (7).pdf',\n",
              " 'Your boarding pass to MUMBAI -AIR INDIA.pdf',\n",
              " '—Slidesdocs—car light effect light red_6201fd378c',\n",
              " '—Slidesdocs—car light effect light red_6201fd378c.zip']"
            ]
          },
          "execution_count": 130,
          "metadata": {},
          "output_type": "execute_result"
        }
      ],
      "source": [
        "df = pd.DataFrame(X_normalized)\n",
        "\n",
        "\n",
        "# Convert the DataFrame to an Excel file and save it in Colab\n",
        "excel_file_name = \"my_data.xlsx\"\n",
        "df.to_excel(excel_file_name, index=False)\n",
        "\n",
        "# Confirm that the file has been saved\n",
        "import os\n",
        "os.listdir()"
      ]
    },
    {
      "cell_type": "code",
      "execution_count": 131,
      "metadata": {
        "id": "QB6bZPmdDVjS"
      },
      "outputs": [],
      "source": [
        "# splitting the dataset into test and train dataset\n",
        "\n",
        "from sklearn.model_selection import train_test_split\n",
        "\n",
        "Xtrain, Xtest, ytrain, ytest = train_test_split(X_normalized, Y, test_size=0.2, random_state=42)\n"
      ]
    },
    {
      "cell_type": "code",
      "execution_count": 132,
      "metadata": {
        "colab": {
          "base_uri": "https://localhost:8080/"
        },
        "id": "OXUSyq0DGJcp",
        "outputId": "db03e159-529d-44a3-e782-541544cf115e"
      },
      "outputs": [
        {
          "data": {
            "text/plain": [
              "(38011, 21)"
            ]
          },
          "execution_count": 132,
          "metadata": {},
          "output_type": "execute_result"
        }
      ],
      "source": [
        "Xtrain.shape # training data"
      ]
    },
    {
      "cell_type": "code",
      "execution_count": 133,
      "metadata": {
        "colab": {
          "base_uri": "https://localhost:8080/"
        },
        "id": "7Q1g9BgeoVzx",
        "outputId": "5b4a1fd9-ee05-40eb-ada7-88d593bba62b"
      },
      "outputs": [
        {
          "data": {
            "text/plain": [
              "['160685-car-template-16x9.pptx',\n",
              " '20220114094625610.pdf',\n",
              " '2023_09_07 10_49 AM Office Lens (1).pdf',\n",
              " '2023_09_07 10_49 AM Office Lens (1)_page-0001.jpg',\n",
              " '20240104_165522.jpg',\n",
              " '20240104_165522.pdf',\n",
              " '360notes.txt',\n",
              " '382488.jpg',\n",
              " '3b7356e4807665656618d11c643ad6df9ab0d475f79a0354c9e24468c8b08f2a.mp4',\n",
              " '40165936113_20220128095033657513.pdf',\n",
              " '5VID_20230402_174337 (online-video-cutter.com).mp4',\n",
              " '6VID_20230402_181445 (online-video-cutter.com).mp4',\n",
              " '7VID_20230402_182224 720p Edited (online-video-cutter.com).mp4',\n",
              " 'a-lively-parisian-street-scene-at-dusk-with-people-and-cafes-impressionism-vis-qaym1lyd.jpeg',\n",
              " 'AARTI FINAL.docx',\n",
              " 'Academic LOR sample.pdf',\n",
              " 'additional costs computing.pdf',\n",
              " 'Ai Mini project Pandas (1).zip',\n",
              " 'AI_1.pdf',\n",
              " 'AI_Index_Sem5_2023-24.docx',\n",
              " 'andoridproject',\n",
              " 'Android-Attendance-App-2023',\n",
              " 'Angular Charts (1).docx',\n",
              " 'app-debug.zip',\n",
              " 'app-my-health-main',\n",
              " 'applform.pdf',\n",
              " 'APznzaYxH9j2uw_oUDQjxYwxjxlYjUdUpQ8q-W-4mSkRncVigKXtgectHywpQDM4cCz5IeDgtRzyomUV_9mSlQxN8GiocpgqfFtg-qKs31udjIJj8NZBGsWEVr7BOv2S-CMGauAcAgPoaolNBAEEj5nwWnWh9f5DGvPJP8i22lrRBpV_thEKfyXNE2RAg285EfG46nt3WFIPJRIQCAU.pdf',\n",
              " 'APznzaZQYOh_emCBpINIk0wvSQCNrrfCtLqHRtLY_zdvsni-PAU7Q9F93bo_kvsClT7TSsCe4_X5INQLbG14UYjvXGg63hPThk60RTixgxRlcnJc_cqkEofnamoLkjdQUZXTibcvkmRdRdwVScdS1Wo3w5TtkUw6LLty3woCbEYrPhH46C6UdYTY0j1mYg9HKzvbTbWtREamWwC9gdu.pdf',\n",
              " 'archive',\n",
              " 'arduino-ide_2.2.1_Windows_64bit.exe',\n",
              " 'autogaze-app',\n",
              " 'autogaze-app-216f1c6a96c611fc0c226b675795be7b67e6b147',\n",
              " 'autogaze-app-216f1c6a96c611fc0c226b675795be7b67e6b147 (4).zip',\n",
              " 'autogaze-app-4c8e80ae2803ea4cb31565c33295f4eabe27a863',\n",
              " 'autogaze-app-main',\n",
              " 'autogaze-app-main.zip',\n",
              " 'autogaze-app-sp2-vedanshu',\n",
              " 'autogaze-app-tillprofile',\n",
              " 'Automotive Mechanics Project Proposal by Slidesgo.pptx',\n",
              " 'AWS.docx',\n",
              " 'Bachelors Marksheets.pdf',\n",
              " 'Bank Of Mirzapur doc.docx',\n",
              " 'Bank Of Mirzapur.pdf',\n",
              " 'Bike Insurance.pdf',\n",
              " 'Bike video - Made with Clipchamp.mp4',\n",
              " 'BingWallpaper.exe',\n",
              " 'Biodata.docx',\n",
              " 'Bldg. No. 169.pdf',\n",
              " 'BLESampleExpo-main',\n",
              " 'boardingpass_KFZ83Q_JSABOM.pdf',\n",
              " 'Book1.json',\n",
              " 'Book1.xlsx',\n",
              " 'CapCut_2_1_0_419_capcutpc_0.exe',\n",
              " 'Car1twoweeks.json',\n",
              " 'Car1twoweeks.xlsx',\n",
              " 'CarsTable.json',\n",
              " 'CarsTable.xlsx',\n",
              " 'Caste Validity Certificate Vedanshu.pdf',\n",
              " 'CC PRACTICAL 2.docx',\n",
              " 'clideo_editor_332c321335fb45a0adc93186272dce4a.mp4',\n",
              " 'code stqa (1).txt',\n",
              " 'code stqa.txt',\n",
              " 'contacts.csv',\n",
              " 'contacts.py',\n",
              " 'CP210x_Universal_Windows_Driver',\n",
              " 'Cryptography and Network Security - Prins and Pract. 5th ed - W. Stallings (Pearson, 2011) BBSbb.pdf',\n",
              " 'curriculum1012202394622.pdf',\n",
              " 'curriculum1012202394642.pdf',\n",
              " 'curriculum1012202394653.pdf',\n",
              " 'curriculum1012202395800.pdf',\n",
              " 'curriculum1012202395816.pdf',\n",
              " 'curriculum1013202380021.pdf',\n",
              " 'cv87425855_vedanshu-kocharekar_odjrws.pdf',\n",
              " 'cy-shopify-demo_v2.zip',\n",
              " 'CyPress',\n",
              " 'desktop.ini',\n",
              " 'DOC Pandas in python (1).docx',\n",
              " 'DOC-20230619-WA0016_',\n",
              " 'DOC-20230619-WA0016_ (1)',\n",
              " 'Document from Ulka Kudtarkar.docx',\n",
              " 'Document from Ulka Kudtarkar.pdf',\n",
              " 'Documents - Shortcut.lnk',\n",
              " 'drive-download-20230430T163513Z-001',\n",
              " 'DS Practical 3.docx',\n",
              " 'DSC_0267.JPG',\n",
              " 'DSC_0268.JPG',\n",
              " 'DSC_0269.JPG',\n",
              " 'DSC_0398.JPG',\n",
              " 'DT20235056019_Application.pdf',\n",
              " 'e69bcd7763bcd01a4722b175158e507c.jpg',\n",
              " 'eclipse-inst-jre-win64.exe',\n",
              " 'Ethical Hacking Practical 1a.docx',\n",
              " 'Ethical Hacking Practical 3(A).docx',\n",
              " 'excel-to-json.json',\n",
              " 'ezgif.com-video-to-mp4.mp4',\n",
              " 'Fee Recipt Ruia FY.jpg',\n",
              " 'FinalProject',\n",
              " 'flaskserver.py',\n",
              " 'Form6_S13179O6N1109231200003.pdf.pdf',\n",
              " 'Form8_S13179O8O1209231200000.pdf.pdf',\n",
              " 'Form8_S13179O8O1209231200001.pdf.pdf',\n",
              " 'Gazzette Recipt.pdf',\n",
              " 'Grading Sheet.pdf',\n",
              " 'header.liquid',\n",
              " 'hp laptop serial no..jpg',\n",
              " 'IMG20230614122453.jpg',\n",
              " 'IMG20230614122509.jpg',\n",
              " 'IMG20230614122516.jpg',\n",
              " 'IMG20230614122517.jpg',\n",
              " 'IMG20230614122639.jpg',\n",
              " 'IMG20230614122648.jpg',\n",
              " 'IMG20230614122654.jpg',\n",
              " 'IMG20230614122709.jpg',\n",
              " 'IMG_0012.JPG',\n",
              " 'IMG_0016.JPG',\n",
              " 'IMG_1430.MOV',\n",
              " 'IMG_20230407_095037.jpg',\n",
              " 'IMG_6812.HEIC',\n",
              " 'IMG_7105.mp4',\n",
              " 'IMG_7109.MOV',\n",
              " 'IMG_7148.mp4',\n",
              " 'IMG_7148_MOV_AdobeExpress.mp4',\n",
              " 'IMG_7195.HEIC',\n",
              " 'IMG_7214.HEIC',\n",
              " 'IMG_7225.HEIC',\n",
              " 'IMG_7230.HEIC',\n",
              " 'IMG_7236.HEIC',\n",
              " 'Income Certificate 2022 (1).docx',\n",
              " 'Income Certificate 2022 (2).docx',\n",
              " 'Income Certificate 2022.docx',\n",
              " 'INDEMNITY BOND CUM UNDERTAKING CUM AFFIDAVIT BY LEGAL HEIRS MR. JAYWANT BABURAO KOCHAREKAR & OTHERS (Flat No. 4733 - 169, PANT NAGAR PHULRANI CHSL) (1).docx',\n",
              " 'INDEMNITY BOND CUM UNDERTAKING CUM AFFIDAVIT BY LEGAL HEIRS MR. JAYWANT BABURAO KOCHAREKAR & OTHERS (Flat No. 4733 - 169, PANT NAGAR PHULRANI CHSL) (2).docx',\n",
              " 'INDEMNITY BOND CUM UNDERTAKING CUM AFFIDAVIT BY LEGAL HEIRS MR. JAYWANT BABURAO KOCHAREKAR & OTHERS (Flat No. 4733 - 169, PANT NAGAR PHULRANI CHSL).docx',\n",
              " 'Indemnity Bond F.docx',\n",
              " 'index (1).tsx',\n",
              " 'index.tsx',\n",
              " 'IntelAndroidDrvSetup1.10.0.zip',\n",
              " 'INTENT-AWARE RECOMMENDATION SYSTEM.pdf',\n",
              " 'International Guide 2023-24.pdf',\n",
              " 'Internshala Resume.docx',\n",
              " 'Introduction to Cryptography and Network Security.pdf',\n",
              " 'Iobit',\n",
              " 'Iobit (3).zip',\n",
              " 'Jaywant Kranti Marriage Certificate.pdf',\n",
              " 'Jaywant vaccine certificate.pdf',\n",
              " 'jdk-18.0.1.1_windows-x64_bin.exe',\n",
              " 'jdk-7u80-windows-x64.exe',\n",
              " 'jdk-8u101-windows-x64.exe',\n",
              " 'jdk-8u202-windows-x64.exe',\n",
              " 'jre-8u333-windows-x64.exe',\n",
              " 'json_to_firestore',\n",
              " 'kali-linux-2023.2-virtualbox-amd64',\n",
              " 'KOCHREKAR SOCIETY LETTER PDF.doc',\n",
              " 'KOCHREKAR SOCIETY LETTER PDF.pages',\n",
              " 'leaving.pdf',\n",
              " 'LOR Employer.docx',\n",
              " 'LOR Employer.pdf',\n",
              " 'LOR Professional (1).docx',\n",
              " 'LOR Professional.docx',\n",
              " 'LOR Teacher.docx',\n",
              " 'LOR Vedanshu.pdf',\n",
              " 'LOR2 Vedanshu.pdf',\n",
              " 'marriagecertificate.pdf',\n",
              " 'mclaren-720s-gt3-1549636513.jpg',\n",
              " 'mercedes-benz-amg.jpg',\n",
              " 'model.joblib',\n",
              " 'model.onnx',\n",
              " 'mrkocharF.xls',\n",
              " 'Mrudula Passport Appointment Reciept2.pdf',\n",
              " 'Mrudula vaccine certificate.pdf',\n",
              " 'MRUDULA_KOCHAREKAR (1).docx',\n",
              " 'Mrunalini death certificate.jpeg',\n",
              " 'Music - Shortcut.lnk',\n",
              " 'my_data.xlsx',\n",
              " 'NameChangeAppFormEng (1).pdf',\n",
              " 'NameChangeAppFormEng.pdf',\n",
              " 'NF91128343857298.ETicket.pdf',\n",
              " 'NF98197345756130_BoardingPass.pdf',\n",
              " 'node-v18.18.0-x64.msi',\n",
              " 'node_modules',\n",
              " 'NumberOperations.html',\n",
              " 'numbers',\n",
              " 'obd-exploratory-data-analysis.ipynb',\n",
              " 'obdmodelbuilding.ipynb',\n",
              " 'openjdk-8u41-b04-windows-i586-14_jan_2020',\n",
              " 'openjfx-18.0.2_windows-x86_bin-sdk',\n",
              " 'OracleXE213_Win64',\n",
              " 'package-lock.json',\n",
              " 'package.json',\n",
              " 'pancard.jpeg',\n",
              " 'Pandurang Hari.pdf',\n",
              " 'Passport Vedanshu.pdf',\n",
              " 'PaymentReceipt.pdf',\n",
              " 'phulraniletter.docx',\n",
              " 'platform-tools_r33.0.3-windows',\n",
              " 'play-svgrepo-com.svg',\n",
              " 'Postman.txt',\n",
              " 'PRACTICAL NO 08.docx',\n",
              " 'Pranita_Kadge_Resume.pdf',\n",
              " 'Previuos year.pdf',\n",
              " 'product-detail-snippet.txt',\n",
              " 'Profile.pdf',\n",
              " 'Python practical_4 Strings question.py',\n",
              " 'python-3.9.7-amd64.exe',\n",
              " 'R123.doc',\n",
              " 'ReactNativeArduinoBLE-main',\n",
              " 'Receipt_118759 (1).pdf',\n",
              " 'Receipt_118759.pdf',\n",
              " 'receipt_63227 Mhada.pdf',\n",
              " 'Release Deed F.docx',\n",
              " 'RELEASE DEED MRS. VISHAKHA VIVEK KOCHREKAR TO MR. JAYWANT BABURAO KOCHAREKAR & OTHERS (FLAT NO. 4733 – 169 - PANT NAGAR PHULRANI CHSL) 5% SHARES OF 20% SHARES FROM 100% SHARES (1).docx',\n",
              " 'RELEASE DEED MRS. VISHAKHA VIVEK KOCHREKAR TO MR. JAYWANT BABURAO KOCHAREKAR & OTHERS (FLAT NO. 4733 – 169 - PANT NAGAR PHULRANI CHSL) 5% SHARES OF 20% SHARES FROM 100% SHARES (2).docx',\n",
              " 'RELEASE DEED MRS. VISHAKHA VIVEK KOCHREKAR TO MR. JAYWANT BABURAO KOCHAREKAR & OTHERS (FLAT NO. 4733 – 169 - PANT NAGAR PHULRANI CHSL) 5% SHARES OF 20% SHARES FROM 100% SHARES.docx',\n",
              " 'Resume.xml',\n",
              " 'resumevedanshu.doc',\n",
              " 'ResumeVedanshu.pdf',\n",
              " 'rightarrowblack.png',\n",
              " 'robofriends',\n",
              " 'royal-enfield-engine-interceptor-650cc-start-on-off-idle-close-perspective-51770.mp3',\n",
              " 'RUIA BSCCS APPLICATION (MU)_compressed.pdf',\n",
              " 'RUIA Fee Payment Recipt.pdf',\n",
              " 'Saibaba wallpaper.jpg',\n",
              " 'Saurabh Finance01.txt',\n",
              " 'Screenshare folder',\n",
              " 'Screenshot 2023-04-14 192057.jpg',\n",
              " 'Screenshot 2023-06-16 171125.jpg',\n",
              " 'Screenshot 2023-06-16 171804.jpg',\n",
              " 'Screenshot 2023-06-16 171950.jpg',\n",
              " 'Screenshot_2024-01-22-12-10-48-43.jpg',\n",
              " 'Screenshot_2024-01-22-12-11-59-64.jpg',\n",
              " 'Screenshot_2024-01-22-12-12-23-25.jpg',\n",
              " 'Screenshot_2024-01-22-12-13-00-70.jpg',\n",
              " 'SEM6_PreviousYearQuestionPaper.pdf',\n",
              " 'SimpleAndroid',\n",
              " 'Snapchat-297162656.jpg',\n",
              " 'Snapchat-428808473.jpg',\n",
              " 'SoftwareDeveloperLetter.TXT',\n",
              " 'SOP Edit.docx',\n",
              " 'Statement of Purpose Coventry.docx',\n",
              " 'Statement of Purpose Ireland Cyber.docx',\n",
              " 'Statement of Purpose Ireland UCD.docx',\n",
              " 'Statement of Purpose Ireland.docx',\n",
              " 'Statement of Purpose MMU Cyber.docx',\n",
              " 'Statement of Purpose UK Cyber MMU - Copy.docx',\n",
              " 'Statement of Purpose UK.docx',\n",
              " 'Step-Sense-main',\n",
              " 'Step-Sense-main.zip',\n",
              " 'STQA Mini Project Group3 Cypress (1).docx',\n",
              " 'STQA Practical 2.docx',\n",
              " 'SURAJ NIKAM_RESUME (1).pdf',\n",
              " 'SVGRepo_iconCarrier (1).jpg',\n",
              " 'SVGRepo_iconCarrier.jpg',\n",
              " \"Techstorm all certificates winners (with Principal's sign) 16-2-2022.pdf\",\n",
              " 'TEST.xlsx',\n",
              " 'TestData.xlsx',\n",
              " 'To principal.docx',\n",
              " 'tp',\n",
              " 'TRAIN.xlsx',\n",
              " 'TransferNow-TechStorm CL Meet',\n",
              " 'Trips_Flight_DownloadETicket (1).pdf',\n",
              " 'Trips_Flight_DownloadETicket (2) (1).pdf',\n",
              " 'Trips_Flight_DownloadETicket (2).pdf',\n",
              " 'Trips_Flight_DownloadETicket (3).pdf',\n",
              " 'Trips_Flight_DownloadETicket (4).pdf',\n",
              " 'Trips_Flight_DownloadETicket.pdf',\n",
              " 'Trips_Hotel_DownloadETicket (1).pdf',\n",
              " 'Trips_Hotel_DownloadETicket (3).pdf',\n",
              " 'Trips_Hotel_DownloadETicket (5).pdf',\n",
              " 'Trips_Hotel_DownloadETicket.pdf',\n",
              " 'TV purchase Invoice Croma.eml',\n",
              " 'twilio recovery code.txt',\n",
              " 'Ty Admission Application.pdf',\n",
              " 'TY Project Index 2023-24.docx',\n",
              " 'TY Sem VI Internal Test TT and Syllabus 2024.docx',\n",
              " 'TY_Practical Time Table_2023.pdf',\n",
              " 'ubuntu-20.04.3-desktop-amd64.iso',\n",
              " 'ubuntu-20.04.4-live-server-amd64.iso',\n",
              " 'UFF2839058.pdf',\n",
              " 'University of Bristol PG Guide_2023.pdf',\n",
              " 'Vedanshu Draft letter to PM.docx',\n",
              " 'Vedanshu Photo 1.jpeg',\n",
              " 'Vedanshu Photo 2.jpeg',\n",
              " 'Vedanshu Photo 3.jpeg',\n",
              " 'Vedanshu Photo 4.jpeg',\n",
              " 'Vedanshu Photo.jpeg',\n",
              " 'Vedanshu vaccine certificate.pdf',\n",
              " 'Vedanshu.jpg',\n",
              " 'vedantshu',\n",
              " 'vertopal.com_0016317_anchor-penta-angle-holder_600.art',\n",
              " 'VID20230107163225.mp4',\n",
              " 'VID20230411170455.mp4',\n",
              " 'VID20230717123030.mp4',\n",
              " 'VID20230717124252.mp4',\n",
              " 'VID20230717124356.mp4',\n",
              " 'VID20230717132204.mp4',\n",
              " 'VID20230721161130.mp4',\n",
              " 'VID20230721174201 (mp3cut.net).m4a',\n",
              " 'VID20230721174201.mp4',\n",
              " 'VID20230726142807.mp4',\n",
              " 'VID_20230402_182224 720p Edited.mp4',\n",
              " 'VID_20230402_191416 (online-video-cutter.com).mp4',\n",
              " 'VSCodeUserSetup-x64-1.58.2.exe',\n",
              " 'VSCodeUserSetup-x64-1.84.0.exe',\n",
              " 'WhatsApp Image 2021-08-27 at 2.28.34 PM.jpeg',\n",
              " 'WhatsApp Image 2023-07-26 at 2.34.18 PM.jpeg',\n",
              " 'WhatsApp Image 2023-07-26 at 2.34.18 PM.jpg',\n",
              " 'WhatsApp Image 2023-08-14 at 3.49.34 PM.jpeg',\n",
              " 'WhatsApp Image 2023-08-14 at 3.49.34 PMM-min.jpg',\n",
              " 'WhatsApp Image 2023-09-05 at 8.48.16 AM.jpeg',\n",
              " 'WhatsApp Image 2023-09-05 at 8.48.17 AM.jpeg',\n",
              " 'WhatsApp Image 2023-09-05 at 8.48.18 AM.jpeg',\n",
              " 'WhatsApp Image 2023-09-08 at 3.47.33 PM.jpeg',\n",
              " 'WhatsApp Image 2024-01-05 at 15.18.52.jpeg',\n",
              " 'WhatsApp Image 2024-01-05 at 15.18.52.pdf',\n",
              " 'WhatsApp Video 2023-04-21 at 1.58.28 PM (online-video-cutter.com).mp4',\n",
              " 'WhatsApp Video 2023-04-21 at 1.58.28 PM.mp4',\n",
              " 'WhatsApp Video 2023-04-21 at 1.58.37 PM.mp4',\n",
              " 'winrar-x64-591.exe',\n",
              " 'wp2422279.jpg',\n",
              " 'X XII Marksheets.pdf',\n",
              " 'X2Download.app - Tera ban jaunga karaoke (320 kbps).mp3',\n",
              " 'y2mate.com - Stay.mp3',\n",
              " 'y2mate.com - Tokyo Drift  Teriyaki Boyz PedroDJDaddy Remix Bass Boosted.mp3',\n",
              " 'Your boarding pass to MUMBAI -AIR INDIA (1).pdf',\n",
              " 'Your boarding pass to MUMBAI -AIR INDIA (2).pdf',\n",
              " 'Your boarding pass to MUMBAI -AIR INDIA (3).pdf',\n",
              " 'Your boarding pass to MUMBAI -AIR INDIA (4).pdf',\n",
              " 'Your boarding pass to MUMBAI -AIR INDIA (5).pdf',\n",
              " 'Your boarding pass to MUMBAI -AIR INDIA (6).pdf',\n",
              " 'Your boarding pass to MUMBAI -AIR INDIA (7).pdf',\n",
              " 'Your boarding pass to MUMBAI -AIR INDIA.pdf',\n",
              " '—Slidesdocs—car light effect light red_6201fd378c',\n",
              " '—Slidesdocs—car light effect light red_6201fd378c.zip']"
            ]
          },
          "execution_count": 133,
          "metadata": {},
          "output_type": "execute_result"
        }
      ],
      "source": [
        "df = pd.DataFrame(Xtrain)\n",
        "excel_file_name = \"TRAIN.xlsx\"\n",
        "df.to_excel(excel_file_name, index=False)\n",
        "\n",
        "# Confirm that the file has been saved\n",
        "import os\n",
        "os.listdir()"
      ]
    },
    {
      "cell_type": "code",
      "execution_count": 134,
      "metadata": {
        "colab": {
          "base_uri": "https://localhost:8080/"
        },
        "id": "49pSUPCkoj25",
        "outputId": "c4572ebb-0abb-4aec-c3ce-04f77db39159"
      },
      "outputs": [
        {
          "data": {
            "text/plain": [
              "['160685-car-template-16x9.pptx',\n",
              " '20220114094625610.pdf',\n",
              " '2023_09_07 10_49 AM Office Lens (1).pdf',\n",
              " '2023_09_07 10_49 AM Office Lens (1)_page-0001.jpg',\n",
              " '20240104_165522.jpg',\n",
              " '20240104_165522.pdf',\n",
              " '360notes.txt',\n",
              " '382488.jpg',\n",
              " '3b7356e4807665656618d11c643ad6df9ab0d475f79a0354c9e24468c8b08f2a.mp4',\n",
              " '40165936113_20220128095033657513.pdf',\n",
              " '5VID_20230402_174337 (online-video-cutter.com).mp4',\n",
              " '6VID_20230402_181445 (online-video-cutter.com).mp4',\n",
              " '7VID_20230402_182224 720p Edited (online-video-cutter.com).mp4',\n",
              " 'a-lively-parisian-street-scene-at-dusk-with-people-and-cafes-impressionism-vis-qaym1lyd.jpeg',\n",
              " 'AARTI FINAL.docx',\n",
              " 'Academic LOR sample.pdf',\n",
              " 'additional costs computing.pdf',\n",
              " 'Ai Mini project Pandas (1).zip',\n",
              " 'AI_1.pdf',\n",
              " 'AI_Index_Sem5_2023-24.docx',\n",
              " 'andoridproject',\n",
              " 'Android-Attendance-App-2023',\n",
              " 'Angular Charts (1).docx',\n",
              " 'app-debug.zip',\n",
              " 'app-my-health-main',\n",
              " 'applform.pdf',\n",
              " 'APznzaYxH9j2uw_oUDQjxYwxjxlYjUdUpQ8q-W-4mSkRncVigKXtgectHywpQDM4cCz5IeDgtRzyomUV_9mSlQxN8GiocpgqfFtg-qKs31udjIJj8NZBGsWEVr7BOv2S-CMGauAcAgPoaolNBAEEj5nwWnWh9f5DGvPJP8i22lrRBpV_thEKfyXNE2RAg285EfG46nt3WFIPJRIQCAU.pdf',\n",
              " 'APznzaZQYOh_emCBpINIk0wvSQCNrrfCtLqHRtLY_zdvsni-PAU7Q9F93bo_kvsClT7TSsCe4_X5INQLbG14UYjvXGg63hPThk60RTixgxRlcnJc_cqkEofnamoLkjdQUZXTibcvkmRdRdwVScdS1Wo3w5TtkUw6LLty3woCbEYrPhH46C6UdYTY0j1mYg9HKzvbTbWtREamWwC9gdu.pdf',\n",
              " 'archive',\n",
              " 'arduino-ide_2.2.1_Windows_64bit.exe',\n",
              " 'autogaze-app',\n",
              " 'autogaze-app-216f1c6a96c611fc0c226b675795be7b67e6b147',\n",
              " 'autogaze-app-216f1c6a96c611fc0c226b675795be7b67e6b147 (4).zip',\n",
              " 'autogaze-app-4c8e80ae2803ea4cb31565c33295f4eabe27a863',\n",
              " 'autogaze-app-main',\n",
              " 'autogaze-app-main.zip',\n",
              " 'autogaze-app-sp2-vedanshu',\n",
              " 'autogaze-app-tillprofile',\n",
              " 'Automotive Mechanics Project Proposal by Slidesgo.pptx',\n",
              " 'AWS.docx',\n",
              " 'Bachelors Marksheets.pdf',\n",
              " 'Bank Of Mirzapur doc.docx',\n",
              " 'Bank Of Mirzapur.pdf',\n",
              " 'Bike Insurance.pdf',\n",
              " 'Bike video - Made with Clipchamp.mp4',\n",
              " 'BingWallpaper.exe',\n",
              " 'Biodata.docx',\n",
              " 'Bldg. No. 169.pdf',\n",
              " 'BLESampleExpo-main',\n",
              " 'boardingpass_KFZ83Q_JSABOM.pdf',\n",
              " 'Book1.json',\n",
              " 'Book1.xlsx',\n",
              " 'CapCut_2_1_0_419_capcutpc_0.exe',\n",
              " 'Car1twoweeks.json',\n",
              " 'Car1twoweeks.xlsx',\n",
              " 'CarsTable.json',\n",
              " 'CarsTable.xlsx',\n",
              " 'Caste Validity Certificate Vedanshu.pdf',\n",
              " 'CC PRACTICAL 2.docx',\n",
              " 'clideo_editor_332c321335fb45a0adc93186272dce4a.mp4',\n",
              " 'code stqa (1).txt',\n",
              " 'code stqa.txt',\n",
              " 'contacts.csv',\n",
              " 'contacts.py',\n",
              " 'CP210x_Universal_Windows_Driver',\n",
              " 'Cryptography and Network Security - Prins and Pract. 5th ed - W. Stallings (Pearson, 2011) BBSbb.pdf',\n",
              " 'curriculum1012202394622.pdf',\n",
              " 'curriculum1012202394642.pdf',\n",
              " 'curriculum1012202394653.pdf',\n",
              " 'curriculum1012202395800.pdf',\n",
              " 'curriculum1012202395816.pdf',\n",
              " 'curriculum1013202380021.pdf',\n",
              " 'cv87425855_vedanshu-kocharekar_odjrws.pdf',\n",
              " 'cy-shopify-demo_v2.zip',\n",
              " 'CyPress',\n",
              " 'desktop.ini',\n",
              " 'DOC Pandas in python (1).docx',\n",
              " 'DOC-20230619-WA0016_',\n",
              " 'DOC-20230619-WA0016_ (1)',\n",
              " 'Document from Ulka Kudtarkar.docx',\n",
              " 'Document from Ulka Kudtarkar.pdf',\n",
              " 'Documents - Shortcut.lnk',\n",
              " 'drive-download-20230430T163513Z-001',\n",
              " 'DS Practical 3.docx',\n",
              " 'DSC_0267.JPG',\n",
              " 'DSC_0268.JPG',\n",
              " 'DSC_0269.JPG',\n",
              " 'DSC_0398.JPG',\n",
              " 'DT20235056019_Application.pdf',\n",
              " 'e69bcd7763bcd01a4722b175158e507c.jpg',\n",
              " 'eclipse-inst-jre-win64.exe',\n",
              " 'Ethical Hacking Practical 1a.docx',\n",
              " 'Ethical Hacking Practical 3(A).docx',\n",
              " 'excel-to-json.json',\n",
              " 'ezgif.com-video-to-mp4.mp4',\n",
              " 'Fee Recipt Ruia FY.jpg',\n",
              " 'FinalProject',\n",
              " 'flaskserver.py',\n",
              " 'Form6_S13179O6N1109231200003.pdf.pdf',\n",
              " 'Form8_S13179O8O1209231200000.pdf.pdf',\n",
              " 'Form8_S13179O8O1209231200001.pdf.pdf',\n",
              " 'Gazzette Recipt.pdf',\n",
              " 'Grading Sheet.pdf',\n",
              " 'header.liquid',\n",
              " 'hp laptop serial no..jpg',\n",
              " 'IMG20230614122453.jpg',\n",
              " 'IMG20230614122509.jpg',\n",
              " 'IMG20230614122516.jpg',\n",
              " 'IMG20230614122517.jpg',\n",
              " 'IMG20230614122639.jpg',\n",
              " 'IMG20230614122648.jpg',\n",
              " 'IMG20230614122654.jpg',\n",
              " 'IMG20230614122709.jpg',\n",
              " 'IMG_0012.JPG',\n",
              " 'IMG_0016.JPG',\n",
              " 'IMG_1430.MOV',\n",
              " 'IMG_20230407_095037.jpg',\n",
              " 'IMG_6812.HEIC',\n",
              " 'IMG_7105.mp4',\n",
              " 'IMG_7109.MOV',\n",
              " 'IMG_7148.mp4',\n",
              " 'IMG_7148_MOV_AdobeExpress.mp4',\n",
              " 'IMG_7195.HEIC',\n",
              " 'IMG_7214.HEIC',\n",
              " 'IMG_7225.HEIC',\n",
              " 'IMG_7230.HEIC',\n",
              " 'IMG_7236.HEIC',\n",
              " 'Income Certificate 2022 (1).docx',\n",
              " 'Income Certificate 2022 (2).docx',\n",
              " 'Income Certificate 2022.docx',\n",
              " 'INDEMNITY BOND CUM UNDERTAKING CUM AFFIDAVIT BY LEGAL HEIRS MR. JAYWANT BABURAO KOCHAREKAR & OTHERS (Flat No. 4733 - 169, PANT NAGAR PHULRANI CHSL) (1).docx',\n",
              " 'INDEMNITY BOND CUM UNDERTAKING CUM AFFIDAVIT BY LEGAL HEIRS MR. JAYWANT BABURAO KOCHAREKAR & OTHERS (Flat No. 4733 - 169, PANT NAGAR PHULRANI CHSL) (2).docx',\n",
              " 'INDEMNITY BOND CUM UNDERTAKING CUM AFFIDAVIT BY LEGAL HEIRS MR. JAYWANT BABURAO KOCHAREKAR & OTHERS (Flat No. 4733 - 169, PANT NAGAR PHULRANI CHSL).docx',\n",
              " 'Indemnity Bond F.docx',\n",
              " 'index (1).tsx',\n",
              " 'index.tsx',\n",
              " 'IntelAndroidDrvSetup1.10.0.zip',\n",
              " 'INTENT-AWARE RECOMMENDATION SYSTEM.pdf',\n",
              " 'International Guide 2023-24.pdf',\n",
              " 'Internshala Resume.docx',\n",
              " 'Introduction to Cryptography and Network Security.pdf',\n",
              " 'Iobit',\n",
              " 'Iobit (3).zip',\n",
              " 'Jaywant Kranti Marriage Certificate.pdf',\n",
              " 'Jaywant vaccine certificate.pdf',\n",
              " 'jdk-18.0.1.1_windows-x64_bin.exe',\n",
              " 'jdk-7u80-windows-x64.exe',\n",
              " 'jdk-8u101-windows-x64.exe',\n",
              " 'jdk-8u202-windows-x64.exe',\n",
              " 'jre-8u333-windows-x64.exe',\n",
              " 'json_to_firestore',\n",
              " 'kali-linux-2023.2-virtualbox-amd64',\n",
              " 'KOCHREKAR SOCIETY LETTER PDF.doc',\n",
              " 'KOCHREKAR SOCIETY LETTER PDF.pages',\n",
              " 'leaving.pdf',\n",
              " 'LOR Employer.docx',\n",
              " 'LOR Employer.pdf',\n",
              " 'LOR Professional (1).docx',\n",
              " 'LOR Professional.docx',\n",
              " 'LOR Teacher.docx',\n",
              " 'LOR Vedanshu.pdf',\n",
              " 'LOR2 Vedanshu.pdf',\n",
              " 'marriagecertificate.pdf',\n",
              " 'mclaren-720s-gt3-1549636513.jpg',\n",
              " 'mercedes-benz-amg.jpg',\n",
              " 'model.joblib',\n",
              " 'model.onnx',\n",
              " 'mrkocharF.xls',\n",
              " 'Mrudula Passport Appointment Reciept2.pdf',\n",
              " 'Mrudula vaccine certificate.pdf',\n",
              " 'MRUDULA_KOCHAREKAR (1).docx',\n",
              " 'Mrunalini death certificate.jpeg',\n",
              " 'Music - Shortcut.lnk',\n",
              " 'my_data.xlsx',\n",
              " 'NameChangeAppFormEng (1).pdf',\n",
              " 'NameChangeAppFormEng.pdf',\n",
              " 'NF91128343857298.ETicket.pdf',\n",
              " 'NF98197345756130_BoardingPass.pdf',\n",
              " 'node-v18.18.0-x64.msi',\n",
              " 'node_modules',\n",
              " 'NumberOperations.html',\n",
              " 'numbers',\n",
              " 'obd-exploratory-data-analysis.ipynb',\n",
              " 'obdmodelbuilding.ipynb',\n",
              " 'openjdk-8u41-b04-windows-i586-14_jan_2020',\n",
              " 'openjfx-18.0.2_windows-x86_bin-sdk',\n",
              " 'OracleXE213_Win64',\n",
              " 'package-lock.json',\n",
              " 'package.json',\n",
              " 'pancard.jpeg',\n",
              " 'Pandurang Hari.pdf',\n",
              " 'Passport Vedanshu.pdf',\n",
              " 'PaymentReceipt.pdf',\n",
              " 'phulraniletter.docx',\n",
              " 'platform-tools_r33.0.3-windows',\n",
              " 'play-svgrepo-com.svg',\n",
              " 'Postman.txt',\n",
              " 'PRACTICAL NO 08.docx',\n",
              " 'Pranita_Kadge_Resume.pdf',\n",
              " 'Previuos year.pdf',\n",
              " 'product-detail-snippet.txt',\n",
              " 'Profile.pdf',\n",
              " 'Python practical_4 Strings question.py',\n",
              " 'python-3.9.7-amd64.exe',\n",
              " 'R123.doc',\n",
              " 'ReactNativeArduinoBLE-main',\n",
              " 'Receipt_118759 (1).pdf',\n",
              " 'Receipt_118759.pdf',\n",
              " 'receipt_63227 Mhada.pdf',\n",
              " 'Release Deed F.docx',\n",
              " 'RELEASE DEED MRS. VISHAKHA VIVEK KOCHREKAR TO MR. JAYWANT BABURAO KOCHAREKAR & OTHERS (FLAT NO. 4733 – 169 - PANT NAGAR PHULRANI CHSL) 5% SHARES OF 20% SHARES FROM 100% SHARES (1).docx',\n",
              " 'RELEASE DEED MRS. VISHAKHA VIVEK KOCHREKAR TO MR. JAYWANT BABURAO KOCHAREKAR & OTHERS (FLAT NO. 4733 – 169 - PANT NAGAR PHULRANI CHSL) 5% SHARES OF 20% SHARES FROM 100% SHARES (2).docx',\n",
              " 'RELEASE DEED MRS. VISHAKHA VIVEK KOCHREKAR TO MR. JAYWANT BABURAO KOCHAREKAR & OTHERS (FLAT NO. 4733 – 169 - PANT NAGAR PHULRANI CHSL) 5% SHARES OF 20% SHARES FROM 100% SHARES.docx',\n",
              " 'Resume.xml',\n",
              " 'resumevedanshu.doc',\n",
              " 'ResumeVedanshu.pdf',\n",
              " 'rightarrowblack.png',\n",
              " 'robofriends',\n",
              " 'royal-enfield-engine-interceptor-650cc-start-on-off-idle-close-perspective-51770.mp3',\n",
              " 'RUIA BSCCS APPLICATION (MU)_compressed.pdf',\n",
              " 'RUIA Fee Payment Recipt.pdf',\n",
              " 'Saibaba wallpaper.jpg',\n",
              " 'Saurabh Finance01.txt',\n",
              " 'Screenshare folder',\n",
              " 'Screenshot 2023-04-14 192057.jpg',\n",
              " 'Screenshot 2023-06-16 171125.jpg',\n",
              " 'Screenshot 2023-06-16 171804.jpg',\n",
              " 'Screenshot 2023-06-16 171950.jpg',\n",
              " 'Screenshot_2024-01-22-12-10-48-43.jpg',\n",
              " 'Screenshot_2024-01-22-12-11-59-64.jpg',\n",
              " 'Screenshot_2024-01-22-12-12-23-25.jpg',\n",
              " 'Screenshot_2024-01-22-12-13-00-70.jpg',\n",
              " 'SEM6_PreviousYearQuestionPaper.pdf',\n",
              " 'SimpleAndroid',\n",
              " 'Snapchat-297162656.jpg',\n",
              " 'Snapchat-428808473.jpg',\n",
              " 'SoftwareDeveloperLetter.TXT',\n",
              " 'SOP Edit.docx',\n",
              " 'Statement of Purpose Coventry.docx',\n",
              " 'Statement of Purpose Ireland Cyber.docx',\n",
              " 'Statement of Purpose Ireland UCD.docx',\n",
              " 'Statement of Purpose Ireland.docx',\n",
              " 'Statement of Purpose MMU Cyber.docx',\n",
              " 'Statement of Purpose UK Cyber MMU - Copy.docx',\n",
              " 'Statement of Purpose UK.docx',\n",
              " 'Step-Sense-main',\n",
              " 'Step-Sense-main.zip',\n",
              " 'STQA Mini Project Group3 Cypress (1).docx',\n",
              " 'STQA Practical 2.docx',\n",
              " 'SURAJ NIKAM_RESUME (1).pdf',\n",
              " 'SVGRepo_iconCarrier (1).jpg',\n",
              " 'SVGRepo_iconCarrier.jpg',\n",
              " \"Techstorm all certificates winners (with Principal's sign) 16-2-2022.pdf\",\n",
              " 'TEST.xlsx',\n",
              " 'TestData.xlsx',\n",
              " 'To principal.docx',\n",
              " 'tp',\n",
              " 'TRAIN.xlsx',\n",
              " 'TransferNow-TechStorm CL Meet',\n",
              " 'Trips_Flight_DownloadETicket (1).pdf',\n",
              " 'Trips_Flight_DownloadETicket (2) (1).pdf',\n",
              " 'Trips_Flight_DownloadETicket (2).pdf',\n",
              " 'Trips_Flight_DownloadETicket (3).pdf',\n",
              " 'Trips_Flight_DownloadETicket (4).pdf',\n",
              " 'Trips_Flight_DownloadETicket.pdf',\n",
              " 'Trips_Hotel_DownloadETicket (1).pdf',\n",
              " 'Trips_Hotel_DownloadETicket (3).pdf',\n",
              " 'Trips_Hotel_DownloadETicket (5).pdf',\n",
              " 'Trips_Hotel_DownloadETicket.pdf',\n",
              " 'TV purchase Invoice Croma.eml',\n",
              " 'twilio recovery code.txt',\n",
              " 'Ty Admission Application.pdf',\n",
              " 'TY Project Index 2023-24.docx',\n",
              " 'TY Sem VI Internal Test TT and Syllabus 2024.docx',\n",
              " 'TY_Practical Time Table_2023.pdf',\n",
              " 'ubuntu-20.04.3-desktop-amd64.iso',\n",
              " 'ubuntu-20.04.4-live-server-amd64.iso',\n",
              " 'UFF2839058.pdf',\n",
              " 'University of Bristol PG Guide_2023.pdf',\n",
              " 'Vedanshu Draft letter to PM.docx',\n",
              " 'Vedanshu Photo 1.jpeg',\n",
              " 'Vedanshu Photo 2.jpeg',\n",
              " 'Vedanshu Photo 3.jpeg',\n",
              " 'Vedanshu Photo 4.jpeg',\n",
              " 'Vedanshu Photo.jpeg',\n",
              " 'Vedanshu vaccine certificate.pdf',\n",
              " 'Vedanshu.jpg',\n",
              " 'vedantshu',\n",
              " 'vertopal.com_0016317_anchor-penta-angle-holder_600.art',\n",
              " 'VID20230107163225.mp4',\n",
              " 'VID20230411170455.mp4',\n",
              " 'VID20230717123030.mp4',\n",
              " 'VID20230717124252.mp4',\n",
              " 'VID20230717124356.mp4',\n",
              " 'VID20230717132204.mp4',\n",
              " 'VID20230721161130.mp4',\n",
              " 'VID20230721174201 (mp3cut.net).m4a',\n",
              " 'VID20230721174201.mp4',\n",
              " 'VID20230726142807.mp4',\n",
              " 'VID_20230402_182224 720p Edited.mp4',\n",
              " 'VID_20230402_191416 (online-video-cutter.com).mp4',\n",
              " 'VSCodeUserSetup-x64-1.58.2.exe',\n",
              " 'VSCodeUserSetup-x64-1.84.0.exe',\n",
              " 'WhatsApp Image 2021-08-27 at 2.28.34 PM.jpeg',\n",
              " 'WhatsApp Image 2023-07-26 at 2.34.18 PM.jpeg',\n",
              " 'WhatsApp Image 2023-07-26 at 2.34.18 PM.jpg',\n",
              " 'WhatsApp Image 2023-08-14 at 3.49.34 PM.jpeg',\n",
              " 'WhatsApp Image 2023-08-14 at 3.49.34 PMM-min.jpg',\n",
              " 'WhatsApp Image 2023-09-05 at 8.48.16 AM.jpeg',\n",
              " 'WhatsApp Image 2023-09-05 at 8.48.17 AM.jpeg',\n",
              " 'WhatsApp Image 2023-09-05 at 8.48.18 AM.jpeg',\n",
              " 'WhatsApp Image 2023-09-08 at 3.47.33 PM.jpeg',\n",
              " 'WhatsApp Image 2024-01-05 at 15.18.52.jpeg',\n",
              " 'WhatsApp Image 2024-01-05 at 15.18.52.pdf',\n",
              " 'WhatsApp Video 2023-04-21 at 1.58.28 PM (online-video-cutter.com).mp4',\n",
              " 'WhatsApp Video 2023-04-21 at 1.58.28 PM.mp4',\n",
              " 'WhatsApp Video 2023-04-21 at 1.58.37 PM.mp4',\n",
              " 'winrar-x64-591.exe',\n",
              " 'wp2422279.jpg',\n",
              " 'X XII Marksheets.pdf',\n",
              " 'X2Download.app - Tera ban jaunga karaoke (320 kbps).mp3',\n",
              " 'y2mate.com - Stay.mp3',\n",
              " 'y2mate.com - Tokyo Drift  Teriyaki Boyz PedroDJDaddy Remix Bass Boosted.mp3',\n",
              " 'Your boarding pass to MUMBAI -AIR INDIA (1).pdf',\n",
              " 'Your boarding pass to MUMBAI -AIR INDIA (2).pdf',\n",
              " 'Your boarding pass to MUMBAI -AIR INDIA (3).pdf',\n",
              " 'Your boarding pass to MUMBAI -AIR INDIA (4).pdf',\n",
              " 'Your boarding pass to MUMBAI -AIR INDIA (5).pdf',\n",
              " 'Your boarding pass to MUMBAI -AIR INDIA (6).pdf',\n",
              " 'Your boarding pass to MUMBAI -AIR INDIA (7).pdf',\n",
              " 'Your boarding pass to MUMBAI -AIR INDIA.pdf',\n",
              " '—Slidesdocs—car light effect light red_6201fd378c',\n",
              " '—Slidesdocs—car light effect light red_6201fd378c.zip']"
            ]
          },
          "execution_count": 134,
          "metadata": {},
          "output_type": "execute_result"
        }
      ],
      "source": [
        "df = pd.DataFrame(ytrain)\n",
        "excel_file_name = \"TEST.xlsx\"\n",
        "df.to_excel(excel_file_name, index=False)\n",
        "\n",
        "# Confirm that the file has been saved\n",
        "import os\n",
        "os.listdir()"
      ]
    },
    {
      "cell_type": "code",
      "execution_count": 135,
      "metadata": {
        "colab": {
          "base_uri": "https://localhost:8080/"
        },
        "id": "af9mSwZYGTj-",
        "outputId": "8b9045dc-a8d0-4cdc-e5aa-8a57b91e7dfa"
      },
      "outputs": [
        {
          "data": {
            "text/plain": [
              "(9503, 21)"
            ]
          },
          "execution_count": 135,
          "metadata": {},
          "output_type": "execute_result"
        }
      ],
      "source": [
        "Xtest.shape # testing data"
      ]
    },
    {
      "cell_type": "code",
      "execution_count": 136,
      "metadata": {
        "colab": {
          "base_uri": "https://localhost:8080/"
        },
        "id": "CvqPNZChGXTb",
        "outputId": "e9f0f597-fd4a-46e2-dbbe-9eb61f4fd63d"
      },
      "outputs": [
        {
          "data": {
            "text/plain": [
              "(38011, 3)"
            ]
          },
          "execution_count": 136,
          "metadata": {},
          "output_type": "execute_result"
        }
      ],
      "source": [
        "ytrain.shape # target variable for training  data"
      ]
    },
    {
      "cell_type": "code",
      "execution_count": 137,
      "metadata": {
        "colab": {
          "base_uri": "https://localhost:8080/"
        },
        "id": "oYmVbuhaDV1H",
        "outputId": "73c34107-2bae-48b3-8d7c-d0a7e7f66741"
      },
      "outputs": [
        {
          "data": {
            "text/plain": [
              "(9503, 3)"
            ]
          },
          "execution_count": 137,
          "metadata": {},
          "output_type": "execute_result"
        }
      ],
      "source": [
        "ytest.shape # target variable for test data"
      ]
    },
    {
      "cell_type": "code",
      "execution_count": 138,
      "metadata": {
        "id": "PmgFtr13L2GL"
      },
      "outputs": [],
      "source": [
        "from sklearn.multioutput import MultiOutputClassifier\n",
        "from sklearn.tree import DecisionTreeClassifier\n",
        "\n",
        "multi_output_model = MultiOutputClassifier(DecisionTreeClassifier())\n",
        "multi_output_model.fit(Xtrain, ytrain)\n",
        "y_pred = multi_output_model.predict(Xtrain)\n",
        "\n"
      ]
    },
    {
      "cell_type": "code",
      "execution_count": 139,
      "metadata": {
        "colab": {
          "base_uri": "https://localhost:8080/"
        },
        "id": "j0Z-5zFJNJgz",
        "outputId": "27c902d0-99d6-41ef-9d20-5f1f7a8480b9"
      },
      "outputs": [
        {
          "name": "stdout",
          "output_type": "stream",
          "text": [
            "[[ 0  0  0]\n",
            " [ 1  0  0]\n",
            " [ 3  9 11]\n",
            " ...\n",
            " [ 0  0  0]\n",
            " [ 0  0  0]\n",
            " [ 0  0  0]]\n"
          ]
        }
      ],
      "source": [
        "print(y_pred)"
      ]
    },
    {
      "cell_type": "code",
      "execution_count": 140,
      "metadata": {
        "id": "h0EYTEKDSKT5"
      },
      "outputs": [],
      "source": [
        "ytainar = np.array(ytrain)"
      ]
    },
    {
      "cell_type": "code",
      "execution_count": 141,
      "metadata": {
        "colab": {
          "base_uri": "https://localhost:8080/"
        },
        "id": "Kn-vTUEdHJ2T",
        "outputId": "e41e6e53-c9a2-46ab-a228-04374836d62d"
      },
      "outputs": [
        {
          "name": "stdout",
          "output_type": "stream",
          "text": [
            "       columns1  columns2  columns3\n",
            "4420          0         0         0\n",
            "23257         1         0         0\n",
            "46847         3         9        11\n",
            "28611         0         0         0\n",
            "37834         0         0         0\n",
            "...         ...       ...       ...\n",
            "11284         0         0         0\n",
            "44732         0         0         0\n",
            "38158         0         0         0\n",
            "860           0         0         0\n",
            "15795         0         0         0\n",
            "\n",
            "[38011 rows x 3 columns]\n"
          ]
        }
      ],
      "source": [
        "print(ytrain)"
      ]
    },
    {
      "cell_type": "code",
      "execution_count": 142,
      "metadata": {
        "colab": {
          "base_uri": "https://localhost:8080/"
        },
        "id": "imEz_MeqSWHb",
        "outputId": "bd9cdaef-0a51-4cd6-b86d-86b7720b5af9"
      },
      "outputs": [
        {
          "name": "stdout",
          "output_type": "stream",
          "text": [
            "[[ 0  0  0]\n",
            " [ 1  0  0]\n",
            " [ 3  9 11]\n",
            " ...\n",
            " [ 0  0  0]\n",
            " [ 0  0  0]\n",
            " [ 0  0  0]]\n"
          ]
        }
      ],
      "source": [
        "print(ytainar)"
      ]
    },
    {
      "cell_type": "code",
      "execution_count": 143,
      "metadata": {
        "id": "E9YtuT5HRhld"
      },
      "outputs": [],
      "source": [
        "from sklearn.metrics import jaccard_score\n",
        "\n",
        "# Assuming y_true and y_pred are two-dimensional arrays\n",
        "# Iterate over each output dimension\n",
        "jaccard_scores = []\n",
        "\n",
        "for i in range(ytainar.shape[1]):\n",
        "    jaccard = jaccard_score(ytainar[:, i], y_pred[:, i], average='micro')\n",
        "    jaccard_scores.append(jaccard)"
      ]
    },
    {
      "cell_type": "code",
      "execution_count": 144,
      "metadata": {
        "id": "t9FTOsE6TP2L"
      },
      "outputs": [],
      "source": [
        "mean_jaccard = np.mean(jaccard_scores)"
      ]
    },
    {
      "cell_type": "code",
      "execution_count": 145,
      "metadata": {
        "colab": {
          "base_uri": "https://localhost:8080/"
        },
        "id": "wgxPSb61TQ2r",
        "outputId": "8eb86e01-8d03-4226-c530-04167791ff80"
      },
      "outputs": [
        {
          "name": "stdout",
          "output_type": "stream",
          "text": [
            "overall acccuracy = 0.9999824616787681\n"
          ]
        }
      ],
      "source": [
        "print(f'overall acccuracy = {mean_jaccard}')"
      ]
    },
    {
      "cell_type": "code",
      "execution_count": 146,
      "metadata": {
        "id": "mawa6ge0U3aZ"
      },
      "outputs": [],
      "source": [
        "# lets see for test dataset\n",
        "ytestpred = multi_output_model.predict(Xtest)"
      ]
    },
    {
      "cell_type": "code",
      "execution_count": 147,
      "metadata": {
        "colab": {
          "base_uri": "https://localhost:8080/"
        },
        "id": "CU00Vhj9W5jx",
        "outputId": "c3ddde6b-905d-46c2-d180-9d8148f3c41e"
      },
      "outputs": [
        {
          "data": {
            "text/plain": [
              "array([[0, 0, 0],\n",
              "       [2, 0, 0],\n",
              "       [0, 0, 0],\n",
              "       ...,\n",
              "       [0, 0, 0],\n",
              "       [0, 0, 0],\n",
              "       [0, 0, 0]], dtype=int64)"
            ]
          },
          "execution_count": 147,
          "metadata": {},
          "output_type": "execute_result"
        }
      ],
      "source": [
        "ytestpred"
      ]
    },
    {
      "cell_type": "code",
      "execution_count": 148,
      "metadata": {
        "id": "20Vo1kJcXAuk"
      },
      "outputs": [],
      "source": [
        "ytestsss = np.array(ytest)"
      ]
    },
    {
      "cell_type": "code",
      "execution_count": 149,
      "metadata": {
        "id": "iHfo57IrVl--"
      },
      "outputs": [],
      "source": [
        "jaccard_scores = []\n",
        "\n",
        "for i in range(ytestsss.shape[1]):\n",
        "    jaccard = jaccard_score(ytestsss[:, i], ytestpred[:, i], average='micro')\n",
        "    jaccard_scores.append(jaccard)"
      ]
    },
    {
      "cell_type": "code",
      "execution_count": 150,
      "metadata": {
        "colab": {
          "base_uri": "https://localhost:8080/"
        },
        "id": "1M1JcYdcXgSl",
        "outputId": "f8b77422-6def-4660-c137-0b6a9147431f"
      },
      "outputs": [
        {
          "name": "stdout",
          "output_type": "stream",
          "text": [
            "0.987382657741836\n"
          ]
        }
      ],
      "source": [
        "mean_jaccard = np.mean(jaccard_scores)\n",
        "print(mean_jaccard)"
      ]
    },
    {
      "cell_type": "code",
      "execution_count": 151,
      "metadata": {
        "colab": {
          "base_uri": "https://localhost:8080/"
        },
        "id": "zytAt576oyYI",
        "outputId": "d9a24453-2247-4e1a-ba47-57c53842f154"
      },
      "outputs": [
        {
          "name": "stdout",
          "output_type": "stream",
          "text": [
            "[[ 3  9 11]]\n"
          ]
        }
      ],
      "source": [
        "INP = [[0.9997265567,0.99847793,0.009090909091,0.9107142857,0.4819277108,0.007497385926,0.3057544418,0.3068181818,0.4489795918,0.08391608392,0.02276086957,0.004178520626,0.01289003467,0,0.4222222222,0.1333333333,0.05263157895,1,0.380952381,0,0.8461538462]]\n",
        "\n",
        "pred = multi_output_model.predict(INP)\n",
        "print(pred)\n",
        "\n"
      ]
    },
    {
      "cell_type": "code",
      "execution_count": 152,
      "metadata": {
        "colab": {
          "base_uri": "https://localhost:8080/"
        },
        "id": "k2CiZPQwtWer",
        "outputId": "433c523e-071d-4f0c-a540-98c7733b7ee4"
      },
      "outputs": [
        {
          "name": "stdout",
          "output_type": "stream",
          "text": [
            "[[2 0 0]]\n"
          ]
        }
      ],
      "source": [
        "inp = [[0.9988565175,0.9994926433,0.01363636364,0.9107142857,0.5662650602,0.007230416694,0.2447626624,0.3295454545,0.2040816327,0.03496503497,0.01969565217,0.002689366999,0.01088985688,0.1132075472,0.3333333333,0.1111111111,0.02631578947,1,0.3333333333,0.5,0.6153846154]]\n",
        "\n",
        "pred = multi_output_model.predict(inp)\n",
        "print(pred)"
      ]
    },
    {
      "cell_type": "code",
      "execution_count": 153,
      "metadata": {
        "colab": {
          "base_uri": "https://localhost:8080/"
        },
        "id": "DO9OPT_DuIZz",
        "outputId": "368f2e18-8312-411b-fc63-37aad578bc5a"
      },
      "outputs": [
        {
          "name": "stdout",
          "output_type": "stream",
          "text": [
            "[[ 5 15 14]]\n"
          ]
        }
      ],
      "source": [
        "ii = [[0.9997269201,0.99847793,0.009090909091,0.9107142857,0.843373494,0.005940065407,0.2818880933,0.2840909091,0.4285714286,0.04895104895,0.02106521739,0.003489509246,0.01289003467,0,0.4222222222,0.1333333333,0.05263157895,1,0.380952381,0,0.8461538462]]\n",
        "\n",
        "pred = multi_output_model.predict(ii)\n",
        "print(pred)\n",
        "\n"
      ]
    },
    {
      "cell_type": "code",
      "execution_count": 160,
      "metadata": {},
      "outputs": [
        {
          "ename": "ModuleNotFoundError",
          "evalue": "No module named 'imutils'",
          "output_type": "error",
          "traceback": [
            "\u001b[1;31m---------------------------------------------------------------------------\u001b[0m",
            "\u001b[1;31mModuleNotFoundError\u001b[0m                       Traceback (most recent call last)",
            "Cell \u001b[1;32mIn[160], line 17\u001b[0m\n\u001b[0;32m     15\u001b[0m \u001b[38;5;28;01mfrom\u001b[39;00m \u001b[38;5;21;01msklearn\u001b[39;00m\u001b[38;5;21;01m.\u001b[39;00m\u001b[38;5;21;01mmodel_selection\u001b[39;00m \u001b[38;5;28;01mimport\u001b[39;00m train_test_split\n\u001b[0;32m     16\u001b[0m \u001b[38;5;28;01mfrom\u001b[39;00m \u001b[38;5;21;01msklearn\u001b[39;00m\u001b[38;5;21;01m.\u001b[39;00m\u001b[38;5;21;01mmetrics\u001b[39;00m \u001b[38;5;28;01mimport\u001b[39;00m classification_report\n\u001b[1;32m---> 17\u001b[0m \u001b[38;5;28;01mfrom\u001b[39;00m \u001b[38;5;21;01mimutils\u001b[39;00m \u001b[38;5;28;01mimport\u001b[39;00m paths\n\u001b[0;32m     18\u001b[0m \u001b[38;5;28;01mimport\u001b[39;00m \u001b[38;5;21;01mmatplotlib\u001b[39;00m\u001b[38;5;21;01m.\u001b[39;00m\u001b[38;5;21;01mpyplot\u001b[39;00m \u001b[38;5;28;01mas\u001b[39;00m \u001b[38;5;21;01mplt\u001b[39;00m\n\u001b[0;32m     19\u001b[0m \u001b[38;5;28;01mimport\u001b[39;00m \u001b[38;5;21;01mnumpy\u001b[39;00m \u001b[38;5;28;01mas\u001b[39;00m \u001b[38;5;21;01mnp\u001b[39;00m\n",
            "\u001b[1;31mModuleNotFoundError\u001b[0m: No module named 'imutils'"
          ]
        }
      ],
      "source": [
        "from tensorflow.keras.preprocessing.image import ImageDataGenerator\n",
        "from tensorflow.keras.applications import MobileNetV2\n",
        "from tensorflow.keras.layers import AveragePooling2D\n",
        "from tensorflow.keras.layers import Dropout\n",
        "from tensorflow.keras.layers import Flatten\n",
        "from tensorflow.keras.layers import Dense\n",
        "from tensorflow.keras.layers import Input\n",
        "from tensorflow.keras.models import Model\n",
        "from tensorflow.keras.optimizers import Adam\n",
        "from tensorflow.keras.applications.mobilenet_v2 import preprocess_input\n",
        "from tensorflow.keras.preprocessing.image import img_to_array\n",
        "from tensorflow.keras.preprocessing.image import load_img\n",
        "from tensorflow.keras.utils import to_categorical\n",
        "from sklearn.preprocessing import LabelBinarizer\n",
        "from sklearn.model_selection import train_test_split\n",
        "from sklearn.metrics import classification_report\n",
        "from imutils import paths\n",
        "import matplotlib.pyplot as plt\n",
        "import numpy as np\n",
        "import argparse\n",
        "import os\n",
        "multi_output_model.save(\"C:/Users/Vedanshu/Downloads/model.h5\")\n",
        "# import tensorflow as tf\n",
        "\n",
        "# # Define the path to save the TensorFlow Lite model\n",
        "# tflite_model_path = 'C:/Users/Vedanshu/Downloads/model.tflite'\n",
        "\n",
        "# # Convert the model to TensorFlow Lite format\n",
        "# converter = tf.lite.TFLiteConverter.from_keras_model(multi_output_model)\n",
        "# tflite_model = converter.convert()\n",
        "\n",
        "# # Save the TensorFlow Lite model to a file\n",
        "# with open(tflite_model_path, 'wb') as f:\n",
        "#     f.write(tflite_model)\n",
        "\n",
        "# print(f'TensorFlow Lite model saved to: {tflite_model_path}')"
      ]
    }
  ],
  "metadata": {
    "colab": {
      "provenance": []
    },
    "kernelspec": {
      "display_name": "Python 3",
      "name": "python3"
    },
    "language_info": {
      "codemirror_mode": {
        "name": "ipython",
        "version": 3
      },
      "file_extension": ".py",
      "mimetype": "text/x-python",
      "name": "python",
      "nbconvert_exporter": "python",
      "pygments_lexer": "ipython3",
      "version": "3.9.7"
    }
  },
  "nbformat": 4,
  "nbformat_minor": 0
}
